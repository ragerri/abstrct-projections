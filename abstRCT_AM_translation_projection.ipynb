{
 "cells": [
  {
   "cell_type": "markdown",
   "id": "8a8c69ff",
   "metadata": {},
   "source": [
    "# Argument(ation) mining"
   ]
  },
  {
   "cell_type": "markdown",
   "id": "001c0586",
   "metadata": {},
   "source": [
    "## Table of Contents(maybe remove)\n",
    "\n",
    "- [Argument Components](#arg_comp)\n",
    "    * [Load Data](#load_data)\n",
    "    * [Components distribution](#comp_dist)\n",
    "    * [Transformer-based Argument Mining for Healthcare Applications](#ecai2020)\n",
    "    * [Argument components classification results](#comp_clf)\n",
    "        - Results: pre-problem identification\n",
    "        - Results: post-problem identification\n",
    "* [Translation and projections](#translation_projection)\n",
    "    - Translations\n",
    "    - Projections\n",
    "- [Zero-shot](#zero-shot)\n",
    "    - Train (ES) + test(ES)\n",
    "    - BETO\n",
    "    - Data augumentation results => train(EN + ES), test(ES), test(EN)\n",
    "    - \n",
    "    \n",
    "* [Relation Classification](#rel_clf)\n",
    "    - Results"
   ]
  },
  {
   "cell_type": "markdown",
   "id": "e7f351e2",
   "metadata": {},
   "source": [
    "<a class='anchor' id='arg_comp'></a>\n",
    "# Argument Components "
   ]
  },
  {
   "cell_type": "code",
   "execution_count": 3,
   "id": "35fe0c1c",
   "metadata": {},
   "outputs": [],
   "source": [
    "import pandas as pd\n",
    "import glob\n",
    "import os"
   ]
  },
  {
   "cell_type": "markdown",
   "id": "64b0dd46",
   "metadata": {},
   "source": [
    "<a id='load_data'></a>\n",
    "### Load data "
   ]
  },
  {
   "cell_type": "markdown",
   "id": "bec70daf",
   "metadata": {},
   "source": [
    "Load AbstRCT data that contains .txt and .ann files for each category of disease "
   ]
  },
  {
   "cell_type": "code",
   "execution_count": 5,
   "id": "4d37a783",
   "metadata": {},
   "outputs": [],
   "source": [
    "neoplasm_trn = 'abstrct-master/AbstRCT_corpus/data/train/neoplasm_train/'\n",
    "neoplasm_tst = 'abstrct-master/AbstRCT_corpus/data/dev/neoplasm_dev/'\n",
    "neoplasm_dv = 'abstrct-master/AbstRCT_corpus/data/test/neoplasm_test/'\n",
    "mixed = 'abstrct-master/AbstRCT_corpus/data/test/mixed_test/'\n",
    "glaucoma = 'abstrct-master/AbstRCT_corpus/data/test/glaucoma_test/'\n",
    "\n",
    "\n",
    "def get_annotated_data(url):\n",
    "    files = glob.glob(url+\"/*.ann\")\n",
    "\n",
    "    \n",
    "    df = pd.DataFrame()\n",
    "    for f in files:\n",
    "\n",
    "        df_temp = pd.read_csv(f, sep='\\t', header = None)\n",
    "        df = df.append(df_temp)\n",
    "        df['url'] = f[50:-4]\n",
    "    df.dropna(inplace=True)\n",
    "    df.reset_index(inplace=True)\n",
    "    return df\n",
    "\n",
    "# Neoplasm\n",
    "neoplasm_train = get_annotated_data(neoplasm_trn)\n",
    "neoplasm_test = get_annotated_data(neoplasm_tst)\n",
    "neoplasm_dev = get_annotated_data(neoplasm_dv)\n",
    "\n",
    "# Glaucoma\n",
    "glaucoma_test = get_annotated_data(glaucoma)\n",
    "\n",
    "# Mixed\n",
    "mixed_test = get_annotated_data(mixed)"
   ]
  },
  {
   "cell_type": "code",
   "execution_count": 6,
   "id": "5a482945",
   "metadata": {},
   "outputs": [
    {
     "data": {
      "text/html": [
       "<div>\n",
       "<style scoped>\n",
       "    .dataframe tbody tr th:only-of-type {\n",
       "        vertical-align: middle;\n",
       "    }\n",
       "\n",
       "    .dataframe tbody tr th {\n",
       "        vertical-align: top;\n",
       "    }\n",
       "\n",
       "    .dataframe thead th {\n",
       "        text-align: right;\n",
       "    }\n",
       "</style>\n",
       "<table border=\"1\" class=\"dataframe\">\n",
       "  <thead>\n",
       "    <tr style=\"text-align: right;\">\n",
       "      <th></th>\n",
       "      <th>index</th>\n",
       "      <th>0</th>\n",
       "      <th>1</th>\n",
       "      <th>2</th>\n",
       "      <th>url</th>\n",
       "    </tr>\n",
       "  </thead>\n",
       "  <tbody>\n",
       "    <tr>\n",
       "      <th>0</th>\n",
       "      <td>0</td>\n",
       "      <td>T1</td>\n",
       "      <td>Premise 761 825</td>\n",
       "      <td>The overall remission rate was 87% with 31% co...</td>\n",
       "      <td>-master/AbstRCT_corpus/data/train/neoplasm_tra...</td>\n",
       "    </tr>\n",
       "    <tr>\n",
       "      <th>1</th>\n",
       "      <td>1</td>\n",
       "      <td>T2</td>\n",
       "      <td>Premise 826 932</td>\n",
       "      <td>The median survival of all 406 eligible patien...</td>\n",
       "      <td>-master/AbstRCT_corpus/data/train/neoplasm_tra...</td>\n",
       "    </tr>\n",
       "    <tr>\n",
       "      <th>2</th>\n",
       "      <td>2</td>\n",
       "      <td>T3</td>\n",
       "      <td>Premise 933 1107</td>\n",
       "      <td>The overall remission rate, the rate of comple...</td>\n",
       "      <td>-master/AbstRCT_corpus/data/train/neoplasm_tra...</td>\n",
       "    </tr>\n",
       "    <tr>\n",
       "      <th>3</th>\n",
       "      <td>3</td>\n",
       "      <td>T4</td>\n",
       "      <td>Premise 1108 1248</td>\n",
       "      <td>In limited disease the estimated percentages o...</td>\n",
       "      <td>-master/AbstRCT_corpus/data/train/neoplasm_tra...</td>\n",
       "    </tr>\n",
       "    <tr>\n",
       "      <th>4</th>\n",
       "      <td>4</td>\n",
       "      <td>T5</td>\n",
       "      <td>Premise 1249 1437</td>\n",
       "      <td>Patients with extensive disease survived signi...</td>\n",
       "      <td>-master/AbstRCT_corpus/data/train/neoplasm_tra...</td>\n",
       "    </tr>\n",
       "  </tbody>\n",
       "</table>\n",
       "</div>"
      ],
      "text/plain": [
       "   index   0                  1  \\\n",
       "0      0  T1    Premise 761 825   \n",
       "1      1  T2    Premise 826 932   \n",
       "2      2  T3   Premise 933 1107   \n",
       "3      3  T4  Premise 1108 1248   \n",
       "4      4  T5  Premise 1249 1437   \n",
       "\n",
       "                                                   2  \\\n",
       "0  The overall remission rate was 87% with 31% co...   \n",
       "1  The median survival of all 406 eligible patien...   \n",
       "2  The overall remission rate, the rate of comple...   \n",
       "3  In limited disease the estimated percentages o...   \n",
       "4  Patients with extensive disease survived signi...   \n",
       "\n",
       "                                                 url  \n",
       "0  -master/AbstRCT_corpus/data/train/neoplasm_tra...  \n",
       "1  -master/AbstRCT_corpus/data/train/neoplasm_tra...  \n",
       "2  -master/AbstRCT_corpus/data/train/neoplasm_tra...  \n",
       "3  -master/AbstRCT_corpus/data/train/neoplasm_tra...  \n",
       "4  -master/AbstRCT_corpus/data/train/neoplasm_tra...  "
      ]
     },
     "execution_count": 6,
     "metadata": {},
     "output_type": "execute_result"
    }
   ],
   "source": [
    "neoplasm_train.head()"
   ]
  },
  {
   "cell_type": "code",
   "execution_count": 7,
   "id": "bd6bab67",
   "metadata": {},
   "outputs": [
    {
     "data": {
      "text/html": [
       "<div>\n",
       "<style scoped>\n",
       "    .dataframe tbody tr th:only-of-type {\n",
       "        vertical-align: middle;\n",
       "    }\n",
       "\n",
       "    .dataframe tbody tr th {\n",
       "        vertical-align: top;\n",
       "    }\n",
       "\n",
       "    .dataframe thead th {\n",
       "        text-align: right;\n",
       "    }\n",
       "</style>\n",
       "<table border=\"1\" class=\"dataframe\">\n",
       "  <thead>\n",
       "    <tr style=\"text-align: right;\">\n",
       "      <th></th>\n",
       "      <th>index</th>\n",
       "      <th>0</th>\n",
       "      <th>1</th>\n",
       "      <th>2</th>\n",
       "      <th>url</th>\n",
       "    </tr>\n",
       "  </thead>\n",
       "  <tbody>\n",
       "    <tr>\n",
       "      <th>0</th>\n",
       "      <td>0</td>\n",
       "      <td>T1</td>\n",
       "      <td>Premise 683 812</td>\n",
       "      <td>Percentage of IOP reduction or the magnitude o...</td>\n",
       "      <td>-master/AbstRCT_corpus/data/test/glaucoma_test...</td>\n",
       "    </tr>\n",
       "    <tr>\n",
       "      <th>1</th>\n",
       "      <td>1</td>\n",
       "      <td>T2</td>\n",
       "      <td>Premise 813 982</td>\n",
       "      <td>In the visual field, the estimated rate of cha...</td>\n",
       "      <td>-master/AbstRCT_corpus/data/test/glaucoma_test...</td>\n",
       "    </tr>\n",
       "    <tr>\n",
       "      <th>2</th>\n",
       "      <td>2</td>\n",
       "      <td>T3</td>\n",
       "      <td>Premise 983 1130</td>\n",
       "      <td>The estimated rate of change in MD showed no s...</td>\n",
       "      <td>-master/AbstRCT_corpus/data/test/glaucoma_test...</td>\n",
       "    </tr>\n",
       "    <tr>\n",
       "      <th>3</th>\n",
       "      <td>3</td>\n",
       "      <td>T4</td>\n",
       "      <td>Premise 1131 1292</td>\n",
       "      <td>No changes in the optic nerve head topography ...</td>\n",
       "      <td>-master/AbstRCT_corpus/data/test/glaucoma_test...</td>\n",
       "    </tr>\n",
       "    <tr>\n",
       "      <th>4</th>\n",
       "      <td>4</td>\n",
       "      <td>T5</td>\n",
       "      <td>Premise 1293 1378</td>\n",
       "      <td>There were no patients who dropped out due to ...</td>\n",
       "      <td>-master/AbstRCT_corpus/data/test/glaucoma_test...</td>\n",
       "    </tr>\n",
       "  </tbody>\n",
       "</table>\n",
       "</div>"
      ],
      "text/plain": [
       "   index   0                  1  \\\n",
       "0      0  T1    Premise 683 812   \n",
       "1      1  T2    Premise 813 982   \n",
       "2      2  T3   Premise 983 1130   \n",
       "3      3  T4  Premise 1131 1292   \n",
       "4      4  T5  Premise 1293 1378   \n",
       "\n",
       "                                                   2  \\\n",
       "0  Percentage of IOP reduction or the magnitude o...   \n",
       "1  In the visual field, the estimated rate of cha...   \n",
       "2  The estimated rate of change in MD showed no s...   \n",
       "3  No changes in the optic nerve head topography ...   \n",
       "4  There were no patients who dropped out due to ...   \n",
       "\n",
       "                                                 url  \n",
       "0  -master/AbstRCT_corpus/data/test/glaucoma_test...  \n",
       "1  -master/AbstRCT_corpus/data/test/glaucoma_test...  \n",
       "2  -master/AbstRCT_corpus/data/test/glaucoma_test...  \n",
       "3  -master/AbstRCT_corpus/data/test/glaucoma_test...  \n",
       "4  -master/AbstRCT_corpus/data/test/glaucoma_test...  "
      ]
     },
     "execution_count": 7,
     "metadata": {},
     "output_type": "execute_result"
    }
   ],
   "source": [
    "glaucoma_test.head()"
   ]
  },
  {
   "cell_type": "code",
   "execution_count": 8,
   "id": "bf45e676",
   "metadata": {},
   "outputs": [
    {
     "name": "stdout",
     "output_type": "stream",
     "text": [
      "<class 'pandas.core.frame.DataFrame'>\n",
      "RangeIndex: 600 entries, 0 to 599\n",
      "Data columns (total 5 columns):\n",
      " #   Column  Non-Null Count  Dtype \n",
      "---  ------  --------------  ----- \n",
      " 0   index   600 non-null    int64 \n",
      " 1   0       600 non-null    object\n",
      " 2   1       600 non-null    object\n",
      " 3   2       600 non-null    object\n",
      " 4   url     600 non-null    object\n",
      "dtypes: int64(1), object(4)\n",
      "memory usage: 23.6+ KB\n"
     ]
    }
   ],
   "source": [
    "# Neoplasm\n",
    "\n",
    "# neoplasm_train.info() #  2267\n",
    "# neoplasm_test.info() # 326\n",
    "# neoplasm_dev.info() # 686\n",
    "\n",
    "# Glaucoma\n",
    "# glaucoma_test.info() # 594\n",
    "\n",
    "# Mixed\n",
    "mixed_test.info()  # 600"
   ]
  },
  {
   "cell_type": "code",
   "execution_count": 9,
   "id": "a8e7ff57",
   "metadata": {
    "scrolled": true
   },
   "outputs": [
    {
     "name": "stdout",
     "output_type": "stream",
     "text": [
      "<class 'pandas.core.frame.DataFrame'>\n",
      "RangeIndex: 686 entries, 0 to 685\n",
      "Data columns (total 5 columns):\n",
      " #   Column  Non-Null Count  Dtype \n",
      "---  ------  --------------  ----- \n",
      " 0   index   686 non-null    int64 \n",
      " 1   0       686 non-null    object\n",
      " 2   1       686 non-null    object\n",
      " 3   2       686 non-null    object\n",
      " 4   url     686 non-null    object\n",
      "dtypes: int64(1), object(4)\n",
      "memory usage: 26.9+ KB\n"
     ]
    }
   ],
   "source": [
    "neoplasm_dev.info()"
   ]
  },
  {
   "cell_type": "markdown",
   "id": "7eefd7c2",
   "metadata": {},
   "source": [
    "**Add column of relation component type**"
   ]
  },
  {
   "cell_type": "code",
   "execution_count": 11,
   "id": "baf45a63",
   "metadata": {},
   "outputs": [],
   "source": [
    "def relation_components(df):\n",
    "    components = list(df[1])\n",
    "    comp_list = []\n",
    "    for c in components:\n",
    "        comp_list.append(c.split()[0])\n",
    "    df['relation_components'] = comp_list\n",
    "\n",
    "    return df\n",
    "\n",
    "neoplasm_train = relation_components(neoplasm_train)\n",
    "neoplasm_test = relation_components(neoplasm_test)\n",
    "neoplasm_dev = relation_components(neoplasm_dev)\n",
    "\n",
    "glaucoma_test = relation_components(glaucoma_test)\n",
    "\n",
    "mixed_test = relation_components(mixed_test)"
   ]
  },
  {
   "cell_type": "code",
   "execution_count": 12,
   "id": "9e127b27",
   "metadata": {},
   "outputs": [
    {
     "data": {
      "text/html": [
       "<div>\n",
       "<style scoped>\n",
       "    .dataframe tbody tr th:only-of-type {\n",
       "        vertical-align: middle;\n",
       "    }\n",
       "\n",
       "    .dataframe tbody tr th {\n",
       "        vertical-align: top;\n",
       "    }\n",
       "\n",
       "    .dataframe thead th {\n",
       "        text-align: right;\n",
       "    }\n",
       "</style>\n",
       "<table border=\"1\" class=\"dataframe\">\n",
       "  <thead>\n",
       "    <tr style=\"text-align: right;\">\n",
       "      <th></th>\n",
       "      <th>index</th>\n",
       "      <th>0</th>\n",
       "      <th>1</th>\n",
       "      <th>2</th>\n",
       "      <th>url</th>\n",
       "      <th>relation_components</th>\n",
       "    </tr>\n",
       "  </thead>\n",
       "  <tbody>\n",
       "    <tr>\n",
       "      <th>0</th>\n",
       "      <td>0</td>\n",
       "      <td>T1</td>\n",
       "      <td>Premise 763 1114</td>\n",
       "      <td>In sildenafil versus placebo arms, week-12 6MW...</td>\n",
       "      <td>-master/AbstRCT_corpus/data/test/mixed_test/28...</td>\n",
       "      <td>Premise</td>\n",
       "    </tr>\n",
       "    <tr>\n",
       "      <th>1</th>\n",
       "      <td>1</td>\n",
       "      <td>T2</td>\n",
       "      <td>Premise 1188 1295</td>\n",
       "      <td>Changes in WHO functional class and Borg dyspn...</td>\n",
       "      <td>-master/AbstRCT_corpus/data/test/mixed_test/28...</td>\n",
       "      <td>Premise</td>\n",
       "    </tr>\n",
       "    <tr>\n",
       "      <th>2</th>\n",
       "      <td>2</td>\n",
       "      <td>T3</td>\n",
       "      <td>Premise 1296 1363</td>\n",
       "      <td>Headache, diarrhoea, and flushing were more co...</td>\n",
       "      <td>-master/AbstRCT_corpus/data/test/mixed_test/28...</td>\n",
       "      <td>Premise</td>\n",
       "    </tr>\n",
       "    <tr>\n",
       "      <th>3</th>\n",
       "      <td>3</td>\n",
       "      <td>T4</td>\n",
       "      <td>Claim 1364 1497</td>\n",
       "      <td>Sildenafil, in addition to stable (≥3 months) ...</td>\n",
       "      <td>-master/AbstRCT_corpus/data/test/mixed_test/28...</td>\n",
       "      <td>Claim</td>\n",
       "    </tr>\n",
       "    <tr>\n",
       "      <th>4</th>\n",
       "      <td>0</td>\n",
       "      <td>T1</td>\n",
       "      <td>Premise 1287 1583</td>\n",
       "      <td>Responses (&gt; or = 50% improvement) were seen i...</td>\n",
       "      <td>-master/AbstRCT_corpus/data/test/mixed_test/28...</td>\n",
       "      <td>Premise</td>\n",
       "    </tr>\n",
       "  </tbody>\n",
       "</table>\n",
       "</div>"
      ],
      "text/plain": [
       "   index   0                  1  \\\n",
       "0      0  T1   Premise 763 1114   \n",
       "1      1  T2  Premise 1188 1295   \n",
       "2      2  T3  Premise 1296 1363   \n",
       "3      3  T4    Claim 1364 1497   \n",
       "4      0  T1  Premise 1287 1583   \n",
       "\n",
       "                                                   2  \\\n",
       "0  In sildenafil versus placebo arms, week-12 6MW...   \n",
       "1  Changes in WHO functional class and Borg dyspn...   \n",
       "2  Headache, diarrhoea, and flushing were more co...   \n",
       "3  Sildenafil, in addition to stable (≥3 months) ...   \n",
       "4  Responses (> or = 50% improvement) were seen i...   \n",
       "\n",
       "                                                 url relation_components  \n",
       "0  -master/AbstRCT_corpus/data/test/mixed_test/28...             Premise  \n",
       "1  -master/AbstRCT_corpus/data/test/mixed_test/28...             Premise  \n",
       "2  -master/AbstRCT_corpus/data/test/mixed_test/28...             Premise  \n",
       "3  -master/AbstRCT_corpus/data/test/mixed_test/28...               Claim  \n",
       "4  -master/AbstRCT_corpus/data/test/mixed_test/28...             Premise  "
      ]
     },
     "execution_count": 12,
     "metadata": {},
     "output_type": "execute_result"
    }
   ],
   "source": [
    "mixed_test.head()"
   ]
  },
  {
   "cell_type": "markdown",
   "id": "d3428264",
   "metadata": {},
   "source": [
    "<a id='comp_dist'></a>\n",
    "### Component distributions"
   ]
  },
  {
   "cell_type": "code",
   "execution_count": 30,
   "id": "8c1a68b9",
   "metadata": {},
   "outputs": [
    {
     "name": "stdout",
     "output_type": "stream",
     "text": [
      "Neoplasm train:\n",
      "\n",
      " Premise       1537\n",
      "Claim          666\n",
      "MajorClaim      64\n",
      "Name: relation_components, dtype: int64 \n",
      "\n",
      "Neoplasm test:\n",
      "\n",
      " Premise       218\n",
      "Claim          99\n",
      "MajorClaim      9\n",
      "Name: relation_components, dtype: int64 \n",
      "\n",
      "Neoplasm dev: \n",
      "\n",
      " Premise       438\n",
      "Claim         228\n",
      "MajorClaim     20\n",
      "Name: relation_components, dtype: int64 \n",
      "\n",
      "Glaucoma test: \n",
      "\n",
      " Premise       404\n",
      "Claim         183\n",
      "MajorClaim      7\n",
      "Name: relation_components, dtype: int64 \n",
      "\n",
      "Mixed test: \n",
      "\n",
      " Premise       388\n",
      "Claim         182\n",
      "MajorClaim     30\n",
      "Name: relation_components, dtype: int64 \n",
      "\n"
     ]
    }
   ],
   "source": [
    "print(\"Neoplasm train:\\n\\n\", neoplasm_train['relation_components'].value_counts(), '\\n')\n",
    "print(\"Neoplasm test:\\n\\n\" , neoplasm_test['relation_components'].value_counts(), '\\n')\n",
    "print(\"Neoplasm dev: \\n\\n\", neoplasm_dev['relation_components'].value_counts(), '\\n')\n",
    "# print('\\n')\n",
    "print(\"Glaucoma test: \\n\\n\",glaucoma_test['relation_components'].value_counts(), '\\n')\n",
    "# print('\\n')\n",
    "print('Mixed test: \\n\\n', mixed_test['relation_components'].value_counts(), '\\n')"
   ]
  },
  {
   "cell_type": "code",
   "execution_count": null,
   "id": "9025cb0c",
   "metadata": {},
   "outputs": [],
   "source": []
  },
  {
   "cell_type": "code",
   "execution_count": 17,
   "id": "8e55b454",
   "metadata": {},
   "outputs": [
    {
     "name": "stdout",
     "output_type": "stream",
     "text": [
      "Mean number of symbols per line - NEOPLASM: \n",
      "\n",
      "\t train set:  138\n",
      "\t test set:  143\n",
      "\t dev set:  135\n",
      "\n",
      "\n",
      "Mean number of symbols per line - GLAUCOMA:  138\n",
      "\n",
      "\n",
      "Mean number of symbols per line - MIXED:  145\n"
     ]
    }
   ],
   "source": [
    "print('Mean number of symbols per line - NEOPLASM: \\n')\n",
    "print(\"\\t train set: \", int(neoplasm_train[2].apply(lambda x: len(x)).mean()))\n",
    "print(\"\\t test set: \", int(neoplasm_test[2].apply(lambda x: len(x)).mean()))\n",
    "print(\"\\t dev set: \", int(neoplasm_dev[2].apply(lambda x: len(x)).mean()))\n",
    "print('\\n')\n",
    "print('Mean number of symbols per line - GLAUCOMA: ', int(glaucoma_test[2].apply(lambda x: len(x)).mean()))\n",
    "print('\\n')\n",
    "print('Mean number of symbols per line - MIXED: ', int(mixed_test[2].apply(lambda x: len(x)).mean()))\n"
   ]
  },
  {
   "cell_type": "code",
   "execution_count": 46,
   "id": "b72df7a9",
   "metadata": {},
   "outputs": [
    {
     "name": "stdout",
     "output_type": "stream",
     "text": [
      "Mean number of words per line - NEOPLASM: \n",
      "\n",
      "\t train set:  21\n",
      "\t test set:  22\n",
      "\t dev set:  20\n",
      "\n",
      "\n",
      "Mean number of words per line - GLAUCOMA:  21\n",
      "\n",
      "\n",
      "Mean number of words per line - MIXED:  22\n"
     ]
    }
   ],
   "source": [
    "print('Mean number of words per line - NEOPLASM: \\n')\n",
    "print(\"\\t train set: \", int(neoplasm_train[2].apply(lambda x: len(x.split())).mean()))\n",
    "print(\"\\t test set: \", int(neoplasm_test[2].apply(lambda x: len(x.split())).mean()))\n",
    "print(\"\\t dev set: \", int(neoplasm_dev[2].apply(lambda x: len(x.split())).mean()))\n",
    "print('\\n')\n",
    "print('Mean number of words per line - GLAUCOMA: ', int(glaucoma_test[2].apply(lambda x: len(x.split())).mean()))\n",
    "print('\\n')\n",
    "print('Mean number of words per line - MIXED: ', int(mixed_test[2].apply(lambda x: len(x.split())).mean()))"
   ]
  },
  {
   "cell_type": "markdown",
   "id": "fbb3717e",
   "metadata": {},
   "source": [
    "**[ Biran and Rambow (2011)] found that premises are longer on the average than other sentences.** Yes"
   ]
  },
  {
   "cell_type": "code",
   "execution_count": 42,
   "id": "038bd00a",
   "metadata": {},
   "outputs": [
    {
     "name": "stdout",
     "output_type": "stream",
     "text": [
      "Neoplasm train: \n",
      "\n",
      "Mean length of MajorClaim:  16.484375\n",
      "Mean length of Claim:  19.064564564564563\n",
      "Mean length of Premise:  22.657124268054652\n"
     ]
    }
   ],
   "source": [
    "print('Neoplasm train: \\n')\n",
    "print('Mean length of MajorClaim: ',neoplasm_train[neoplasm_train['relation_components'] == 'MajorClaim'][2].apply(lambda x: len(x.split())).mean())\n",
    "print('Mean length of Claim: ',neoplasm_train[neoplasm_train['relation_components'] == 'Claim'][2].apply(lambda x: len(x.split())).mean())\n",
    "print('Mean length of Premise: ',neoplasm_train[neoplasm_train['relation_components'] == 'Premise'][2].apply(lambda x: len(x.split())).mean())"
   ]
  },
  {
   "cell_type": "code",
   "execution_count": 47,
   "id": "687bbe13",
   "metadata": {},
   "outputs": [
    {
     "name": "stdout",
     "output_type": "stream",
     "text": [
      "Glaucoma test: \n",
      "\n",
      "Mean length of MajorClaim:  16.142857142857142\n",
      "Mean length of Claim:  16.950819672131146\n",
      "Mean length of Premise:  23.925742574257427\n"
     ]
    }
   ],
   "source": [
    "print('Glaucoma test: \\n')\n",
    "print('Mean length of MajorClaim: ',glaucoma_test[glaucoma_test['relation_components'] == 'MajorClaim'][2].apply(lambda x: len(x.split())).mean())\n",
    "print('Mean length of Claim: ',glaucoma_test[glaucoma_test['relation_components'] == 'Claim'][2].apply(lambda x: len(x.split())).mean())\n",
    "print('Mean length of Premise: ',glaucoma_test[glaucoma_test['relation_components'] == 'Premise'][2].apply(lambda x: len(x.split())).mean())"
   ]
  },
  {
   "cell_type": "code",
   "execution_count": 48,
   "id": "4835f92a",
   "metadata": {},
   "outputs": [
    {
     "name": "stdout",
     "output_type": "stream",
     "text": [
      "Mixed test: \n",
      "\n",
      "Mean length of MajorClaim:  17.633333333333333\n",
      "Mean length of Claim:  17.78021978021978\n",
      "Mean length of Premise:  24.75\n"
     ]
    }
   ],
   "source": [
    "print('Mixed test: \\n')\n",
    "print('Mean length of MajorClaim: ',mixed_test[mixed_test['relation_components'] == 'MajorClaim'][2].apply(lambda x: len(x.split())).mean())\n",
    "print('Mean length of Claim: ',mixed_test[mixed_test['relation_components'] == 'Claim'][2].apply(lambda x: len(x.split())).mean())\n",
    "print('Mean length of Premise: ',mixed_test[mixed_test['relation_components'] == 'Premise'][2].apply(lambda x: len(x.split())).mean())"
   ]
  },
  {
   "cell_type": "code",
   "execution_count": null,
   "id": "85e52f51",
   "metadata": {},
   "outputs": [],
   "source": []
  },
  {
   "cell_type": "markdown",
   "id": "7b248fa9",
   "metadata": {},
   "source": [
    "<a id='ecai2020'></a>\n",
    "## <a href='https://ecai2020.eu/papers/1470_paper.pdf'>Transformer-based Argument Mining for Healthcare Applications</a>\n"
   ]
  },
  {
   "cell_type": "markdown",
   "id": "dd928b9c",
   "metadata": {},
   "source": [
    "Check and compare the data compliance with data from previous section"
   ]
  },
  {
   "cell_type": "markdown",
   "id": "2289629e",
   "metadata": {},
   "source": [
    "### Neoplasm\n",
    "\n",
    "<!-- Glaucoma test:  {'Premise': 404, 'Claim': 183, 'MajorClaim': 7} -->\n",
    "\n",
    "\n",
    "<!-- Mixed test:  {'Premise': 388, 'Claim': 182, 'MajorClaim': 30} -->"
   ]
  },
  {
   "cell_type": "code",
   "execution_count": 49,
   "id": "86aadc03",
   "metadata": {},
   "outputs": [
    {
     "data": {
      "text/html": [
       "<div>\n",
       "<style scoped>\n",
       "    .dataframe tbody tr th:only-of-type {\n",
       "        vertical-align: middle;\n",
       "    }\n",
       "\n",
       "    .dataframe tbody tr th {\n",
       "        vertical-align: top;\n",
       "    }\n",
       "\n",
       "    .dataframe thead th {\n",
       "        text-align: right;\n",
       "    }\n",
       "</style>\n",
       "<table border=\"1\" class=\"dataframe\">\n",
       "  <thead>\n",
       "    <tr style=\"text-align: right;\">\n",
       "      <th></th>\n",
       "      <th>0</th>\n",
       "      <th>1</th>\n",
       "      <th>2</th>\n",
       "      <th>3</th>\n",
       "      <th>4</th>\n",
       "    </tr>\n",
       "  </thead>\n",
       "  <tbody>\n",
       "    <tr>\n",
       "      <th>0</th>\n",
       "      <td>0</td>\n",
       "      <td>Facial</td>\n",
       "      <td>_</td>\n",
       "      <td>_</td>\n",
       "      <td>B-Claim</td>\n",
       "    </tr>\n",
       "    <tr>\n",
       "      <th>1</th>\n",
       "      <td>1</td>\n",
       "      <td>hirsutism</td>\n",
       "      <td>_</td>\n",
       "      <td>_</td>\n",
       "      <td>I-Claim</td>\n",
       "    </tr>\n",
       "    <tr>\n",
       "      <th>2</th>\n",
       "      <td>2</td>\n",
       "      <td>is</td>\n",
       "      <td>_</td>\n",
       "      <td>_</td>\n",
       "      <td>I-Claim</td>\n",
       "    </tr>\n",
       "    <tr>\n",
       "      <th>3</th>\n",
       "      <td>3</td>\n",
       "      <td>one</td>\n",
       "      <td>_</td>\n",
       "      <td>_</td>\n",
       "      <td>I-Claim</td>\n",
       "    </tr>\n",
       "    <tr>\n",
       "      <th>4</th>\n",
       "      <td>4</td>\n",
       "      <td>of</td>\n",
       "      <td>_</td>\n",
       "      <td>_</td>\n",
       "      <td>I-Claim</td>\n",
       "    </tr>\n",
       "  </tbody>\n",
       "</table>\n",
       "</div>"
      ],
      "text/plain": [
       "   0          1  2  3        4\n",
       "0  0     Facial  _  _  B-Claim\n",
       "1  1  hirsutism  _  _  I-Claim\n",
       "2  2         is  _  _  I-Claim\n",
       "3  3        one  _  _  I-Claim\n",
       "4  4         of  _  _  I-Claim"
      ]
     },
     "execution_count": 49,
     "metadata": {},
     "output_type": "execute_result"
    }
   ],
   "source": [
    "train_conll = pd.read_csv('ecai2020-transformer_based_am/data/neoplasm/train.conll', sep='\\t', header=None)\n",
    "test_conll = pd.read_csv('ecai2020-transformer_based_am/data/neoplasm/test.conll', sep='\\t', header=None)\n",
    "dev_conll = pd.read_csv('ecai2020-transformer_based_am/data/neoplasm/dev.conll', sep='\\t', header=None)\n",
    "train_conll.head()"
   ]
  },
  {
   "cell_type": "code",
   "execution_count": 50,
   "id": "45535efc",
   "metadata": {},
   "outputs": [
    {
     "name": "stdout",
     "output_type": "stream",
     "text": [
      "Train: \n",
      " O            61110\n",
      "I-Premise    42438\n",
      "I-Claim      14383\n",
      "B-Premise     1535\n",
      "B-Claim        729\n",
      "Name: 4, dtype: int64\n"
     ]
    }
   ],
   "source": [
    "print(\"Train: \\n\", train_conll[4].value_counts())"
   ]
  },
  {
   "cell_type": "markdown",
   "id": "363f29b8",
   "metadata": {},
   "source": [
    " > Supposed to be : **B-premise** = 1537, **B-claim** = 730 "
   ]
  },
  {
   "cell_type": "code",
   "execution_count": null,
   "id": "785905ab",
   "metadata": {},
   "outputs": [],
   "source": []
  },
  {
   "cell_type": "code",
   "execution_count": 51,
   "id": "639487af",
   "metadata": {},
   "outputs": [
    {
     "name": "stdout",
     "output_type": "stream",
     "text": [
      "Test: \n",
      " O            16739\n",
      "I-Premise    11931\n",
      "I-Claim       4677\n",
      "B-Premise      438\n",
      "B-Claim        248\n",
      "Name: 4, dtype: int64\n"
     ]
    }
   ],
   "source": [
    "print(\"Test: \\n\",test_conll[4].value_counts())"
   ]
  },
  {
   "cell_type": "markdown",
   "id": "d2482647",
   "metadata": {},
   "source": [
    "> Test => **Premise**: 218, **Claim**: 108 (99 + 9 (MajorClaim)) "
   ]
  },
  {
   "cell_type": "markdown",
   "id": "565b2eba",
   "metadata": {},
   "source": [
    "Should be compeletly different numbers according to the files in (.txt and .ann). \n",
    "\n",
    "***Looks like in .conll test is dev in .ann and vice versa.*** Yes!"
   ]
  },
  {
   "cell_type": "code",
   "execution_count": 18,
   "id": "0b4ccf70",
   "metadata": {},
   "outputs": [
    {
     "name": "stdout",
     "output_type": "stream",
     "text": [
      "Dev: \n",
      " O            9124\n",
      "I-Premise    6655\n",
      "I-Claim      2087\n",
      "B-Premise     218\n",
      "B-Claim       108\n",
      "Name: 4, dtype: int64\n"
     ]
    }
   ],
   "source": [
    "print(\"Dev: \\n\",dev_conll[4].value_counts())"
   ]
  },
  {
   "cell_type": "markdown",
   "id": "c897d723",
   "metadata": {},
   "source": [
    "(dev, test = test, dev)\n",
    "\n",
    ">  Dev => **Premise**: 438, **Claim**: 248 (228 + 20(**MajorClaim**))"
   ]
  },
  {
   "cell_type": "markdown",
   "id": "ebae3cd0",
   "metadata": {},
   "source": [
    "______________\n",
    "Dev => Premise: 218, Claim: 108 <br>\n",
    "Test => Premise: 438, Claim: 248\n",
    "______________\n"
   ]
  },
  {
   "cell_type": "markdown",
   "id": "feeb55ff",
   "metadata": {},
   "source": [
    "### Glaucoma"
   ]
  },
  {
   "cell_type": "code",
   "execution_count": 52,
   "id": "daf5bc8c",
   "metadata": {},
   "outputs": [
    {
     "data": {
      "text/html": [
       "<div>\n",
       "<style scoped>\n",
       "    .dataframe tbody tr th:only-of-type {\n",
       "        vertical-align: middle;\n",
       "    }\n",
       "\n",
       "    .dataframe tbody tr th {\n",
       "        vertical-align: top;\n",
       "    }\n",
       "\n",
       "    .dataframe thead th {\n",
       "        text-align: right;\n",
       "    }\n",
       "</style>\n",
       "<table border=\"1\" class=\"dataframe\">\n",
       "  <thead>\n",
       "    <tr style=\"text-align: right;\">\n",
       "      <th></th>\n",
       "      <th>0</th>\n",
       "      <th>1</th>\n",
       "      <th>2</th>\n",
       "      <th>3</th>\n",
       "      <th>4</th>\n",
       "    </tr>\n",
       "  </thead>\n",
       "  <tbody>\n",
       "    <tr>\n",
       "      <th>0</th>\n",
       "      <td>1</td>\n",
       "      <td>The</td>\n",
       "      <td>_</td>\n",
       "      <td>_</td>\n",
       "      <td>O</td>\n",
       "    </tr>\n",
       "    <tr>\n",
       "      <th>1</th>\n",
       "      <td>2</td>\n",
       "      <td>aim</td>\n",
       "      <td>_</td>\n",
       "      <td>_</td>\n",
       "      <td>O</td>\n",
       "    </tr>\n",
       "    <tr>\n",
       "      <th>2</th>\n",
       "      <td>3</td>\n",
       "      <td>of</td>\n",
       "      <td>_</td>\n",
       "      <td>_</td>\n",
       "      <td>O</td>\n",
       "    </tr>\n",
       "    <tr>\n",
       "      <th>3</th>\n",
       "      <td>4</td>\n",
       "      <td>this</td>\n",
       "      <td>_</td>\n",
       "      <td>_</td>\n",
       "      <td>O</td>\n",
       "    </tr>\n",
       "    <tr>\n",
       "      <th>4</th>\n",
       "      <td>5</td>\n",
       "      <td>study</td>\n",
       "      <td>_</td>\n",
       "      <td>_</td>\n",
       "      <td>O</td>\n",
       "    </tr>\n",
       "  </tbody>\n",
       "</table>\n",
       "</div>"
      ],
      "text/plain": [
       "   0      1  2  3  4\n",
       "0  1    The  _  _  O\n",
       "1  2    aim  _  _  O\n",
       "2  3     of  _  _  O\n",
       "3  4   this  _  _  O\n",
       "4  5  study  _  _  O"
      ]
     },
     "execution_count": 52,
     "metadata": {},
     "output_type": "execute_result"
    }
   ],
   "source": [
    "gl_conll = pd.read_csv('ecai2020-transformer_based_am/data/glaucoma_test/test.conll', sep='\\t', header=None)\n",
    "gl_conll.head()"
   ]
  },
  {
   "cell_type": "code",
   "execution_count": 53,
   "id": "ab54d78d",
   "metadata": {},
   "outputs": [
    {
     "name": "stdout",
     "output_type": "stream",
     "text": [
      "Glaucoma: \n",
      " O            15919\n",
      "I-Premise    11483\n",
      "I-Claim       3357\n",
      "B-Premise      404\n",
      "B-Claim        190\n",
      "Name: 4, dtype: int64\n"
     ]
    }
   ],
   "source": [
    "print(\"Glaucoma: \\n\", gl_conll[4].value_counts())"
   ]
  },
  {
   "cell_type": "markdown",
   "id": "1cb12a0a",
   "metadata": {},
   "source": [
    "> Glaucoma test:  **Premise** -> 404; **Claim**: 190 (183 + 7 (MajorClaim))"
   ]
  },
  {
   "cell_type": "code",
   "execution_count": null,
   "id": "549d2d6b",
   "metadata": {},
   "outputs": [],
   "source": []
  },
  {
   "cell_type": "markdown",
   "id": "3dbf3107",
   "metadata": {},
   "source": [
    "### Mixed"
   ]
  },
  {
   "cell_type": "code",
   "execution_count": 23,
   "id": "8a3f5b04",
   "metadata": {},
   "outputs": [
    {
     "data": {
      "text/html": [
       "<div>\n",
       "<style scoped>\n",
       "    .dataframe tbody tr th:only-of-type {\n",
       "        vertical-align: middle;\n",
       "    }\n",
       "\n",
       "    .dataframe tbody tr th {\n",
       "        vertical-align: top;\n",
       "    }\n",
       "\n",
       "    .dataframe thead th {\n",
       "        text-align: right;\n",
       "    }\n",
       "</style>\n",
       "<table border=\"1\" class=\"dataframe\">\n",
       "  <thead>\n",
       "    <tr style=\"text-align: right;\">\n",
       "      <th></th>\n",
       "      <th>0</th>\n",
       "      <th>1</th>\n",
       "      <th>2</th>\n",
       "      <th>3</th>\n",
       "      <th>4</th>\n",
       "    </tr>\n",
       "  </thead>\n",
       "  <tbody>\n",
       "    <tr>\n",
       "      <th>0</th>\n",
       "      <td>0</td>\n",
       "      <td>We</td>\n",
       "      <td>_</td>\n",
       "      <td>_</td>\n",
       "      <td>O</td>\n",
       "    </tr>\n",
       "    <tr>\n",
       "      <th>1</th>\n",
       "      <td>1</td>\n",
       "      <td>previously</td>\n",
       "      <td>_</td>\n",
       "      <td>_</td>\n",
       "      <td>O</td>\n",
       "    </tr>\n",
       "    <tr>\n",
       "      <th>2</th>\n",
       "      <td>2</td>\n",
       "      <td>reported</td>\n",
       "      <td>_</td>\n",
       "      <td>_</td>\n",
       "      <td>O</td>\n",
       "    </tr>\n",
       "    <tr>\n",
       "      <th>3</th>\n",
       "      <td>3</td>\n",
       "      <td>that</td>\n",
       "      <td>_</td>\n",
       "      <td>_</td>\n",
       "      <td>O</td>\n",
       "    </tr>\n",
       "    <tr>\n",
       "      <th>4</th>\n",
       "      <td>4</td>\n",
       "      <td>treatment</td>\n",
       "      <td>_</td>\n",
       "      <td>_</td>\n",
       "      <td>O</td>\n",
       "    </tr>\n",
       "  </tbody>\n",
       "</table>\n",
       "</div>"
      ],
      "text/plain": [
       "   0           1  2  3  4\n",
       "0  0          We  _  _  O\n",
       "1  1  previously  _  _  O\n",
       "2  2    reported  _  _  O\n",
       "3  3        that  _  _  O\n",
       "4  4   treatment  _  _  O"
      ]
     },
     "execution_count": 23,
     "metadata": {},
     "output_type": "execute_result"
    }
   ],
   "source": [
    "mx_conll = pd.read_csv('ecai2020-transformer_based_am/data/mixed_test/test.conll', sep='\\t', header=None)\n",
    "mx_conll.head()"
   ]
  },
  {
   "cell_type": "code",
   "execution_count": 24,
   "id": "27602ff9",
   "metadata": {},
   "outputs": [
    {
     "name": "stdout",
     "output_type": "stream",
     "text": [
      "Mixed: \n",
      " O            16015\n",
      "I-Premise    11767\n",
      "I-Claim       3942\n",
      "B-Premise      388\n",
      "B-Claim        212\n",
      "Name: 4, dtype: int64\n"
     ]
    }
   ],
   "source": [
    "print(\"Mixed: \\n\", mx_conll[4].value_counts())"
   ]
  },
  {
   "cell_type": "markdown",
   "id": "389b533e",
   "metadata": {},
   "source": [
    "> Mixed test:  **Premise**: 388, **Claim** : 212 (182 + 30 (MajorClaim))"
   ]
  },
  {
   "cell_type": "code",
   "execution_count": null,
   "id": "f3874e90",
   "metadata": {},
   "outputs": [],
   "source": []
  },
  {
   "cell_type": "markdown",
   "id": "18ba162c",
   "metadata": {},
   "source": [
    "### Find and fix the error in data"
   ]
  },
  {
   "cell_type": "markdown",
   "id": "d62f61c6",
   "metadata": {},
   "source": [
    "**Problem data due to the incorrect splitting in the data**\n",
    "\n",
    "Tokens have been splitted incorrectly somewhere. For example:\n",
    "    \n",
    " ***and nine symptoms ( .001 < P < . 01) , and the improvement***  - extra space in P < . 01 forces unnecessary split in the data which breaks IOB-schema logic"
   ]
  },
  {
   "cell_type": "code",
   "execution_count": null,
   "id": "43b1c6a8",
   "metadata": {},
   "outputs": [],
   "source": []
  },
  {
   "cell_type": "code",
   "execution_count": 54,
   "id": "691b9c68",
   "metadata": {},
   "outputs": [],
   "source": [
    "def check(url):\n",
    "    '''\n",
    "    Find the lines that cause the problem\n",
    "    '''\n",
    "    check_lines = []\n",
    "    with open(url, 'r') as f:\n",
    "        lines = f.readlines()\n",
    "    for i, line in enumerate(lines[:-1]):\n",
    "        if line != '\\n':\n",
    "            _, tkn, _, _, tag = line.split('\\t')\n",
    "            \n",
    "        elif line == '\\n' and lines[i+1] != '\\n' and lines[i+1].split('\\t')[4].startswith('I-'):\n",
    "            check_lines.append(i+1)\n",
    "    return check_lines"
   ]
  },
  {
   "cell_type": "code",
   "execution_count": 55,
   "id": "87952e39",
   "metadata": {},
   "outputs": [
    {
     "data": {
      "text/plain": [
       "[]"
      ]
     },
     "execution_count": 55,
     "metadata": {},
     "output_type": "execute_result"
    }
   ],
   "source": [
    "train_check = check('ecai2020-transformer_based_am/data/neoplasm/train.conll')\n",
    "train_check"
   ]
  },
  {
   "cell_type": "markdown",
   "id": "1101c1e5",
   "metadata": {},
   "source": [
    "#### Neoplasm "
   ]
  },
  {
   "cell_type": "markdown",
   "id": "ea543d45",
   "metadata": {},
   "source": [
    "<!-- \n",
    "# train_conll[train_conll[0] == 279][train_conll[1] == '4'] \n",
    "# train_conll[train_conll[0] == 359][train_conll[1] == '0001'] # 10129\t359\t0001\t_\t_\tI-Premise\n",
    "# train_conll[train_conll[0] == 400][train_conll[1] == '0002'] # 10170\t400\t0002\t_\t_\tI-Premise\n",
    "# train_conll[train_conll[0] == 213][train_conll[1] == '93'] # 11510\t213\t93\t_\t_\tI-Premise\n",
    "# train_conll[train_conll[0] == 242][train_conll[1] == '01'] # 15080\t242\t01\t_\t_\tI-Premise\n",
    "# train_conll[train_conll[0] == 271][train_conll[1] == '004'] # 33253\t271\t004\t_\t_\tI-Premise\n",
    "# train_conll[train_conll[0] == 234][train_conll[1] == 'US'] # 34268\t234\tUS\t_\t_\tI-Premise\n",
    "# train_conll[train_conll[0] == 213][train_conll[1] == '048'] # 48940\t213\t048\t_\t_\tI-Premise\n",
    "# train_conll[train_conll[0] == 189][train_conll[1] == 'pain'] # 51615\t189\tpain\t_\t_\tI-Premise\n",
    "# train_conll[train_conll[0] == 210][train_conll[1] == '12'] # 51951\t210\t12\t_\t_\tI-Premise\n",
    "# train_conll[train_conll[0] == 232][train_conll[1] == '7'] # 51973\t232\t7\t_\t_\tI-Premise\n",
    "# train_conll[train_conll[0] == 205][train_conll[1] == 'better'] # 92762\t205\tbetter\t_\t_\tI-Premise\n",
    " -->"
   ]
  },
  {
   "cell_type": "code",
   "execution_count": 189,
   "id": "69a29f8c",
   "metadata": {},
   "outputs": [
    {
     "name": "stdout",
     "output_type": "stream",
     "text": [
      "10434\n",
      "10517\n",
      "10560\n",
      "11948\n",
      "15662\n",
      "34565\n",
      "35624\n",
      "50891\n",
      "53688\n",
      "54037\n",
      "54061\n",
      "96489\n"
     ]
    }
   ],
   "source": [
    "def find_lines(arr, data):\n",
    "    '''\n",
    "    find lines that are causing problems to find out why\n",
    "    prints number of the line in the file where the incorrect labels begin \n",
    "    returns 10 tokens before and after the problematic line\n",
    "    '''\n",
    "    chunk = []\n",
    "    with open(data) as f:\n",
    "            lines = f.readlines()\n",
    "    for idx in arr:\n",
    "        start = idx - 10\n",
    "        end = idx + 10\n",
    "        print(start)\n",
    "        c = ''\n",
    "        for i, line in enumerate(lines): \n",
    "           \n",
    "            if i >= start and i <= end:\n",
    "                if line != '\\n':\n",
    "                    c += line.split('\\t')[1] + ' '\n",
    "        chunk.append(c)\n",
    "                    \n",
    "    return chunk\n",
    "        \n",
    "lines_to_check = find_lines(check_lines, 'ecai2020-transformer_based_am/data/neoplasm/train.conll')"
   ]
  },
  {
   "cell_type": "code",
   "execution_count": 190,
   "id": "8a0d54d6",
   "metadata": {},
   "outputs": [
    {
     "data": {
      "text/plain": [
       "['95 % CI = -9.6 % to -1 . 4 % ) per 4 weeks in the control group but ',\n",
       " '=.0002 , P =.0001 , and P = . 0001 , respectively , for ATP versus no ATP ) . ',\n",
       " '-0.2 % versus -2.4 % ; P = . 0002 ) ; functional scores ( +0.4 % versus -5.5 % ',\n",
       " '; 95 % CI , 0.61 to 0 . 93 ; P = .008 ) . Median survival was ',\n",
       " 'and nine symptoms ( .001 < P < . 01 ) , and the improvement ( > 10 units on ',\n",
       " 'responders indicated better physical well-being ( P = . 004 ) and mood ( P =.02 ) at month 3 ',\n",
       " 'patients than in the control group , i.e . US $ 40782 and US $ 34465 , respectively ( P ',\n",
       " 'survival rate , 31.8 % ; P = . 048 ) . Comparing survival for the two dose levels ',\n",
       " 'and resolved . Mean ( s.d . ) pain scores on the day of discharge were 1·9 ( 3·1 ',\n",
       " ', 16.2 v 14.7 months ; P = . 12 ) . LV5FU2 plus oxaliplatin gave higher frequencies of ',\n",
       " 'common toxicity criteria grade 3/4 neutropenia ( 41 . 7 % v 5.3 % of patients ) , grade 3/4 ',\n",
       " 'QOL ( p < 0.05 ) ( i.e . better global health status , and physical and emotional functioning , ']"
      ]
     },
     "execution_count": 190,
     "metadata": {},
     "output_type": "execute_result"
    }
   ],
   "source": [
    "lines_to_check"
   ]
  },
  {
   "cell_type": "markdown",
   "id": "54713c68",
   "metadata": {},
   "source": [
    "***Sequence where something is wrong => corresponding file where these lines are located***\n",
    "\n",
    "'95 % CI = -9.6 % to -1 . 4 % ) per 4 weeks in the control group but ' => ***10675381.ann***   \n",
    "'=.0002 , P =.0001 , and P = . 0001 , respectively , for ATP versus no ATP ) . ' => ***10675381.ann***   \n",
    "'-0.2 % versus -2.4 % ; P = . 0002 ) ; functional scores ( +0.4 % versus -5.5 %'  => ***10675381.ann***   \n",
    "'; 95 % CI , 0.61 to 0 . 93 ; P = .008 ) . Median survival was ' => ***15625369.ann***   \n",
    "'and nine symptoms ( .001 < ***P < . 01***) , and the improvement ( > 10 units on ' => ***10561201.ann***   \n",
    "responders indicated better physical well-being **( P = . 004 )** and mood ( P =.02 ) at month 3 => ***10561203.ann***   \n",
    "patients than in the control group , i.e . US $ 40782 and US $ 34465 , respectively ( P => ***9531327.ann***   \n",
    "survival rate , 31.8 % ; P = **. 048 )** . Comparing survival for the two dose levels => ***10653877.ann***   \n",
    "and resolved . Mean ( s.d . ) pain scores on the day of discharge were 1·9 ( 3·1 => ***23254324.ann***   \n",
    ", 16.2 v 14.7 months ; P = . 12 ) . LV5FU2 plus oxaliplatin gave higher frequencies of => ***10944126.ann***   \n",
    "common toxicity criteria grade 3/4 neutropenia ( 41 . 7 % v 5.3 % of patients ) , grade 3/4 => ***10944126.ann***  \n",
    "QOL ( p < 0.05 ) ( i.e . better global health status , and physical and emotional functioning => ***23866850.ann***  "
   ]
  },
  {
   "cell_type": "code",
   "execution_count": 196,
   "id": "1c3520e9",
   "metadata": {},
   "outputs": [
    {
     "name": "stdout",
     "output_type": "stream",
     "text": [
      "[10444, 10527, 10570, 11958, 15672, 34575, 35634, 50901, 53698, 54047, 54071, 96499]\n"
     ]
    }
   ],
   "source": [
    "# print(check_lines)"
   ]
  },
  {
   "cell_type": "code",
   "execution_count": null,
   "id": "8e73aeac",
   "metadata": {},
   "outputs": [],
   "source": []
  },
  {
   "cell_type": "markdown",
   "id": "45b326a1",
   "metadata": {},
   "source": [
    "***Dev and Test***"
   ]
  },
  {
   "cell_type": "code",
   "execution_count": 29,
   "id": "21865450",
   "metadata": {},
   "outputs": [],
   "source": [
    "test = 'ecai2020-transformer_based_am/data/neoplasm/test.conll'\n",
    "dev = 'ecai2020-transformer_based_am/data/neoplasm/dev.conll'"
   ]
  },
  {
   "cell_type": "code",
   "execution_count": 30,
   "id": "de16ca4b",
   "metadata": {},
   "outputs": [],
   "source": [
    "test_check = check(test)\n",
    "dev_check = check(dev)"
   ]
  },
  {
   "cell_type": "code",
   "execution_count": 31,
   "id": "d3dc98ea",
   "metadata": {},
   "outputs": [
    {
     "data": {
      "text/plain": [
       "[1807, 1816, 1834, 1843, 1856, 1865, 33747]"
      ]
     },
     "execution_count": 31,
     "metadata": {},
     "output_type": "execute_result"
    }
   ],
   "source": [
    "test_check"
   ]
  },
  {
   "cell_type": "code",
   "execution_count": 214,
   "id": "52871e55",
   "metadata": {},
   "outputs": [
    {
     "data": {
      "text/plain": [
       "[]"
      ]
     },
     "execution_count": 214,
     "metadata": {},
     "output_type": "execute_result"
    }
   ],
   "source": [
    "dev_check"
   ]
  },
  {
   "cell_type": "code",
   "execution_count": 216,
   "id": "9792971b",
   "metadata": {},
   "outputs": [
    {
     "name": "stdout",
     "output_type": "stream",
     "text": [
      "1797\n",
      "1806\n",
      "1824\n",
      "1833\n",
      "1846\n",
      "1855\n",
      "33737\n"
     ]
    },
    {
     "data": {
      "text/plain": [
       "['both arms , with 12 % ( postop . RCT ) and 12 % ( pre-op . RCT ) ',\n",
       " 'RCT ) and 12 % ( pre-op . RCT ) of patients , respectively , suffering from anastomotic leakage ',\n",
       " 'from anastomotic leakage , 3 % ( postop . RCT ) and 3 % ( pre-op . RCT ) ',\n",
       " 'RCT ) and 3 % ( pre-op . RCT ) from postoperative bleeding , and 6 % ( postop ',\n",
       " 'postoperative bleeding , and 6 % ( postop . RCT ) and 4 % ( pre-op . RCT ) ',\n",
       " 'RCT ) and 4 % ( pre-op . RCT ) from delayed wound healing . The patient accrual ',\n",
       " 'the 6 mg ibandronate group . I.v . ibandronate treatment leads to significant improvements in quality of life , ']"
      ]
     },
     "execution_count": 216,
     "metadata": {},
     "output_type": "execute_result"
    }
   ],
   "source": [
    "tst_find_lines = find_wrong_lines(test_check, test)\n",
    "tst_find_lines"
   ]
  },
  {
   "cell_type": "code",
   "execution_count": 217,
   "id": "f1f7e36f",
   "metadata": {},
   "outputs": [
    {
     "data": {
      "text/plain": [
       "[]"
      ]
     },
     "execution_count": 217,
     "metadata": {},
     "output_type": "execute_result"
    }
   ],
   "source": [
    "find_wrong_lines(dev_check, dev)"
   ]
  },
  {
   "cell_type": "code",
   "execution_count": null,
   "id": "615dfc14",
   "metadata": {},
   "outputs": [],
   "source": []
  },
  {
   "cell_type": "code",
   "execution_count": null,
   "id": "828a23db",
   "metadata": {},
   "outputs": [],
   "source": []
  },
  {
   "cell_type": "markdown",
   "id": "9eebffe0",
   "metadata": {},
   "source": [
    "#### Glaucoma\n"
   ]
  },
  {
   "cell_type": "code",
   "execution_count": 208,
   "id": "519bd40a",
   "metadata": {},
   "outputs": [
    {
     "data": {
      "text/plain": [
       "[114, 18541, 24453, 31537]"
      ]
     },
     "execution_count": 208,
     "metadata": {},
     "output_type": "execute_result"
    }
   ],
   "source": [
    "glaucoma_check = check('ecai2020-transformer_based_am/data/glaucoma_test/test.conll')\n",
    "glaucoma_check"
   ]
  },
  {
   "cell_type": "code",
   "execution_count": 209,
   "id": "c6c672d5",
   "metadata": {},
   "outputs": [
    {
     "name": "stdout",
     "output_type": "stream",
     "text": [
      "104\n",
      "18531\n",
      "24443\n",
      "31527\n"
     ]
    },
    {
     "data": {
      "text/plain": [
       "['9.8 and 30.6 ± 9.9 mmHg , respectively . Postoperatively , mean IOPs were 11.4 ± 4.9 and 13.6 ± ',\n",
       " 'least as effective as pilocarpine 2 % t.i.d . in reducing IOP when added to eyes currently on monotherapy with ',\n",
       " 'the trabeculectomy group ( P = 0.7 ) . Mean postoperative IOP was 13.7+/-2.2 mmHg at 3 months , 14.8+/-3.3 ',\n",
       " ', 24.7 mm Hg in the medical group . Mean IOP ( both eyes ) at last follow-up was 18.2 ']"
      ]
     },
     "execution_count": 209,
     "metadata": {},
     "output_type": "execute_result"
    }
   ],
   "source": [
    "glaucoma_incorrect_lines = find_wrong_lines(glaucoma_check, 'ecai2020-transformer_based_am/data/glaucoma_test/test.conll')\n",
    "glaucoma_incorrect_lines"
   ]
  },
  {
   "cell_type": "code",
   "execution_count": null,
   "id": "b3df3d24",
   "metadata": {},
   "outputs": [],
   "source": []
  },
  {
   "cell_type": "code",
   "execution_count": null,
   "id": "e4c02c17",
   "metadata": {},
   "outputs": [],
   "source": []
  },
  {
   "cell_type": "markdown",
   "id": "b429a616",
   "metadata": {},
   "source": [
    "#### Mixed"
   ]
  },
  {
   "cell_type": "code",
   "execution_count": 223,
   "id": "dee9f9a6",
   "metadata": {},
   "outputs": [
    {
     "data": {
      "text/plain": [
       "O            16015\n",
       "I-Premise    11767\n",
       "I-Claim       3942\n",
       "B-Premise      388\n",
       "B-Claim        212\n",
       "Name: 4, dtype: int64"
      ]
     },
     "execution_count": 223,
     "metadata": {},
     "output_type": "execute_result"
    }
   ],
   "source": [
    "mx_conll[4].value_counts()"
   ]
  },
  {
   "cell_type": "code",
   "execution_count": 224,
   "id": "4890bc11",
   "metadata": {},
   "outputs": [
    {
     "data": {
      "text/plain": [
       "[32920]"
      ]
     },
     "execution_count": 224,
     "metadata": {},
     "output_type": "execute_result"
    }
   ],
   "source": [
    "mixed_check = check('ecai2020-transformer_based_am/data/mixed_test/test.conll')\n",
    "mixed_check"
   ]
  },
  {
   "cell_type": "code",
   "execution_count": 225,
   "id": "a6b55bec",
   "metadata": {},
   "outputs": [
    {
     "name": "stdout",
     "output_type": "stream",
     "text": [
      "32910\n",
      "['glucose levels < 54 mg/dL by 65 % . ( 3.1 vs. 8.9 min , P < 0.001 ) . ']\n"
     ]
    }
   ],
   "source": [
    "print(find_wrong_lines(mixed_check, mixed))\n"
   ]
  },
  {
   "cell_type": "code",
   "execution_count": null,
   "id": "bba1ca6a",
   "metadata": {},
   "outputs": [],
   "source": []
  },
  {
   "cell_type": "markdown",
   "id": "20b71a14",
   "metadata": {},
   "source": [
    "***( Majority of the problematic lines are in the neoplasm train and test data )***"
   ]
  },
  {
   "cell_type": "code",
   "execution_count": null,
   "id": "54b9ba38",
   "metadata": {},
   "outputs": [],
   "source": []
  },
  {
   "cell_type": "markdown",
   "id": "e123423d",
   "metadata": {},
   "source": [
    "<a id='comp_clf'></a>\n",
    "## Argument components classification results"
   ]
  },
  {
   "cell_type": "markdown",
   "id": "63971323",
   "metadata": {},
   "source": [
    "<!-- ### Results from authors\n",
    "\n",
    "<img src='pics/result_authors.png'>\n",
    "<img src='pics/results_fine-tune.png'>\n",
    "<img src='pics/results_all.png'> -->"
   ]
  },
  {
   "cell_type": "markdown",
   "id": "9d988366",
   "metadata": {},
   "source": [
    "###   Results: pre-problem identification"
   ]
  },
  {
   "cell_type": "markdown",
   "id": "f4490a4e",
   "metadata": {},
   "source": [
    "||Neoplasm||||Glaucoma||||Mixed|||\n",
    "|-|-|-|-|-|-|-|-|-|-|-|-|\n",
    "||F1-macro|C-F1|E-F1||F1-macro|C-F1|E-F1||F1-macro|C-F1|E-F1|\n",
    "|SciBert+GRU+CRF|.84|.77|.93||.84|.82|.92||.82|.77|.91|\n",
    "|BioBert+GRU+CRF|.81|.74|.91||.84|.77|.94||.82|.78|.92|\n",
    "|Bert+GRU+CRF|.82|.72|.91||.83|.80|.89||.83|.77|.90|\n",
    "|||||||||||||\n",
    "|SciBert+LSTM+CRF|.70|.73|.90||.70|.72|.92||.69|.74|.90|\n",
    "|||||||||||||\n",
    "|mBert+LSTM+CRF|.84|.76|.92|||||||||"
   ]
  },
  {
   "cell_type": "markdown",
   "id": "4756687c",
   "metadata": {},
   "source": [
    "###   Results: post-problem identification"
   ]
  },
  {
   "cell_type": "markdown",
   "id": "2e364ace",
   "metadata": {},
   "source": [
    "||Neoplasm||||Glaucoma||||Mixed|||\n",
    "|-|-|-|-|-|-|-|-|-|-|-|-|\n",
    "||F1-macro|C-F1|E-F1||F1-macro|C-F1|E-F1||F1-macro|C-F1|E-F1|\n",
    "|SciBert+GRU+CRF|.84|.76|.92||.86|.84|.92||.84|.77|.92|\n",
    "|BioBert+GRU+CRF|.85|.76|.94||.88|.85|.92||.87|.81|.93|\n",
    "|Bert+GRU+CRF|.84|.73|.93||.85|.80|.90||.84|.77|.90|\n",
    "|mBert+GRU+CRF|.84|.74|.90||.83|.77|.85||.83|.74|.89|\n",
    "|||||||||||||\n",
    "|SciBert+LSTM+CRF|.84|.75|.93||.84|.83|.92||.82|.76|.91|\n",
    "\n",
    "<!-- BioBert+LSTM+CRF|.83|.76|.93||.83|.82|.91||.82|.80|.92|\n",
    "Bert+LSTM+CRF|.84|.75|.92||.82|.79|.88||.83|.77|.90|\n",
    "mBert+LSTM+CRF|.83|.75|.89||.83|.76|.88||.83|.73|.90| -->"
   ]
  },
  {
   "cell_type": "code",
   "execution_count": null,
   "id": "023c3ed8",
   "metadata": {},
   "outputs": [],
   "source": []
  },
  {
   "cell_type": "markdown",
   "id": "d4f5ed74",
   "metadata": {},
   "source": [
    "E-F1 is always higher than C-F1 => harder to identify claims"
   ]
  },
  {
   "cell_type": "code",
   "execution_count": null,
   "id": "f16d9e49",
   "metadata": {},
   "outputs": [],
   "source": []
  },
  {
   "cell_type": "markdown",
   "id": "d611cbf5",
   "metadata": {},
   "source": []
  },
  {
   "cell_type": "code",
   "execution_count": null,
   "id": "84bbaf17",
   "metadata": {},
   "outputs": [],
   "source": []
  },
  {
   "cell_type": "code",
   "execution_count": 57,
   "id": "bfd56163",
   "metadata": {},
   "outputs": [
    {
     "data": {
      "text/html": [
       "<div>\n",
       "<style scoped>\n",
       "    .dataframe tbody tr th:only-of-type {\n",
       "        vertical-align: middle;\n",
       "    }\n",
       "\n",
       "    .dataframe tbody tr th {\n",
       "        vertical-align: top;\n",
       "    }\n",
       "\n",
       "    .dataframe thead th {\n",
       "        text-align: right;\n",
       "    }\n",
       "</style>\n",
       "<table border=\"1\" class=\"dataframe\">\n",
       "  <thead>\n",
       "    <tr style=\"text-align: right;\">\n",
       "      <th></th>\n",
       "      <th>0</th>\n",
       "      <th>1</th>\n",
       "      <th>2</th>\n",
       "    </tr>\n",
       "  </thead>\n",
       "  <tbody>\n",
       "    <tr>\n",
       "      <th>0</th>\n",
       "      <td>b'we'</td>\n",
       "      <td>O</td>\n",
       "      <td>O</td>\n",
       "    </tr>\n",
       "    <tr>\n",
       "      <th>1</th>\n",
       "      <td>b'previously'</td>\n",
       "      <td>O</td>\n",
       "      <td>O</td>\n",
       "    </tr>\n",
       "    <tr>\n",
       "      <th>2</th>\n",
       "      <td>b'reported'</td>\n",
       "      <td>O</td>\n",
       "      <td>O</td>\n",
       "    </tr>\n",
       "    <tr>\n",
       "      <th>3</th>\n",
       "      <td>b'that'</td>\n",
       "      <td>O</td>\n",
       "      <td>O</td>\n",
       "    </tr>\n",
       "    <tr>\n",
       "      <th>4</th>\n",
       "      <td>b'treatment'</td>\n",
       "      <td>O</td>\n",
       "      <td>O</td>\n",
       "    </tr>\n",
       "  </tbody>\n",
       "</table>\n",
       "</div>"
      ],
      "text/plain": [
       "               0  1  2\n",
       "0          b'we'  O  O\n",
       "1  b'previously'  O  O\n",
       "2    b'reported'  O  O\n",
       "3        b'that'  O  O\n",
       "4   b'treatment'  O  O"
      ]
     },
     "execution_count": 57,
     "metadata": {},
     "output_type": "execute_result"
    }
   ],
   "source": [
    "preds = pd.read_csv('ecai2020-transformer_based_am/output/sequence_tagging_predictions.conll', sep='\\t', header=None)\n",
    "preds.head()"
   ]
  },
  {
   "cell_type": "code",
   "execution_count": null,
   "id": "ad171957",
   "metadata": {},
   "outputs": [],
   "source": []
  },
  {
   "cell_type": "code",
   "execution_count": null,
   "id": "a53b0bd1",
   "metadata": {},
   "outputs": [],
   "source": []
  },
  {
   "cell_type": "markdown",
   "id": "9083766c",
   "metadata": {},
   "source": [
    "<a id='translation_projection'></a>\n",
    "# Translations and Projections\n"
   ]
  },
  {
   "cell_type": "markdown",
   "id": "5703cfa6",
   "metadata": {},
   "source": [
    "\n",
    "* DeepL\n",
    "* Opus\n",
    "* Mixed\n"
   ]
  },
  {
   "cell_type": "markdown",
   "id": "ac2af388",
   "metadata": {},
   "source": [
    "### IAA"
   ]
  },
  {
   "cell_type": "code",
   "execution_count": 34,
   "id": "978a0539",
   "metadata": {},
   "outputs": [
    {
     "name": "stdout",
     "output_type": "stream",
     "text": [
      "0.2817337461300309\n"
     ]
    }
   ],
   "source": [
    "import sklearn\n",
    "from sklearn.metrics import cohen_kappa_score\n",
    "\n",
    "# ann1 = [5,3,5,3,3,3,3,3,1,3,3,3,3,3,3,3,3,3,3,3,3,1,3,3,3,3,1,3,3]\n",
    "# ann2 =[3,3,1,3,3,3,3,3,5,3,3,5,3,3,2,3,1=3,3,3,5,3,5,3=5,3,3,3,1=2=4=5,3,3]\n",
    "\n",
    "\n",
    "ann1 = [2,3,5,3,3,3,3,3,1,3,3,3,3,3,3,3,3,3,3,3,3,1,3,3,3,3,1,3,3]\n",
    "ann2 = [3,3,1,3,3,3,3,3,5,3,3,5,3,3,2,3,1,3,3,5,3,5,3,3,3,3,1,3,3]\n",
    "print(cohen_kappa_score(ann1, ann2))\n",
    "\n"
   ]
  },
  {
   "cell_type": "markdown",
   "id": "7f1543dc",
   "metadata": {},
   "source": []
  },
  {
   "cell_type": "markdown",
   "id": "be6244db",
   "metadata": {},
   "source": [
    "### Neoplasm \n",
    "   * train - 4405 lines\n",
    "   * test - 1251 lines\n",
    "   * dev - 679 lines\n",
    "\n",
    "### Glaucoma\n",
    "   * test - 1247 lines\n",
    "\n",
    "### Mixed\n",
    "   * test - 1148 lines\n",
    "   "
   ]
  },
  {
   "cell_type": "markdown",
   "id": "3069fb65",
   "metadata": {},
   "source": [
    "## Translations"
   ]
  },
  {
   "cell_type": "markdown",
   "id": "dad09e31",
   "metadata": {},
   "source": [
    "||train|dev|neoplasm|glaucoma|mixed|\n",
    "|-|-|-|-|-|-|\n",
    "|**DeepL**|✅|✅|✅|✅|✅|\n",
    "|**Opus-mt**|✅|✅|✅|✅|✅|\n"
   ]
  },
  {
   "cell_type": "markdown",
   "id": "42246052",
   "metadata": {},
   "source": [
    "## Projections"
   ]
  },
  {
   "cell_type": "markdown",
   "id": "8a4bd282",
   "metadata": {},
   "source": [
    "||train|dev|neoplasm|glaucoma|mixed|\n",
    "|-|-|-|-|-|-|\n",
    "|**DeepL**|\n",
    "|simalign|✅|✅|✅|✅|✅|\n",
    "|awesome|✅|✅|✅|✅|✅|\n",
    "|**Opus**|\n",
    "|simalign|✅|✅|✅|✅|✅|\n",
    "|awesome|✅|✅|✅|✅|✅|\n",
    "\n",
    "\n"
   ]
  },
  {
   "cell_type": "markdown",
   "id": "4adb42ff",
   "metadata": {},
   "source": [
    "#### Post-processing. Compare"
   ]
  },
  {
   "cell_type": "markdown",
   "id": "3abb76b9",
   "metadata": {},
   "source": [
    "Projections using awesome align mostly does not project labels to the first tokens in the sentence that are articles, conjunctions, etc(Tokens like: 'Por lo tanto' => 'therefore'/ 'thus', etc.). when they are supposed to have a tag (B- or I-). \n",
    "\n",
    "Post-processing: if the sentence is full argument in the original data => same sentence is full argument in the translated data. Therefore, we can assign the full argument sentences without projection. Below are the numbers of how many sentence were changes during mentioned process (more readable version is in the end of this [section](#post_table)):"
   ]
  },
  {
   "cell_type": "code",
   "execution_count": 157,
   "id": "d6a325e3",
   "metadata": {},
   "outputs": [],
   "source": [
    "def get_difference(projected_path, corrected_path):\n",
    "    projected = open(projected_path, 'r')\n",
    "    corrected = open(corrected_path, 'r')\n",
    "    \n",
    "    difference_in_tokens = 0\n",
    "    difference_in_seq = 0\n",
    "    p_tags = []\n",
    "    p_seq_tag = []\n",
    "    c_tags = []\n",
    "    c_seq_tag = []\n",
    "    for p, c in zip(projected, corrected):\n",
    "        if p != c: \n",
    "            difference_in_tokens += 1\n",
    "        if p != '\\n':\n",
    "            p_seq_tag.append(p.split(' ')[1])\n",
    "        else:\n",
    "            p_tags.append(p_seq_tag)\n",
    "            p_seq_tag = []\n",
    "        if c != '\\n':\n",
    "            c_seq_tag.append(c.split(' ')[1])\n",
    "\n",
    "        else:\n",
    "            c_tags.append(c_seq_tag)\n",
    "            c_seq_tag = []\n",
    "\n",
    "    p_tags.append(p_seq_tag)\n",
    "    c_tags.append(c_seq_tag)\n",
    "    print(len(p_tags))\n",
    "    for p, c in zip(p_tags, c_tags):\n",
    "       \n",
    "        if set(p) != set(c): \n",
    "            difference_in_seq += 1\n",
    "    \n",
    "    return difference_in_tokens, difference_in_seq"
   ]
  },
  {
   "cell_type": "code",
   "execution_count": 158,
   "id": "d2b99cb1",
   "metadata": {},
   "outputs": [],
   "source": [
    "def count_full_seq(data_path):\n",
    "    f = open(data_path)\n",
    "    counter = 0\n",
    "    num_os = 0\n",
    "    tags = []\n",
    "    cur_tag = []\n",
    "    for line in f:\n",
    "        if line != '\\n':\n",
    "            cur_tag.append(line.split(' ')[1])\n",
    "        else:\n",
    "            tags.append(cur_tag)\n",
    "            if cur_tag[0].startswith('B') and len(set(cur_tag[1:])) == 1:\n",
    "#                 print(len(cur_tag))\n",
    "                counter += 1\n",
    "            if len(set(cur_tag)) == 1 and cur_tag[0].startswith('O'):\n",
    "                num_os += 1\n",
    "            cur_tag = []\n",
    "            \n",
    "#     print(len(tags))\n",
    "    print(\"Number of O's: \",num_os)\n",
    "    return counter"
   ]
  },
  {
   "cell_type": "markdown",
   "id": "e20040ec",
   "metadata": {},
   "source": [
    "### Awesome-align"
   ]
  },
  {
   "cell_type": "markdown",
   "id": "2b93ec46",
   "metadata": {},
   "source": [
    "#### Neoplasm"
   ]
  },
  {
   "cell_type": "code",
   "execution_count": 174,
   "id": "5ec32b01",
   "metadata": {},
   "outputs": [
    {
     "name": "stdout",
     "output_type": "stream",
     "text": [
      "Neoplasm train (deepl & awesome): \n",
      "Number of O's:  2345\n",
      "Number of sentences that are full component in original data:  1769\n",
      "Number of O's:  2345\n",
      "Number of sentences that are full component in projected:  1752\n",
      "4405\n"
     ]
    },
    {
     "data": {
      "text/plain": [
       "(1652, 800)"
      ]
     },
     "execution_count": 174,
     "metadata": {},
     "output_type": "execute_result"
    }
   ],
   "source": [
    "print('Neoplasm train (deepl & awesome): ')\n",
    "print('Number of sentences that are full component in original data: ', count_full_seq('antidote-projections/data/neoplasm/train.tsv'))\n",
    "print('Number of sentences that are full component in projected: ', count_full_seq('antidote-projections/data/projections/deepl_awesome/neoplasm/pprocessed_train.tsv'))\n",
    "get_difference('antidote-projections/data/projections/deepl_awesome/neoplasm/train.tsv', 'antidote-projections/data/projections/deepl_awesome/neoplasm/pprocessed_train.tsv')"
   ]
  },
  {
   "cell_type": "code",
   "execution_count": 175,
   "id": "e674566d",
   "metadata": {},
   "outputs": [
    {
     "name": "stdout",
     "output_type": "stream",
     "text": [
      "Neoplasm test (deepl & awesome): \n",
      "Number of O's:  630\n",
      "Number of sentences that are full component in original:  518\n",
      "Number of O's:  630\n",
      "Number of sentences that are full component in projected:  518\n",
      "1252\n"
     ]
    },
    {
     "data": {
      "text/plain": [
       "(505, 242)"
      ]
     },
     "execution_count": 175,
     "metadata": {},
     "output_type": "execute_result"
    }
   ],
   "source": [
    "print('Neoplasm test (deepl & awesome): ')\n",
    "print('Number of sentences that are full component in original: ', count_full_seq('antidote-projections/data/neoplasm/test.tsv'))\n",
    "print('Number of sentences that are full component in projected: ', count_full_seq('antidote-projections/data/projections/deepl_awesome/neoplasm/pprocessed_test.tsv'))\n",
    "get_difference('antidote-projections/data/projections/deepl_awesome/neoplasm/test.tsv', 'antidote-projections/data/projections/deepl_awesome/neoplasm/pprocessed_test.tsv')"
   ]
  },
  {
   "cell_type": "code",
   "execution_count": null,
   "id": "c97b366a",
   "metadata": {},
   "outputs": [],
   "source": []
  },
  {
   "cell_type": "code",
   "execution_count": null,
   "id": "8446faff",
   "metadata": {},
   "outputs": [],
   "source": [
    "# 1769   518  262"
   ]
  },
  {
   "cell_type": "code",
   "execution_count": 176,
   "id": "0787a4f2",
   "metadata": {},
   "outputs": [
    {
     "name": "stdout",
     "output_type": "stream",
     "text": [
      "Neoplasm dev (deepl & awesome): \n",
      "Number of O's:  377\n",
      "Number of sentences that are full component in original:  262\n",
      "Number of O's:  377\n",
      "Number of sentences that are full component in projected:  257\n",
      "680\n"
     ]
    },
    {
     "data": {
      "text/plain": [
       "(195, 95)"
      ]
     },
     "execution_count": 176,
     "metadata": {},
     "output_type": "execute_result"
    }
   ],
   "source": [
    "print('Neoplasm dev (deepl & awesome): ')\n",
    "print('Number of sentences that are full component in original: ', count_full_seq('antidote-projections/data/neoplasm/dev.tsv'))\n",
    "print('Number of sentences that are full component in projected: ', count_full_seq('antidote-projections/data/projections/deepl_awesome/neoplasm/pprocessed_dev.tsv'))\n",
    "get_difference('antidote-projections/data/projections/deepl_awesome/neoplasm/dev.tsv', '/Users/anaryegen/Desktop/UPV/Master_Thesis/antidote-projections/data/projections/deepl_awesome/neoplasm/pprocessed_dev.tsv')"
   ]
  },
  {
   "cell_type": "markdown",
   "id": "5b3f8211",
   "metadata": {},
   "source": [
    "#### Glaucoma"
   ]
  },
  {
   "cell_type": "code",
   "execution_count": 177,
   "id": "19cb8f16",
   "metadata": {},
   "outputs": [
    {
     "name": "stdout",
     "output_type": "stream",
     "text": [
      "Glaucoma (deepl & awesome): \n",
      "Number of O's:  682\n",
      "Number of sentences that are full component in original:  498\n",
      "Number of O's:  682\n",
      "Number of sentences that are full component in projected:  498\n",
      "1248\n"
     ]
    },
    {
     "data": {
      "text/plain": [
       "(341, 167)"
      ]
     },
     "execution_count": 177,
     "metadata": {},
     "output_type": "execute_result"
    }
   ],
   "source": [
    "print('Glaucoma (deepl & awesome): ') \n",
    "print('Number of sentences that are full component in original: ', count_full_seq('/Users/anaryegen/Desktop/UPV/Master_Thesis/antidote-projections/data/glaucoma/test.tsv'))\n",
    "print('Number of sentences that are full component in projected: ', count_full_seq('/Users/anaryegen/Desktop/UPV/Master_Thesis/antidote-projections/data/projections/deepl_awesome/glaucoma/pprocessed_test.tsv'))\n",
    "get_difference('antidote-projections/data/projections/deepl_awesome/glaucoma/test.tsv', '/Users/anaryegen/Desktop/UPV/Master_Thesis/antidote-projections/data/projections/deepl_awesome/glaucoma/pprocessed_test.tsv')"
   ]
  },
  {
   "cell_type": "markdown",
   "id": "6c16bc0d",
   "metadata": {},
   "source": [
    "#### Mixed"
   ]
  },
  {
   "cell_type": "code",
   "execution_count": 179,
   "id": "a857246a",
   "metadata": {},
   "outputs": [
    {
     "name": "stdout",
     "output_type": "stream",
     "text": [
      "Mixed (deepl & awesome): \n",
      "Number of O's:  591\n",
      "Number of sentences that are full component in original:  478\n",
      "Number of O's:  591\n",
      "Number of sentences that are full component in projected:  476\n",
      "1147\n"
     ]
    },
    {
     "data": {
      "text/plain": [
       "(415, 203)"
      ]
     },
     "execution_count": 179,
     "metadata": {},
     "output_type": "execute_result"
    }
   ],
   "source": [
    "print('Mixed (deepl & awesome): ') \n",
    "print('Number of sentences that are full component in original: ', count_full_seq('antidote-projections/data/mixed/test.tsv'))\n",
    "print('Number of sentences that are full component in projected: ', count_full_seq('antidote-projections/data/projections/deepl_awesome/mixed/pprocessed_test.tsv'))\n",
    "get_difference('antidote-projections/data/projections/deepl_awesome/mixed/test.tsv', 'antidote-projections/data/projections/deepl_awesome/mixed/pprocessed_test.tsv')"
   ]
  },
  {
   "cell_type": "code",
   "execution_count": null,
   "id": "4a502952",
   "metadata": {},
   "outputs": [],
   "source": []
  },
  {
   "cell_type": "markdown",
   "id": "e47b48dd",
   "metadata": {},
   "source": [
    "### Simalign"
   ]
  },
  {
   "cell_type": "markdown",
   "id": "01994019",
   "metadata": {},
   "source": [
    "#### Neoplasm"
   ]
  },
  {
   "cell_type": "code",
   "execution_count": 171,
   "id": "378d42a9",
   "metadata": {
    "scrolled": true
   },
   "outputs": [
    {
     "name": "stdout",
     "output_type": "stream",
     "text": [
      "Neoplasm train (deepl & simalign): \n",
      "Number of O's:  2345\n",
      "Number of sentences that are full component:  1769\n",
      "4405\n"
     ]
    },
    {
     "data": {
      "text/plain": [
       "(466, 88)"
      ]
     },
     "execution_count": 171,
     "metadata": {},
     "output_type": "execute_result"
    }
   ],
   "source": [
    "print('Neoplasm train (deepl & simalign): ')\n",
    "print('Number of sentences that are full component: ', count_full_seq('/Users/anaryegen/Desktop/UPV/Master_Thesis/antidote-projections/data/neoplasm/train.tsv'))\n",
    "get_difference('/Users/anaryegen/Desktop/UPV/Master_Thesis/antidote-projections/data/projections/deepl_simalign/neoplasm/train.tsv', '/Users/anaryegen/Desktop/UPV/Master_Thesis/antidote-projections/data/projections/deepl_simalign/neoplasm/pprocessed_train.tsv')"
   ]
  },
  {
   "cell_type": "code",
   "execution_count": 168,
   "id": "c3367a8e",
   "metadata": {},
   "outputs": [
    {
     "name": "stdout",
     "output_type": "stream",
     "text": [
      "Neoplasm test (deepl & simalign): \n",
      "Number of O's:  630\n",
      "Number of sentences that are full component:  518\n",
      "1252\n"
     ]
    },
    {
     "data": {
      "text/plain": [
       "(189, 92)"
      ]
     },
     "execution_count": 168,
     "metadata": {},
     "output_type": "execute_result"
    }
   ],
   "source": [
    "print('Neoplasm test (deepl & simalign): ')\n",
    "print('Number of sentences that are full component: ', count_full_seq('/Users/anaryegen/Desktop/UPV/Master_Thesis/antidote-projections/data/projections/deepl_awesome/neoplasm/pprocessed_test.tsv'))\n",
    "get_difference('/Users/anaryegen/Desktop/UPV/Master_Thesis/antidote-projections/data/projections/deepl_simalign/neoplasm/test.tsv', '/Users/anaryegen/Desktop/UPV/Master_Thesis/antidote-projections/data/projections/deepl_simalign/neoplasm/pprocessed_test.tsv')"
   ]
  },
  {
   "cell_type": "code",
   "execution_count": 167,
   "id": "d9e83a05",
   "metadata": {},
   "outputs": [
    {
     "name": "stdout",
     "output_type": "stream",
     "text": [
      "Neoplasm dev (deepl & simalign): \n",
      "Number of O's:  377\n",
      "Number of sentences that are full component:  257\n",
      "680\n"
     ]
    },
    {
     "data": {
      "text/plain": [
       "(66, 11)"
      ]
     },
     "execution_count": 167,
     "metadata": {},
     "output_type": "execute_result"
    }
   ],
   "source": [
    "print('Neoplasm dev (deepl & simalign): ')\n",
    "print('Number of sentences that are full component: ', count_full_seq('/Users/anaryegen/Desktop/UPV/Master_Thesis/antidote-projections/data/projections/deepl_awesome/neoplasm/pprocessed_dev.tsv'))\n",
    "get_difference('/Users/anaryegen/Desktop/UPV/Master_Thesis/antidote-projections/data/projections/deepl_simalign/neoplasm/dev.tsv', '/Users/anaryegen/Desktop/UPV/Master_Thesis/antidote-projections/data/projections/deepl_simalign/neoplasm/pprocessed_dev.tsv')"
   ]
  },
  {
   "cell_type": "markdown",
   "id": "073bc103",
   "metadata": {},
   "source": [
    "#### Glaucoma"
   ]
  },
  {
   "cell_type": "code",
   "execution_count": 169,
   "id": "c73eddac",
   "metadata": {},
   "outputs": [
    {
     "name": "stdout",
     "output_type": "stream",
     "text": [
      "Glaucoma (deepl & simalign): \n",
      "Number of O's:  682\n",
      "Number of sentences that are full component:  506\n",
      "1248\n"
     ]
    },
    {
     "data": {
      "text/plain": [
       "(144, 51)"
      ]
     },
     "execution_count": 169,
     "metadata": {},
     "output_type": "execute_result"
    }
   ],
   "source": [
    "print('Glaucoma (deepl & simalign): ')\n",
    "print('Number of sentences that are full component: ', count_full_seq('/Users/anaryegen/Desktop/UPV/Master_Thesis/antidote-projections/data/projections/deepl_simalign/glaucoma/pprocessed_test_1.tsv'))\n",
    "get_difference('/Users/anaryegen/Desktop/UPV/Master_Thesis/antidote-projections/data/projections/deepl_simalign/glaucoma/test.tsv', '/Users/anaryegen/Desktop/UPV/Master_Thesis/antidote-projections/data/projections/deepl_simalign/glaucoma/pprocessed_test_1.tsv')"
   ]
  },
  {
   "cell_type": "markdown",
   "id": "55e3071d",
   "metadata": {},
   "source": [
    "#### Mixed"
   ]
  },
  {
   "cell_type": "code",
   "execution_count": 170,
   "id": "b6a037e4",
   "metadata": {},
   "outputs": [
    {
     "name": "stdout",
     "output_type": "stream",
     "text": [
      "Mixed (deepl & simalign): \n",
      "Number of O's:  591\n",
      "Number of sentences that are full component:  480\n",
      "1147\n"
     ]
    },
    {
     "data": {
      "text/plain": [
       "(248, 90)"
      ]
     },
     "execution_count": 170,
     "metadata": {},
     "output_type": "execute_result"
    }
   ],
   "source": [
    "print('Mixed (deepl & simalign): ')\n",
    "print('Number of sentences that are full component: ', count_full_seq('/Users/anaryegen/Desktop/UPV/Master_Thesis/antidote-projections/data/projections/deepl_simalign/mixed/pprocessed_test_1.tsv'))\n",
    "get_difference('/Users/anaryegen/Desktop/UPV/Master_Thesis/antidote-projections/data/projections/deepl_simalign/mixed/test.tsv', '/Users/anaryegen/Desktop/UPV/Master_Thesis/antidote-projections/data/projections/deepl_simalign/mixed/pprocessed_test_1.tsv')"
   ]
  },
  {
   "cell_type": "markdown",
   "id": "5ad604e3",
   "metadata": {},
   "source": [
    "* Neoplasm train/test/dev: 1769   518  262\n",
    "* Glaucoma: 498\n",
    "* Mixed: 478"
   ]
  },
  {
   "cell_type": "code",
   "execution_count": null,
   "id": "58aaf946",
   "metadata": {},
   "outputs": [],
   "source": []
  },
  {
   "cell_type": "markdown",
   "id": "7be7eb97",
   "metadata": {},
   "source": [
    "<a id='post_table'></a>\n",
    "### Number of changes"
   ]
  },
  {
   "cell_type": "markdown",
   "id": "0551aecb",
   "metadata": {},
   "source": [
    "\"_s\" - simalgin\n",
    "\n",
    "\"_a\" - awesome-align"
   ]
  },
  {
   "cell_type": "markdown",
   "id": "d00d1daf",
   "metadata": {},
   "source": [
    "|(DeepL)|train_a|train_s|dev_a|dev_s|neoplasm_a|neoplasm_s|glaucoma_a|glaucoma_s|mixed_a|mixed_s|\n",
    "|-|-|-|-|-|-|-|-|-|-|-|\n",
    "|overall|4405|4405|680|680|1252|1252|1248|1248|1147|1147|\n",
    "|# of changes|800|88|95|11|242|92|167|51|203|90|\n",
    "|# of full O's|2345|2345|377|377|630|630|692|682|591|591|\n",
    "|# of full component|1752|703|257|257|518|518|498|506|476|480|\n"
   ]
  },
  {
   "cell_type": "code",
   "execution_count": null,
   "id": "e3709f95",
   "metadata": {},
   "outputs": [],
   "source": []
  },
  {
   "cell_type": "code",
   "execution_count": null,
   "id": "68eff80d",
   "metadata": {},
   "outputs": [],
   "source": []
  },
  {
   "cell_type": "markdown",
   "id": "88ace766",
   "metadata": {},
   "source": [
    "<a id='zero-shot'></a>\n",
    "# Zero-shot\n",
    "### Without post-processing\n",
    "\n",
    "||Neoplasm||||Glaucoma||||Mixed|||\n",
    "|-|-|-|-|-|-|-|-|-|-|-|-|\n",
    "||||||**Simalign**|||||\n",
    "||F1-macro|C-F1|E-F1||F1-macro|C-F1|E-F1||F1-macro|C-F1|E-F1|\n",
    "|mBERT+GRU+CRF|\n",
    "|*DeepL*|-|-|-||.73|.65|.81||.74|.65|.84|\n",
    "|*Opus*|.76|.70|.86||.74|.67|.81||.75|.69|.85|\n",
    "||||||**Awesome**|||||\n",
    "|*DeepL*|-|-|-||.69|.64|.80||.68|.63|.84|\n",
    "|*Opus*|.70|.68|.85||.70|.66|.80||.69|.68|.84|\n",
    "\n",
    "\n",
    "### After post-processing\n",
    "\n",
    "||Neoplasm||||Glaucoma||||Mixed|||\n",
    "|-|-|-|-|-|-|-|-|-|-|-|-|\n",
    "||||||**Simalign**|||||\n",
    "||F1-macro|C-F1|E-F1||F1-macro|C-F1|E-F1||F1-macro|C-F1|E-F1|\n",
    "|mBERT+GRU+CRF|\n",
    "|*DeepL*|.79|.69|.87||.76|.70|.81||.78|.69|.85|\n",
    "|*Opus*|.79|.69|.88||.76|.68|.80||.78|.70|.84|\n",
    "||||||**Awesome**|||||\n",
    "|*DeepL*|.78|.69|.87||.76|.69|.81||.77|.69|.84|\n",
    "|*Opus*|.78|.69|.87||.75|.68|.80||.78|.70|.84|"
   ]
  },
  {
   "cell_type": "markdown",
   "id": "2d1927f3",
   "metadata": {},
   "source": [
    "### Train and evaluate EN/ES\n",
    "\n",
    "#### mBERT & BETO (train -EN => test - ES)\n",
    "||Neoplasm||||Glaucoma||||Mixed|||\n",
    "|-|-|-|-|-|-|-|-|-|-|-|-|\n",
    "||||||**Simalign**|||||\n",
    "||F1-macro|C-F1|E-F1||F1-macro|C-F1|E-F1||F1-macro|C-F1|E-F1|\n",
    "|**mBERT**|\n",
    "|*DeepL*|.83|.76|.89||.82|.76|.88||.82|.75|.89|\n",
    "|*Opus*|.80|.74|.88||.79|.75|.84||.81|.76|.88|\n",
    "|**BETO**|\n",
    "|*DeepL*|.83|.75|.90||.83|.80|.90||.83|.75|.91|\n",
    "|*Opus*|.80|.74|.88||.79|.75|.84||.81|.76|.88|\n",
    "||||||**Awesome**|||||\n",
    "|**mBERT**|\n",
    "|*DeepL*|.81|.75|.88||.80|.75|.87||.80|.75|.89|\n",
    "|*Opus*|.78|.72|.88||.80|.72|.88||.80|.76|.89|\n",
    "|**BETO**|\n",
    "|*DeepL*|.82|.75|.90||.83|.75|.91||.82|.80|.89|\n",
    "|*Opus*|.81|.74|.90||.83|.82|.89||.82|.77|.90|\n"
   ]
  },
  {
   "cell_type": "markdown",
   "id": "9fe6c259",
   "metadata": {},
   "source": [
    "<!-- #### BETO\n",
    "||Neoplasm||||Glaucoma||||Mixed|||\n",
    "|-|-|-|-|-|-|-|-|-|-|-|-|\n",
    "||||||**Simalign**|||||\n",
    "||F1-macro|C-F1|E-F1||F1-macro|C-F1|E-F1||F1-macro|C-F1|E-F1|\n",
    "|BETO+GRU+CRF|\n",
    "|*DeepL*|.83|.75|.90||.83|.80|.90||.83|.75|.91|\n",
    "|*Opus*|.80|.74|.88||.79|.75|.84||.81|.76|.88|\n",
    "||||||**Awesome**|||||\n",
    "|*DeepL*|.82|.75|.90||.83|.75|.91||.82|.80|.89|\n",
    "|*Opus*|.81|.74|.90||.83|.82|.89||.82|.77|.90| -->"
   ]
  },
  {
   "cell_type": "markdown",
   "id": "ab0d2e9e",
   "metadata": {},
   "source": [
    "#### Train - EN + ES => Test - ES"
   ]
  },
  {
   "cell_type": "markdown",
   "id": "81766f78",
   "metadata": {},
   "source": [
    "||Neoplasm||||Glaucoma||||Mixed|||\n",
    "|-|-|-|-|-|-|-|-|-|-|-|-|\n",
    "||||||**Simalign**|||||\n",
    "||F1-macro|C-F1|E-F1||F1-macro|C-F1|E-F1||F1-macro|C-F1|E-F1|\n",
    "|*DeepL*|.83|.76|.89||.84|.80|.88||.83|.75|.88|\n",
    "|*Opus*|.83|.75|.89||.84|.80|.87||.82|.76|.88|\n",
    "||||||**Awesome**|||||\n",
    "|*DeepL*|.82|.76|.88||.84|.80|.87||.82|.75|.88|\n",
    "|*Opus*|.82|.75|.89||.84|.80|.87||.82|.76|.88|"
   ]
  },
  {
   "cell_type": "markdown",
   "id": "da7e8fe7",
   "metadata": {},
   "source": [
    "#### Train - EN + ES => Test - EN"
   ]
  },
  {
   "cell_type": "markdown",
   "id": "2a703c5b",
   "metadata": {},
   "source": [
    "||Neoplasm||||Glaucoma||||Mixed|||\n",
    "|-|-|-|-|-|-|-|-|-|-|-|-|\n",
    "|EN => EN|.84|.74|.90||.83|.77|.85||.83|.74|.89|\n",
    "|EN+ES => EN|.83|.74|.89||.84|.81|.86||.83|.76|.89|\n",
    "\n",
    "\n",
    "<!-- eval_f1_macro = 0.8283145954559271       \n",
    "eval_f1_micro = 0.88376279715426         \n",
    "f1_claim = 0.7357030134515669               \n",
    "f1_evidence = 0.8887772887063897  \n",
    "\n",
    "# g\n",
    "eval_f1_macro = 0.8432134457273017               \n",
    "eval_f1_micro = 0.8783164030688784               \n",
    "f1_claim = 0.8137134198314234                    \n",
    "f1_evidence = 0.8623455338715157 \n",
    "\n",
    "#m \n",
    "eval_f1_macro = 0.8320493187989695      \n",
    "eval_f1_micro = 0.8898684125234978      \n",
    "f1_claim = 0.7610239471511149           \n",
    "f1_evidence = 0.8929866304101518  -->"
   ]
  },
  {
   "cell_type": "markdown",
   "id": "33495d61",
   "metadata": {},
   "source": [
    "<!-- # Train en+es => test es (deepl+simalign)(mBert)\n",
    "#Neoplasm\n",
    "eval_f1_macro = 0.8331153841159322           \n",
    "eval_f1_micro = 0.8842202282523245  \n",
    "f1_claim = 0.7642670871490084          \n",
    "f1_evidence = 0.8870742183598043 \n",
    "\n",
    "# Glaucoma\n",
    "eval_f1_macro = 0.8432297937148395\n",
    "eval_f1_micro = 0.891302317763293    \n",
    "f1_claim = 0.8001632653061226             \n",
    "f1_evidence = 0.8766085585903499 \n",
    "\n",
    "# Mixed\n",
    "eval_f1_macro = 0.8276006934273226\n",
    "eval_f1_micro = 0.8814192515435649    \n",
    "f1_claim = 0.7540607939610434       \n",
    "f1_evidence = 0.8820181813702546  \n",
    "\n",
    "#opus+awesome\n",
    "# n\n",
    "eval_f1_macro = 0.8231949813663691    \n",
    "eval_f1_micro = 0.8808427086532109       \n",
    "f1_claim = 0.7492806205429751       \n",
    "f1_evidence = 0.8865031462694234 \n",
    "# g\n",
    "eval_f1_macro = 0.835482877127567\n",
    "eval_f1_micro = 0.8869774873467982  \n",
    "f1_claim = 0.8008611410118407        \n",
    "f1_evidence = 0.8734213410856407   \n",
    "# m\n",
    "eval_f1_macro = 0.8157857067189477  \n",
    "eval_f1_micro = 0.8754521477015825  \n",
    "f1_claim = 0.7551700208188759         \n",
    "f1_evidence = 0.8755925365607665   \n",
    "\n",
    "# opus+simailgn\n",
    "#n\n",
    "eval_f1_macro = 0.8315486985987438\n",
    "eval_f1_micro = 0.8828713138475568    \n",
    "f1_claim = 0.7549044265593561          \n",
    "f1_evidence = 0.8894982317666956 \n",
    "#g\n",
    "eval_f1_macro = 0.8417131464135337         \n",
    "eval_f1_micro = 0.8869200815162793        \n",
    "f1_claim = 0.8036748882635326               \n",
    "f1_evidence = 0.8730090605627088  \n",
    "#m\n",
    "eval_f1_macro = 0.8230364075842536  \n",
    "eval_f1_micro = 0.8764506405425773    \n",
    "f1_claim = 0.7568804159445408         \n",
    "f1_evidence = 0.8769498273820023   \n",
    "\n",
    "# deepl+awesome\n",
    "# NEo\n",
    "eval_f1_macro = 0.8208313036341793        \n",
    "eval_f1_micro = 0.8824491492495504      \n",
    "f1_claim = 0.7614884963273235       \n",
    "f1_evidence = 0.8844663349751232 \n",
    "#g\n",
    "eval_f1_macro = 0.8364950775840218  \n",
    "eval_f1_micro = 0.8898828978577965           \n",
    "f1_claim = 0.7977133523887301                \n",
    "f1_evidence = 0.8748910508586369\n",
    "#m\n",
    "eval_f1_macro = 0.8167979303797827\n",
    "eval_f1_micro = 0.8805727062763969  \n",
    "f1_claim = 0.7524015694763901      \n",
    "f1_evidence = 0.8808520079875749 \n",
    "\n",
    "# Train en+es => test es (deepl+simalign)(BETO)\n",
    "\n",
    "# deepl+awesome\n",
    "# neoplasm\n",
    "eval_f1_macro = 0.817383732726738  \n",
    "eval_f1_micro = 0.884087804330333  \n",
    "f1_claim = 0.7551413881748072                \n",
    "f1_evidence = 0.8873463114754099 \n",
    "\n",
    "# glaucoma\n",
    "eval_f1_macro = 0.8216812826486678  \n",
    "eval_f1_micro = 0.8950146739337577         \n",
    "f1_claim = 0.804414261460102         \n",
    "f1_evidence = 0.8817333014124971\n",
    "\n",
    "#mixed\n",
    "eval_f1_macro = 0.807591296933762 \n",
    "eval_f1_micro = 0.8812696145678688        \n",
    "f1_claim = 0.7207846410684474             \n",
    "f1_evidence = 0.8867386180374642   \n",
    "\n",
    "# opus+awesome\n",
    "# neoplasm\n",
    "eval_f1_macro = 0.8099494109863706       \n",
    "eval_f1_micro = 0.8818545133151443         \n",
    "f1_claim = 0.7401346179226606             \n",
    "f1_evidence = 0.8889993719907892 \n",
    "\n",
    "# glaucoma\n",
    "eval_f1_macro = 0.8176784586783586    \n",
    "eval_f1_micro = 0.8951697584879243           \n",
    "f1_claim = 0.7991386735572782               \n",
    "f1_evidence = 0.88249885605568 \n",
    "\n",
    "#mixed\n",
    "eval_f1_macro = 0.8072936890406357 \n",
    "eval_f1_micro = 0.8798016161770901        \n",
    "f1_claim = 0.7395671240628094                     \n",
    "f1_evidence = 0.8830523513753328  -->"
   ]
  },
  {
   "cell_type": "markdown",
   "id": "83d365d1",
   "metadata": {},
   "source": [
    "<a id='rel_clf'></a>\n",
    "# Relation classification"
   ]
  },
  {
   "cell_type": "markdown",
   "id": "32a4f52d",
   "metadata": {},
   "source": [
    "### Train"
   ]
  },
  {
   "cell_type": "code",
   "execution_count": 4,
   "id": "b1546836",
   "metadata": {},
   "outputs": [
    {
     "data": {
      "text/html": [
       "<div>\n",
       "<style scoped>\n",
       "    .dataframe tbody tr th:only-of-type {\n",
       "        vertical-align: middle;\n",
       "    }\n",
       "\n",
       "    .dataframe tbody tr th {\n",
       "        vertical-align: top;\n",
       "    }\n",
       "\n",
       "    .dataframe thead th {\n",
       "        text-align: right;\n",
       "    }\n",
       "</style>\n",
       "<table border=\"1\" class=\"dataframe\">\n",
       "  <thead>\n",
       "    <tr style=\"text-align: right;\">\n",
       "      <th></th>\n",
       "      <th>0</th>\n",
       "      <th>1</th>\n",
       "      <th>2</th>\n",
       "    </tr>\n",
       "  </thead>\n",
       "  <tbody>\n",
       "    <tr>\n",
       "      <th>0</th>\n",
       "      <td>__label__noRel</td>\n",
       "      <td>The overall remission rate was 87% with 31% co...</td>\n",
       "      <td>The median survival of all 406 eligible patien...</td>\n",
       "    </tr>\n",
       "    <tr>\n",
       "      <th>1</th>\n",
       "      <td>__label__noRel</td>\n",
       "      <td>The overall remission rate was 87% with 31% co...</td>\n",
       "      <td>The overall remission rate, the rate of comple...</td>\n",
       "    </tr>\n",
       "    <tr>\n",
       "      <th>2</th>\n",
       "      <td>__label__noRel</td>\n",
       "      <td>The overall remission rate was 87% with 31% co...</td>\n",
       "      <td>In limited disease the estimated percentages o...</td>\n",
       "    </tr>\n",
       "    <tr>\n",
       "      <th>3</th>\n",
       "      <td>__label__noRel</td>\n",
       "      <td>The overall remission rate was 87% with 31% co...</td>\n",
       "      <td>Patients with extensive disease survived signi...</td>\n",
       "    </tr>\n",
       "    <tr>\n",
       "      <th>4</th>\n",
       "      <td>__label__noRel</td>\n",
       "      <td>The overall remission rate was 87% with 31% co...</td>\n",
       "      <td>In the latter patients the received dose inten...</td>\n",
       "    </tr>\n",
       "  </tbody>\n",
       "</table>\n",
       "</div>"
      ],
      "text/plain": [
       "                0                                                  1  \\\n",
       "0  __label__noRel  The overall remission rate was 87% with 31% co...   \n",
       "1  __label__noRel  The overall remission rate was 87% with 31% co...   \n",
       "2  __label__noRel  The overall remission rate was 87% with 31% co...   \n",
       "3  __label__noRel  The overall remission rate was 87% with 31% co...   \n",
       "4  __label__noRel  The overall remission rate was 87% with 31% co...   \n",
       "\n",
       "                                                   2  \n",
       "0  The median survival of all 406 eligible patien...  \n",
       "1  The overall remission rate, the rate of comple...  \n",
       "2  In limited disease the estimated percentages o...  \n",
       "3  Patients with extensive disease survived signi...  \n",
       "4  In the latter patients the received dose inten...  "
      ]
     },
     "execution_count": 4,
     "metadata": {},
     "output_type": "execute_result"
    }
   ],
   "source": [
    "data = pd.read_csv('/ecai2020-transformer_based_am/data/neoplasm/train_relations.tsv', sep='\\t', header=None)\n",
    "data.head()"
   ]
  },
  {
   "cell_type": "code",
   "execution_count": 5,
   "id": "fabf3140",
   "metadata": {},
   "outputs": [
    {
     "name": "stdout",
     "output_type": "stream",
     "text": [
      "<class 'pandas.core.frame.DataFrame'>\n",
      "RangeIndex: 14286 entries, 0 to 14285\n",
      "Data columns (total 3 columns):\n",
      " #   Column  Non-Null Count  Dtype \n",
      "---  ------  --------------  ----- \n",
      " 0   0       14286 non-null  object\n",
      " 1   1       14286 non-null  object\n",
      " 2   2       14286 non-null  object\n",
      "dtypes: object(3)\n",
      "memory usage: 335.0+ KB\n"
     ]
    }
   ],
   "source": [
    "data.info()"
   ]
  },
  {
   "cell_type": "code",
   "execution_count": 6,
   "id": "d5a1420b",
   "metadata": {},
   "outputs": [
    {
     "data": {
      "text/plain": [
       "__label__noRel      12892\n",
       "__label__Support     1194\n",
       "__label__Attack       200\n",
       "Name: 0, dtype: int64"
      ]
     },
     "execution_count": 6,
     "metadata": {},
     "output_type": "execute_result"
    }
   ],
   "source": [
    "data[0].value_counts()"
   ]
  },
  {
   "cell_type": "code",
   "execution_count": 22,
   "id": "d5604f69",
   "metadata": {},
   "outputs": [
    {
     "data": {
      "text/plain": [
       "2266"
      ]
     },
     "execution_count": 22,
     "metadata": {},
     "output_type": "execute_result"
    }
   ],
   "source": [
    "data[1].nunique()"
   ]
  },
  {
   "cell_type": "code",
   "execution_count": 13,
   "id": "ee486df3",
   "metadata": {},
   "outputs": [
    {
     "name": "stdout",
     "output_type": "stream",
     "text": [
      "Number of characters in training data: 1882891\n"
     ]
    }
   ],
   "source": [
    "count = 0\n",
    "for line in data[1]:\n",
    "    for char in line:\n",
    "#     print(line)\n",
    "        count += 1\n",
    "\n",
    "print(f'Number of characters in training data: {count}')\n",
    "    "
   ]
  },
  {
   "cell_type": "code",
   "execution_count": null,
   "id": "3c8af084",
   "metadata": {},
   "outputs": [],
   "source": []
  },
  {
   "cell_type": "markdown",
   "id": "e4f6f07c",
   "metadata": {},
   "source": [
    "### Test"
   ]
  },
  {
   "cell_type": "code",
   "execution_count": 14,
   "id": "f141887e",
   "metadata": {},
   "outputs": [
    {
     "data": {
      "text/html": [
       "<div>\n",
       "<style scoped>\n",
       "    .dataframe tbody tr th:only-of-type {\n",
       "        vertical-align: middle;\n",
       "    }\n",
       "\n",
       "    .dataframe tbody tr th {\n",
       "        vertical-align: top;\n",
       "    }\n",
       "\n",
       "    .dataframe thead th {\n",
       "        text-align: right;\n",
       "    }\n",
       "</style>\n",
       "<table border=\"1\" class=\"dataframe\">\n",
       "  <thead>\n",
       "    <tr style=\"text-align: right;\">\n",
       "      <th></th>\n",
       "      <th>0</th>\n",
       "      <th>1</th>\n",
       "      <th>2</th>\n",
       "    </tr>\n",
       "  </thead>\n",
       "  <tbody>\n",
       "    <tr>\n",
       "      <th>0</th>\n",
       "      <td>__label__noRel</td>\n",
       "      <td>Responses (&gt; or = 50% improvement) were seen i...</td>\n",
       "      <td>The rate of progressive disease was 47%, 21%, ...</td>\n",
       "    </tr>\n",
       "    <tr>\n",
       "      <th>1</th>\n",
       "      <td>__label__noRel</td>\n",
       "      <td>Responses (&gt; or = 50% improvement) were seen i...</td>\n",
       "      <td>Eight (73%) of 11 patients crossing over from ...</td>\n",
       "    </tr>\n",
       "    <tr>\n",
       "      <th>2</th>\n",
       "      <td>__label__noRel</td>\n",
       "      <td>Responses (&gt; or = 50% improvement) were seen i...</td>\n",
       "      <td>The median duration of response from start of ...</td>\n",
       "    </tr>\n",
       "    <tr>\n",
       "      <th>3</th>\n",
       "      <td>__label__noRel</td>\n",
       "      <td>Responses (&gt; or = 50% improvement) were seen i...</td>\n",
       "      <td>The following drug-related adverse effects wer...</td>\n",
       "    </tr>\n",
       "    <tr>\n",
       "      <th>4</th>\n",
       "      <td>__label__noRel</td>\n",
       "      <td>Responses (&gt; or = 50% improvement) were seen i...</td>\n",
       "      <td>No cases of drug-related neutropenic fever, se...</td>\n",
       "    </tr>\n",
       "  </tbody>\n",
       "</table>\n",
       "</div>"
      ],
      "text/plain": [
       "                0                                                  1  \\\n",
       "0  __label__noRel  Responses (> or = 50% improvement) were seen i...   \n",
       "1  __label__noRel  Responses (> or = 50% improvement) were seen i...   \n",
       "2  __label__noRel  Responses (> or = 50% improvement) were seen i...   \n",
       "3  __label__noRel  Responses (> or = 50% improvement) were seen i...   \n",
       "4  __label__noRel  Responses (> or = 50% improvement) were seen i...   \n",
       "\n",
       "                                                   2  \n",
       "0  The rate of progressive disease was 47%, 21%, ...  \n",
       "1  Eight (73%) of 11 patients crossing over from ...  \n",
       "2  The median duration of response from start of ...  \n",
       "3  The following drug-related adverse effects wer...  \n",
       "4  No cases of drug-related neutropenic fever, se...  "
      ]
     },
     "execution_count": 14,
     "metadata": {},
     "output_type": "execute_result"
    }
   ],
   "source": [
    "test = pd.read_csv('/ecai2020-transformer_based_am/data/neoplasm/test_relations.tsv', sep='\\t', header=None)\n",
    "test.head()"
   ]
  },
  {
   "cell_type": "code",
   "execution_count": 27,
   "id": "fc0bd24a",
   "metadata": {},
   "outputs": [
    {
     "name": "stdout",
     "output_type": "stream",
     "text": [
      "<class 'pandas.core.frame.DataFrame'>\n",
      "RangeIndex: 4380 entries, 0 to 4379\n",
      "Data columns (total 3 columns):\n",
      " #   Column  Non-Null Count  Dtype \n",
      "---  ------  --------------  ----- \n",
      " 0   0       4380 non-null   object\n",
      " 1   1       4380 non-null   object\n",
      " 2   2       4380 non-null   object\n",
      "dtypes: object(3)\n",
      "memory usage: 102.8+ KB\n"
     ]
    }
   ],
   "source": [
    "test.info()"
   ]
  },
  {
   "cell_type": "code",
   "execution_count": 26,
   "id": "09d84493",
   "metadata": {},
   "outputs": [
    {
     "data": {
      "text/plain": [
       "__label__noRel      3961\n",
       "__label__Support     359\n",
       "__label__Attack       60\n",
       "Name: 0, dtype: int64"
      ]
     },
     "execution_count": 26,
     "metadata": {},
     "output_type": "execute_result"
    }
   ],
   "source": [
    "test[0].value_counts()"
   ]
  },
  {
   "cell_type": "code",
   "execution_count": 23,
   "id": "1887a406",
   "metadata": {},
   "outputs": [
    {
     "data": {
      "text/plain": [
       "686"
      ]
     },
     "execution_count": 23,
     "metadata": {},
     "output_type": "execute_result"
    }
   ],
   "source": [
    "test[1].nunique()"
   ]
  },
  {
   "cell_type": "code",
   "execution_count": 25,
   "id": "0d7f9648",
   "metadata": {},
   "outputs": [
    {
     "name": "stdout",
     "output_type": "stream",
     "text": [
      "Number of characters in test data: 577319\n"
     ]
    }
   ],
   "source": [
    "count = 0\n",
    "for line in test[1]:\n",
    "    for char in line:\n",
    "#     print(line)\n",
    "        count += 1\n",
    "\n",
    "print(f'Number of characters in test data: {count}')\n",
    "    "
   ]
  },
  {
   "cell_type": "code",
   "execution_count": null,
   "id": "b0afff1c",
   "metadata": {},
   "outputs": [],
   "source": []
  },
  {
   "cell_type": "markdown",
   "id": "5a621c58",
   "metadata": {},
   "source": [
    "### Dev"
   ]
  },
  {
   "cell_type": "code",
   "execution_count": 28,
   "id": "18271140",
   "metadata": {},
   "outputs": [
    {
     "data": {
      "text/html": [
       "<div>\n",
       "<style scoped>\n",
       "    .dataframe tbody tr th:only-of-type {\n",
       "        vertical-align: middle;\n",
       "    }\n",
       "\n",
       "    .dataframe tbody tr th {\n",
       "        vertical-align: top;\n",
       "    }\n",
       "\n",
       "    .dataframe thead th {\n",
       "        text-align: right;\n",
       "    }\n",
       "</style>\n",
       "<table border=\"1\" class=\"dataframe\">\n",
       "  <thead>\n",
       "    <tr style=\"text-align: right;\">\n",
       "      <th></th>\n",
       "      <th>0</th>\n",
       "      <th>1</th>\n",
       "      <th>2</th>\n",
       "    </tr>\n",
       "  </thead>\n",
       "  <tbody>\n",
       "    <tr>\n",
       "      <th>0</th>\n",
       "      <td>__label__noRel</td>\n",
       "      <td>Intervention increased SF36 score by 9.5 point...</td>\n",
       "      <td>Effect size (ES) was 0.63 [0.37; 0.90], 0.29 [...</td>\n",
       "    </tr>\n",
       "    <tr>\n",
       "      <th>1</th>\n",
       "      <td>__label__noRel</td>\n",
       "      <td>Intervention increased SF36 score by 9.5 point...</td>\n",
       "      <td>Anxiety score was shortly minored by intervent...</td>\n",
       "    </tr>\n",
       "    <tr>\n",
       "      <th>2</th>\n",
       "      <td>__label__Support</td>\n",
       "      <td>Intervention increased SF36 score by 9.5 point...</td>\n",
       "      <td>This 2-week group intervention seemed to durab...</td>\n",
       "    </tr>\n",
       "    <tr>\n",
       "      <th>3</th>\n",
       "      <td>__label__noRel</td>\n",
       "      <td>Intervention increased SF36 score by 9.5 point...</td>\n",
       "      <td>Differences, smaller at 12 months than at six,...</td>\n",
       "    </tr>\n",
       "    <tr>\n",
       "      <th>4</th>\n",
       "      <td>__label__noRel</td>\n",
       "      <td>Effect size (ES) was 0.63 [0.37; 0.90], 0.29 [...</td>\n",
       "      <td>Intervention increased SF36 score by 9.5 point...</td>\n",
       "    </tr>\n",
       "  </tbody>\n",
       "</table>\n",
       "</div>"
      ],
      "text/plain": [
       "                  0                                                  1  \\\n",
       "0    __label__noRel  Intervention increased SF36 score by 9.5 point...   \n",
       "1    __label__noRel  Intervention increased SF36 score by 9.5 point...   \n",
       "2  __label__Support  Intervention increased SF36 score by 9.5 point...   \n",
       "3    __label__noRel  Intervention increased SF36 score by 9.5 point...   \n",
       "4    __label__noRel  Effect size (ES) was 0.63 [0.37; 0.90], 0.29 [...   \n",
       "\n",
       "                                                   2  \n",
       "0  Effect size (ES) was 0.63 [0.37; 0.90], 0.29 [...  \n",
       "1  Anxiety score was shortly minored by intervent...  \n",
       "2  This 2-week group intervention seemed to durab...  \n",
       "3  Differences, smaller at 12 months than at six,...  \n",
       "4  Intervention increased SF36 score by 9.5 point...  "
      ]
     },
     "execution_count": 28,
     "metadata": {},
     "output_type": "execute_result"
    }
   ],
   "source": [
    "dev = pd.read_csv('/Users/anaryegen/Desktop/UPV/servers/ecai2020-transformer_based_am/data/neoplasm/dev_relations.tsv', sep='\\t', header=None)\n",
    "dev.head()"
   ]
  },
  {
   "cell_type": "code",
   "execution_count": 29,
   "id": "9850d477",
   "metadata": {},
   "outputs": [
    {
     "name": "stdout",
     "output_type": "stream",
     "text": [
      "<class 'pandas.core.frame.DataFrame'>\n",
      "RangeIndex: 2030 entries, 0 to 2029\n",
      "Data columns (total 3 columns):\n",
      " #   Column  Non-Null Count  Dtype \n",
      "---  ------  --------------  ----- \n",
      " 0   0       2030 non-null   object\n",
      " 1   1       2030 non-null   object\n",
      " 2   2       2030 non-null   object\n",
      "dtypes: object(3)\n",
      "memory usage: 47.7+ KB\n"
     ]
    }
   ],
   "source": [
    "dev.info()"
   ]
  },
  {
   "cell_type": "code",
   "execution_count": 30,
   "id": "3e476174",
   "metadata": {},
   "outputs": [
    {
     "data": {
      "text/plain": [
       "__label__noRel      1815\n",
       "__label__Support     185\n",
       "__label__Attack       30\n",
       "Name: 0, dtype: int64"
      ]
     },
     "execution_count": 30,
     "metadata": {},
     "output_type": "execute_result"
    }
   ],
   "source": [
    "dev[0].value_counts()"
   ]
  },
  {
   "cell_type": "code",
   "execution_count": 32,
   "id": "77aa907e",
   "metadata": {},
   "outputs": [
    {
     "data": {
      "text/plain": [
       "326"
      ]
     },
     "execution_count": 32,
     "metadata": {},
     "output_type": "execute_result"
    }
   ],
   "source": [
    "dev[1].nunique()"
   ]
  },
  {
   "cell_type": "markdown",
   "id": "c988e6f2",
   "metadata": {},
   "source": [
    "### Results"
   ]
  },
  {
   "cell_type": "markdown",
   "id": "d4471f58",
   "metadata": {},
   "source": [
    "|| precision   | recall | f1-score | support| \n",
    "|-| - | - | - | - |   \n",
    "|**sciBERT**|\n",
    "||    0.95   |   0.96  |    0.96    |   1815|                                             \n",
    "||    0.61   |   0.61   |   0.61    |   185 |                                               \n",
    "||    0.78   |   0.23   |   0.36    |    30 |                                                \n",
    "|accuracy|    ||                        0.92   |   2030  |                                               \n",
    "|macro avg|       0.78  |     0.60  |    0.64  |   2030  |                                               \n",
    "|weighted avg|       0.92  |    0.92   |   0.92   |   2030  |                                               \n",
    "|**bioBERT**|\n",
    "||   0.95  |   0.97  |   0.96   |   1815\n",
    "||   0.68  |   0.64  |   0.66   |    185\n",
    "||   0.00  |   0.00  |   0.00   |     30\n",
    "|    accuracy|   ||                         0.93  |  2030|\n",
    "|   macro avg|       0.54   |   0.54  |    0.54    |  2030|\n",
    "|weighted avg|       0.91   |   0.93   |  0.92    |  2030|\n",
    "|**BERT**|\n",
    "||0.94   |   0.96   |   0.95   |   1815\n",
    "||0.59   |   0.57   |   0.58   |    185\n",
    "||0.00   |   0.00   |   0.00   |     30\n",
    "|    accuracy|  ||                         0.91   |   2030\n",
    "|   macro avg|       0.51 |     0.51   |   0.51   |   2030\n",
    "|weighted avg|       0.90  |    0.91   |   0.90   |   2030\n"
   ]
  },
  {
   "cell_type": "code",
   "execution_count": 60,
   "id": "6b580a04",
   "metadata": {},
   "outputs": [],
   "source": [
    "#sciBert\n",
    "eval_f1_macro = 0.6411988822634034         \n",
    "eval_f1_macro_filtered = 0.7823111439079256\n",
    "\n",
    "eval_f1_micro = 0.9187192118226601       \n",
    "eval_f1_micro_filtered = 0.9241482218353644\n",
    "\n",
    "#bioBert\n",
    "eval_f1_macro = 0.5397247640802364\n",
    "eval_f1_macro_filtered = 0.8095871461203545\n",
    "\n",
    "eval_f1_micro = 0.9261083743842364\n",
    "eval_f1_micro_filtered = 0.9332340531149169\n",
    "\n",
    "#Bert\n",
    "eval_f1_macro = 0.5100361117076702\n",
    "eval_f1_macro_filtered = 0.7650541675615052\n",
    "\n",
    "eval_f1_micro = 0.9103448275862069\n",
    "eval_f1_micro_filtered = 0.9171215880893302"
   ]
  },
  {
   "cell_type": "markdown",
   "id": "b3a8c9f2",
   "metadata": {},
   "source": [
    "|| precision   | recall | f1-score | support| \n",
    "|-| - | - | - | - |   \n",
    "|**es => es (BETO)**|\n",
    "||      0.93|      0.98|      0.95|      1814|\n",
    "||      0.62|     0.42|      0.50|       185|\n",
    "||      0.00|      0.00|      0.00|        30|\n",
    "|    accuracy|||                           0.91|      2029|\n",
    "|   macro avg|       0.52|      0.47|      0.49|      2029|\n",
    "|weighted avg|       0.89|      0.91|      0.90|      2029|\n",
    "|**en => es**|\n",
    "||        0.93   |   0.97  |    0.95  |    1814|\n",
    "||        0.57   |   0.39  |    0.46  |     185|\n",
    "||        0.45   |   0.17  |    0.24  |      30|\n",
    "|    accuracy|  ||                         0.90|      2029|\n",
    "|   macro avg|       0.65  |    0.51  |    0.55|      2029|\n",
    "|weighted avg|       0.89  |    0.90  |    0.89|      2029|\n",
    "   \n",
    "        "
   ]
  },
  {
   "cell_type": "code",
   "execution_count": null,
   "id": "7177a947",
   "metadata": {},
   "outputs": [],
   "source": [
    "# es => es\n",
    "eval_f1_macro = 0.5623686841904604\n",
    "eval_f1_macro_filtered = 0.7153478980805623\n",
    "eval_f1_micro = 0.905864958107442\n",
    "eval_f1_micro_filtered = 0.9121672057725804\n",
    "\n",
    "#en => es\n",
    "eval_f1_macro = 0.551885577785158\n",
    "eval_f1_macro_filtered = 0.705877147165542\n",
    "\n",
    "eval_f1_micro = 0.9043863972400197\n",
    "eval_f1_micro_filtered = 0.9111277072442121\n",
    "\n"
   ]
  }
 ],
 "metadata": {
  "kernelspec": {
   "display_name": "Python 3 (ipykernel)",
   "language": "python",
   "name": "python3"
  },
  "language_info": {
   "codemirror_mode": {
    "name": "ipython",
    "version": 3
   },
   "file_extension": ".py",
   "mimetype": "text/x-python",
   "name": "python",
   "nbconvert_exporter": "python",
   "pygments_lexer": "ipython3",
   "version": "3.8.9"
  },
  "toc": {
   "base_numbering": 1,
   "nav_menu": {},
   "number_sections": true,
   "sideBar": true,
   "skip_h1_title": false,
   "title_cell": "Table of Contents",
   "title_sidebar": "Contents",
   "toc_cell": false,
   "toc_position": {},
   "toc_section_display": true,
   "toc_window_display": true
  }
 },
 "nbformat": 4,
 "nbformat_minor": 5
}
