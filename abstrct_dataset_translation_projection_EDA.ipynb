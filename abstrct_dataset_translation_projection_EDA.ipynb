{
 "cells": [
  {
   "cell_type": "code",
   "execution_count": 1,
   "id": "35fe0c1c",
   "metadata": {},
   "outputs": [],
   "source": [
    "import pandas as pd\n",
    "import glob\n",
    "import matplotlib.pyplot as plt\n",
    "# import seaborn as sns\n",
    "import os"
   ]
  },
  {
   "cell_type": "markdown",
   "id": "64b0dd46",
   "metadata": {},
   "source": [
    "# Load data "
   ]
  },
  {
   "cell_type": "code",
   "execution_count": 2,
   "id": "4d37a783",
   "metadata": {},
   "outputs": [],
   "source": [
    "neoplasm_trn = 'abstrct-master/AbstRCT_corpus/data/train/neoplasm_train/'\n",
    "neoplasm_tst = 'abstrct-master/AbstRCT_corpus/data/dev/neoplasm_dev/'\n",
    "neoplasm_dv = 'abstrct-master/AbstRCT_corpus/data/test/neoplasm_test/'\n",
    "mixed = 'abstrct-master/AbstRCT_corpus/data/test/mixed_test/'\n",
    "glaucoma = 'abstrct-master/AbstRCT_corpus/data/test/glaucoma_test/'\n",
    "\n",
    "\n",
    "# .txt files?? - not for now - the problem is with .ann data\n",
    "def get_annotated_data(url):\n",
    "    files = glob.glob(url+\"/*.ann\")\n",
    "# print(len(files))\n",
    "    \n",
    "    df = pd.DataFrame()\n",
    "    for f in files:\n",
    "\n",
    "        df_temp = pd.read_csv(f, sep='\\t', header = None)\n",
    "        df = df.append(df_temp)\n",
    "        df['url'] = f[50:-4]\n",
    "    df.dropna(inplace=True)\n",
    "    df.reset_index(inplace=True)\n",
    "#     print(df.info())\n",
    "    return df\n",
    "# df.head()\n",
    "\n",
    "# Neoplasm\n",
    "neoplasm_train = get_annotated_data(neoplasm_trn)\n",
    "neoplasm_test = get_annotated_data(neoplasm_tst)\n",
    "neoplasm_dev = get_annotated_data(neoplasm_dv)\n",
    "\n",
    "# Glaucoma\n",
    "glaucoma_test = get_annotated_data(glaucoma)\n",
    "\n",
    "# Mixed\n",
    "mixed_test = get_annotated_data(mixed)"
   ]
  },
  {
   "cell_type": "code",
   "execution_count": 3,
   "id": "5a482945",
   "metadata": {},
   "outputs": [
    {
     "data": {
      "text/html": [
       "<div>\n",
       "<style scoped>\n",
       "    .dataframe tbody tr th:only-of-type {\n",
       "        vertical-align: middle;\n",
       "    }\n",
       "\n",
       "    .dataframe tbody tr th {\n",
       "        vertical-align: top;\n",
       "    }\n",
       "\n",
       "    .dataframe thead th {\n",
       "        text-align: right;\n",
       "    }\n",
       "</style>\n",
       "<table border=\"1\" class=\"dataframe\">\n",
       "  <thead>\n",
       "    <tr style=\"text-align: right;\">\n",
       "      <th></th>\n",
       "      <th>index</th>\n",
       "      <th>0</th>\n",
       "      <th>1</th>\n",
       "      <th>2</th>\n",
       "      <th>url</th>\n",
       "    </tr>\n",
       "  </thead>\n",
       "  <tbody>\n",
       "    <tr>\n",
       "      <th>0</th>\n",
       "      <td>0</td>\n",
       "      <td>T1</td>\n",
       "      <td>Premise 761 825</td>\n",
       "      <td>The overall remission rate was 87% with 31% co...</td>\n",
       "      <td>train/15920748</td>\n",
       "    </tr>\n",
       "    <tr>\n",
       "      <th>1</th>\n",
       "      <td>1</td>\n",
       "      <td>T2</td>\n",
       "      <td>Premise 826 932</td>\n",
       "      <td>The median survival of all 406 eligible patien...</td>\n",
       "      <td>train/15920748</td>\n",
       "    </tr>\n",
       "    <tr>\n",
       "      <th>2</th>\n",
       "      <td>2</td>\n",
       "      <td>T3</td>\n",
       "      <td>Premise 933 1107</td>\n",
       "      <td>The overall remission rate, the rate of comple...</td>\n",
       "      <td>train/15920748</td>\n",
       "    </tr>\n",
       "    <tr>\n",
       "      <th>3</th>\n",
       "      <td>3</td>\n",
       "      <td>T4</td>\n",
       "      <td>Premise 1108 1248</td>\n",
       "      <td>In limited disease the estimated percentages o...</td>\n",
       "      <td>train/15920748</td>\n",
       "    </tr>\n",
       "    <tr>\n",
       "      <th>4</th>\n",
       "      <td>4</td>\n",
       "      <td>T5</td>\n",
       "      <td>Premise 1249 1437</td>\n",
       "      <td>Patients with extensive disease survived signi...</td>\n",
       "      <td>train/15920748</td>\n",
       "    </tr>\n",
       "  </tbody>\n",
       "</table>\n",
       "</div>"
      ],
      "text/plain": [
       "   index   0                  1  \\\n",
       "0      0  T1    Premise 761 825   \n",
       "1      1  T2    Premise 826 932   \n",
       "2      2  T3   Premise 933 1107   \n",
       "3      3  T4  Premise 1108 1248   \n",
       "4      4  T5  Premise 1249 1437   \n",
       "\n",
       "                                                   2             url  \n",
       "0  The overall remission rate was 87% with 31% co...  train/15920748  \n",
       "1  The median survival of all 406 eligible patien...  train/15920748  \n",
       "2  The overall remission rate, the rate of comple...  train/15920748  \n",
       "3  In limited disease the estimated percentages o...  train/15920748  \n",
       "4  Patients with extensive disease survived signi...  train/15920748  "
      ]
     },
     "execution_count": 3,
     "metadata": {},
     "output_type": "execute_result"
    }
   ],
   "source": [
    "neoplasm_train.head()"
   ]
  },
  {
   "cell_type": "code",
   "execution_count": 4,
   "id": "bd6bab67",
   "metadata": {},
   "outputs": [
    {
     "data": {
      "text/html": [
       "<div>\n",
       "<style scoped>\n",
       "    .dataframe tbody tr th:only-of-type {\n",
       "        vertical-align: middle;\n",
       "    }\n",
       "\n",
       "    .dataframe tbody tr th {\n",
       "        vertical-align: top;\n",
       "    }\n",
       "\n",
       "    .dataframe thead th {\n",
       "        text-align: right;\n",
       "    }\n",
       "</style>\n",
       "<table border=\"1\" class=\"dataframe\">\n",
       "  <thead>\n",
       "    <tr style=\"text-align: right;\">\n",
       "      <th></th>\n",
       "      <th>index</th>\n",
       "      <th>0</th>\n",
       "      <th>1</th>\n",
       "      <th>2</th>\n",
       "      <th>url</th>\n",
       "    </tr>\n",
       "  </thead>\n",
       "  <tbody>\n",
       "    <tr>\n",
       "      <th>0</th>\n",
       "      <td>0</td>\n",
       "      <td>T1</td>\n",
       "      <td>Premise 683 812</td>\n",
       "      <td>Percentage of IOP reduction or the magnitude o...</td>\n",
       "      <td>est/16899528</td>\n",
       "    </tr>\n",
       "    <tr>\n",
       "      <th>1</th>\n",
       "      <td>1</td>\n",
       "      <td>T2</td>\n",
       "      <td>Premise 813 982</td>\n",
       "      <td>In the visual field, the estimated rate of cha...</td>\n",
       "      <td>est/16899528</td>\n",
       "    </tr>\n",
       "    <tr>\n",
       "      <th>2</th>\n",
       "      <td>2</td>\n",
       "      <td>T3</td>\n",
       "      <td>Premise 983 1130</td>\n",
       "      <td>The estimated rate of change in MD showed no s...</td>\n",
       "      <td>est/16899528</td>\n",
       "    </tr>\n",
       "    <tr>\n",
       "      <th>3</th>\n",
       "      <td>3</td>\n",
       "      <td>T4</td>\n",
       "      <td>Premise 1131 1292</td>\n",
       "      <td>No changes in the optic nerve head topography ...</td>\n",
       "      <td>est/16899528</td>\n",
       "    </tr>\n",
       "    <tr>\n",
       "      <th>4</th>\n",
       "      <td>4</td>\n",
       "      <td>T5</td>\n",
       "      <td>Premise 1293 1378</td>\n",
       "      <td>There were no patients who dropped out due to ...</td>\n",
       "      <td>est/16899528</td>\n",
       "    </tr>\n",
       "  </tbody>\n",
       "</table>\n",
       "</div>"
      ],
      "text/plain": [
       "   index   0                  1  \\\n",
       "0      0  T1    Premise 683 812   \n",
       "1      1  T2    Premise 813 982   \n",
       "2      2  T3   Premise 983 1130   \n",
       "3      3  T4  Premise 1131 1292   \n",
       "4      4  T5  Premise 1293 1378   \n",
       "\n",
       "                                                   2           url  \n",
       "0  Percentage of IOP reduction or the magnitude o...  est/16899528  \n",
       "1  In the visual field, the estimated rate of cha...  est/16899528  \n",
       "2  The estimated rate of change in MD showed no s...  est/16899528  \n",
       "3  No changes in the optic nerve head topography ...  est/16899528  \n",
       "4  There were no patients who dropped out due to ...  est/16899528  "
      ]
     },
     "execution_count": 4,
     "metadata": {},
     "output_type": "execute_result"
    }
   ],
   "source": [
    "glaucoma_test.head()"
   ]
  },
  {
   "cell_type": "code",
   "execution_count": 5,
   "id": "bf45e676",
   "metadata": {},
   "outputs": [
    {
     "name": "stdout",
     "output_type": "stream",
     "text": [
      "<class 'pandas.core.frame.DataFrame'>\n",
      "RangeIndex: 600 entries, 0 to 599\n",
      "Data columns (total 5 columns):\n",
      " #   Column  Non-Null Count  Dtype \n",
      "---  ------  --------------  ----- \n",
      " 0   index   600 non-null    int64 \n",
      " 1   0       600 non-null    object\n",
      " 2   1       600 non-null    object\n",
      " 3   2       600 non-null    object\n",
      " 4   url     600 non-null    object\n",
      "dtypes: int64(1), object(4)\n",
      "memory usage: 23.6+ KB\n"
     ]
    }
   ],
   "source": [
    "# Neoplasm\n",
    "# neoplasm_train.info() #  2267\n",
    "# neoplasm_test.info() # 326\n",
    "# neoplasm_dev.info() # 686\n",
    "\n",
    "# Glaucoma\n",
    "# glaucoma_test.info() # 594\n",
    "\n",
    "# Mixed\n",
    "mixed_test.info()  # 600"
   ]
  },
  {
   "cell_type": "code",
   "execution_count": 6,
   "id": "a8e7ff57",
   "metadata": {
    "scrolled": true
   },
   "outputs": [
    {
     "name": "stdout",
     "output_type": "stream",
     "text": [
      "<class 'pandas.core.frame.DataFrame'>\n",
      "RangeIndex: 686 entries, 0 to 685\n",
      "Data columns (total 5 columns):\n",
      " #   Column  Non-Null Count  Dtype \n",
      "---  ------  --------------  ----- \n",
      " 0   index   686 non-null    int64 \n",
      " 1   0       686 non-null    object\n",
      " 2   1       686 non-null    object\n",
      " 3   2       686 non-null    object\n",
      " 4   url     686 non-null    object\n",
      "dtypes: int64(1), object(4)\n",
      "memory usage: 26.9+ KB\n"
     ]
    }
   ],
   "source": [
    "neoplasm_dev.info()"
   ]
  },
  {
   "cell_type": "code",
   "execution_count": 7,
   "id": "8c1a68b9",
   "metadata": {},
   "outputs": [
    {
     "name": "stdout",
     "output_type": "stream",
     "text": [
      "Neoplasm train:  {'Premise': 1537, 'Claim': 666, 'MajorClaim': 64}\n",
      "Neoplasm test:  {'Premise': 218, 'Claim': 99, 'MajorClaim': 9}\n",
      "Neoplasm dev:  {'Premise': 438, 'Claim': 228, 'MajorClaim': 20}\n",
      "\n",
      "\n",
      "Glaucoma test:  {'Premise': 404, 'Claim': 183, 'MajorClaim': 7}\n",
      "\n",
      "\n",
      "Mixed test:  {'Premise': 388, 'Claim': 182, 'MajorClaim': 30}\n"
     ]
    }
   ],
   "source": [
    "def frequencies(df):\n",
    "    components_freq = {}\n",
    "    for i in df[1]:\n",
    "        comp = i.split()\n",
    "        if comp[0] in components_freq:\n",
    "            components_freq[comp[0]] += 1\n",
    "        else:\n",
    "            components_freq[comp[0]] = 1\n",
    "    return components_freq\n",
    "print(\"Neoplasm train: \" , frequencies(neoplasm_train))\n",
    "print(\"Neoplasm test: \" , frequencies(neoplasm_test))\n",
    "print(\"Neoplasm dev: \",frequencies(neoplasm_dev))\n",
    "print('\\n')\n",
    "print(\"Glaucoma test: \",frequencies(glaucoma_test))\n",
    "print('\\n')\n",
    "print('Mixed test: ', frequencies(mixed_test))"
   ]
  },
  {
   "cell_type": "markdown",
   "id": "7eefd7c2",
   "metadata": {},
   "source": [
    "## Add column with relation componentonly"
   ]
  },
  {
   "cell_type": "code",
   "execution_count": 8,
   "id": "baf45a63",
   "metadata": {},
   "outputs": [],
   "source": [
    "def relation_components(df):\n",
    "    components = list(df[1])\n",
    "    comp_list = []\n",
    "    for c in components:\n",
    "        comp_list.append(c.split()[0])\n",
    "    df['relation_components'] = comp_list\n",
    "\n",
    "    return df\n",
    "\n",
    "neoplasm_train = relation_components(neoplasm_train)\n",
    "neoplasm_test = relation_components(neoplasm_test)\n",
    "neoplasm_dev = relation_components(neoplasm_dev)\n",
    "\n",
    "glaucoma_test = relation_components(glaucoma_test)\n",
    "\n",
    "mixed_test = relation_components(mixed_test)"
   ]
  },
  {
   "cell_type": "code",
   "execution_count": 9,
   "id": "9e127b27",
   "metadata": {},
   "outputs": [
    {
     "data": {
      "text/html": [
       "<div>\n",
       "<style scoped>\n",
       "    .dataframe tbody tr th:only-of-type {\n",
       "        vertical-align: middle;\n",
       "    }\n",
       "\n",
       "    .dataframe tbody tr th {\n",
       "        vertical-align: top;\n",
       "    }\n",
       "\n",
       "    .dataframe thead th {\n",
       "        text-align: right;\n",
       "    }\n",
       "</style>\n",
       "<table border=\"1\" class=\"dataframe\">\n",
       "  <thead>\n",
       "    <tr style=\"text-align: right;\">\n",
       "      <th></th>\n",
       "      <th>index</th>\n",
       "      <th>0</th>\n",
       "      <th>1</th>\n",
       "      <th>2</th>\n",
       "      <th>url</th>\n",
       "      <th>relation_components</th>\n",
       "    </tr>\n",
       "  </thead>\n",
       "  <tbody>\n",
       "    <tr>\n",
       "      <th>0</th>\n",
       "      <td>0</td>\n",
       "      <td>T1</td>\n",
       "      <td>Premise 763 1114</td>\n",
       "      <td>In sildenafil versus placebo arms, week-12 6MW...</td>\n",
       "      <td>/28371482</td>\n",
       "      <td>Premise</td>\n",
       "    </tr>\n",
       "    <tr>\n",
       "      <th>1</th>\n",
       "      <td>1</td>\n",
       "      <td>T2</td>\n",
       "      <td>Premise 1188 1295</td>\n",
       "      <td>Changes in WHO functional class and Borg dyspn...</td>\n",
       "      <td>/28371482</td>\n",
       "      <td>Premise</td>\n",
       "    </tr>\n",
       "    <tr>\n",
       "      <th>2</th>\n",
       "      <td>2</td>\n",
       "      <td>T3</td>\n",
       "      <td>Premise 1296 1363</td>\n",
       "      <td>Headache, diarrhoea, and flushing were more co...</td>\n",
       "      <td>/28371482</td>\n",
       "      <td>Premise</td>\n",
       "    </tr>\n",
       "    <tr>\n",
       "      <th>3</th>\n",
       "      <td>3</td>\n",
       "      <td>T4</td>\n",
       "      <td>Claim 1364 1497</td>\n",
       "      <td>Sildenafil, in addition to stable (≥3 months) ...</td>\n",
       "      <td>/28371482</td>\n",
       "      <td>Claim</td>\n",
       "    </tr>\n",
       "    <tr>\n",
       "      <th>4</th>\n",
       "      <td>0</td>\n",
       "      <td>T1</td>\n",
       "      <td>Premise 1287 1583</td>\n",
       "      <td>Responses (&gt; or = 50% improvement) were seen i...</td>\n",
       "      <td>/28371482</td>\n",
       "      <td>Premise</td>\n",
       "    </tr>\n",
       "  </tbody>\n",
       "</table>\n",
       "</div>"
      ],
      "text/plain": [
       "   index   0                  1  \\\n",
       "0      0  T1   Premise 763 1114   \n",
       "1      1  T2  Premise 1188 1295   \n",
       "2      2  T3  Premise 1296 1363   \n",
       "3      3  T4    Claim 1364 1497   \n",
       "4      0  T1  Premise 1287 1583   \n",
       "\n",
       "                                                   2        url  \\\n",
       "0  In sildenafil versus placebo arms, week-12 6MW...  /28371482   \n",
       "1  Changes in WHO functional class and Borg dyspn...  /28371482   \n",
       "2  Headache, diarrhoea, and flushing were more co...  /28371482   \n",
       "3  Sildenafil, in addition to stable (≥3 months) ...  /28371482   \n",
       "4  Responses (> or = 50% improvement) were seen i...  /28371482   \n",
       "\n",
       "  relation_components  \n",
       "0             Premise  \n",
       "1             Premise  \n",
       "2             Premise  \n",
       "3               Claim  \n",
       "4             Premise  "
      ]
     },
     "execution_count": 9,
     "metadata": {},
     "output_type": "execute_result"
    }
   ],
   "source": [
    "mixed_test.head()"
   ]
  },
  {
   "cell_type": "code",
   "execution_count": 12,
   "id": "8e55b454",
   "metadata": {},
   "outputs": [
    {
     "name": "stdout",
     "output_type": "stream",
     "text": [
      "Mean number of symbols - NEOPLASM: \n",
      "\t train set:  138\n",
      "\t test set:  143\n",
      "\t dev set:  135\n",
      "\n",
      "\n",
      "Mean number of symbols - GLAUCOMA:  138\n",
      "\n",
      "\n",
      "Mean number of symbols - MIXED:  145\n"
     ]
    }
   ],
   "source": [
    "print('Mean number of symbols - NEOPLASM: ')\n",
    "print(\"\\t train set: \", int(neoplasm_train[2].apply(lambda x: len(x)).mean()))\n",
    "print(\"\\t test set: \", int(neoplasm_test[2].apply(lambda x: len(x)).mean()))\n",
    "print(\"\\t dev set: \", int(neoplasm_dev[2].apply(lambda x: len(x)).mean()))\n",
    "print('\\n')\n",
    "print('Mean number of symbols - GLAUCOMA: ', int(glaucoma_test[2].apply(lambda x: len(x)).mean()))\n",
    "print('\\n')\n",
    "print('Mean number of symbols - MIXED: ', int(mixed_test[2].apply(lambda x: len(x)).mean()))\n"
   ]
  },
  {
   "cell_type": "code",
   "execution_count": 14,
   "id": "b72df7a9",
   "metadata": {},
   "outputs": [
    {
     "name": "stdout",
     "output_type": "stream",
     "text": [
      "Mean number of words - Neoplasm: \n",
      "\t train set:  21\n",
      "\t test set:  22\n",
      "\t dev set:  20\n",
      "\n",
      "\n",
      "Mean number of symbols - GLAUCOMA:  21\n",
      "\n",
      "\n",
      "Mean number of symbols - MIXED:  22\n"
     ]
    }
   ],
   "source": [
    "print('Mean number of words - Neoplasm: ')\n",
    "print(\"\\t train set: \", int(neoplasm_train[2].apply(lambda x: len(x.split())).mean()))\n",
    "print(\"\\t test set: \", int(neoplasm_test[2].apply(lambda x: len(x.split())).mean()))\n",
    "print(\"\\t dev set: \", int(neoplasm_dev[2].apply(lambda x: len(x.split())).mean()))\n",
    "print('\\n')\n",
    "print('Mean number of symbols - GLAUCOMA: ', int(glaucoma_test[2].apply(lambda x: len(x.split())).mean()))\n",
    "# print(\"\\t glaucoma_test: \", int(glaucoma_test[2].apply(lambda x: len(x.split())).mean()))\n",
    "print('\\n')\n",
    "print('Mean number of symbols - MIXED: ', int(mixed_test[2].apply(lambda x: len(x.split())).mean()))\n",
    "# print(\"\\t mixed_test: \", int(mixed_test[2].apply(lambda x: len(x.split())).mean()))"
   ]
  },
  {
   "cell_type": "code",
   "execution_count": null,
   "id": "05652c60",
   "metadata": {},
   "outputs": [],
   "source": []
  },
  {
   "cell_type": "code",
   "execution_count": null,
   "id": "038bd00a",
   "metadata": {},
   "outputs": [],
   "source": []
  },
  {
   "cell_type": "code",
   "execution_count": null,
   "id": "687bbe13",
   "metadata": {},
   "outputs": [],
   "source": []
  },
  {
   "cell_type": "markdown",
   "id": "7b248fa9",
   "metadata": {},
   "source": [
    "# Conll\n"
   ]
  },
  {
   "cell_type": "markdown",
   "id": "2289629e",
   "metadata": {},
   "source": [
    "#### Neoplasm\n",
    "\n",
    "<!-- Glaucoma test:  {'Premise': 404, 'Claim': 183, 'MajorClaim': 7} -->\n",
    "\n",
    "\n",
    "<!-- Mixed test:  {'Premise': 388, 'Claim': 182, 'MajorClaim': 30} -->"
   ]
  },
  {
   "cell_type": "code",
   "execution_count": 15,
   "id": "86aadc03",
   "metadata": {},
   "outputs": [
    {
     "data": {
      "text/html": [
       "<div>\n",
       "<style scoped>\n",
       "    .dataframe tbody tr th:only-of-type {\n",
       "        vertical-align: middle;\n",
       "    }\n",
       "\n",
       "    .dataframe tbody tr th {\n",
       "        vertical-align: top;\n",
       "    }\n",
       "\n",
       "    .dataframe thead th {\n",
       "        text-align: right;\n",
       "    }\n",
       "</style>\n",
       "<table border=\"1\" class=\"dataframe\">\n",
       "  <thead>\n",
       "    <tr style=\"text-align: right;\">\n",
       "      <th></th>\n",
       "      <th>0</th>\n",
       "      <th>1</th>\n",
       "      <th>2</th>\n",
       "      <th>3</th>\n",
       "      <th>4</th>\n",
       "    </tr>\n",
       "  </thead>\n",
       "  <tbody>\n",
       "    <tr>\n",
       "      <th>0</th>\n",
       "      <td>0</td>\n",
       "      <td>Facial</td>\n",
       "      <td>_</td>\n",
       "      <td>_</td>\n",
       "      <td>B-Claim</td>\n",
       "    </tr>\n",
       "    <tr>\n",
       "      <th>1</th>\n",
       "      <td>1</td>\n",
       "      <td>hirsutism</td>\n",
       "      <td>_</td>\n",
       "      <td>_</td>\n",
       "      <td>I-Claim</td>\n",
       "    </tr>\n",
       "    <tr>\n",
       "      <th>2</th>\n",
       "      <td>2</td>\n",
       "      <td>is</td>\n",
       "      <td>_</td>\n",
       "      <td>_</td>\n",
       "      <td>I-Claim</td>\n",
       "    </tr>\n",
       "    <tr>\n",
       "      <th>3</th>\n",
       "      <td>3</td>\n",
       "      <td>one</td>\n",
       "      <td>_</td>\n",
       "      <td>_</td>\n",
       "      <td>I-Claim</td>\n",
       "    </tr>\n",
       "    <tr>\n",
       "      <th>4</th>\n",
       "      <td>4</td>\n",
       "      <td>of</td>\n",
       "      <td>_</td>\n",
       "      <td>_</td>\n",
       "      <td>I-Claim</td>\n",
       "    </tr>\n",
       "  </tbody>\n",
       "</table>\n",
       "</div>"
      ],
      "text/plain": [
       "   0          1  2  3        4\n",
       "0  0     Facial  _  _  B-Claim\n",
       "1  1  hirsutism  _  _  I-Claim\n",
       "2  2         is  _  _  I-Claim\n",
       "3  3        one  _  _  I-Claim\n",
       "4  4         of  _  _  I-Claim"
      ]
     },
     "execution_count": 15,
     "metadata": {},
     "output_type": "execute_result"
    }
   ],
   "source": [
    "train_conll = pd.read_csv('ecai2020-transformer_based_am/data/neoplasm/train.conll', sep='\\t', header=None)\n",
    "test_conll = pd.read_csv('ecai2020-transformer_based_am/data/neoplasm/test.conll', sep='\\t', header=None)\n",
    "dev_conll = pd.read_csv('ecai2020-transformer_based_am/data/neoplasm/dev.conll', sep='\\t', header=None)\n",
    "train_conll.head()"
   ]
  },
  {
   "cell_type": "code",
   "execution_count": 16,
   "id": "45535efc",
   "metadata": {},
   "outputs": [
    {
     "name": "stdout",
     "output_type": "stream",
     "text": [
      "Train: \n",
      " O            61110\n",
      "I-Premise    42438\n",
      "I-Claim      14383\n",
      "B-Premise     1535\n",
      "B-Claim        729\n",
      "Name: 4, dtype: int64\n"
     ]
    }
   ],
   "source": [
    "print(\"Train: \\n\", train_conll[4].value_counts())"
   ]
  },
  {
   "cell_type": "markdown",
   "id": "363f29b8",
   "metadata": {},
   "source": [
    "        Supposed to be : B-premise = 1537, B-claim = 730 ???"
   ]
  },
  {
   "cell_type": "code",
   "execution_count": null,
   "id": "785905ab",
   "metadata": {},
   "outputs": [],
   "source": []
  },
  {
   "cell_type": "code",
   "execution_count": 17,
   "id": "639487af",
   "metadata": {},
   "outputs": [
    {
     "name": "stdout",
     "output_type": "stream",
     "text": [
      "Test: \n",
      " O            16739\n",
      "I-Premise    11931\n",
      "I-Claim       4677\n",
      "B-Premise      438\n",
      "B-Claim        248\n",
      "Name: 4, dtype: int64\n"
     ]
    }
   ],
   "source": [
    "print(\"Test: \\n\",test_conll[4].value_counts())"
   ]
  },
  {
   "cell_type": "markdown",
   "id": "d2482647",
   "metadata": {},
   "source": [
    "* Test => **Premise**: 218, **Claim**: 108 (99 + 9 (MajorClaim)) "
   ]
  },
  {
   "cell_type": "markdown",
   "id": "565b2eba",
   "metadata": {},
   "source": [
    "Should be compeletly different numbers according to the files in (.txt and .ann). \n",
    "\n",
    "***Looks like in .conll test is dev in .ann and vice versa***"
   ]
  },
  {
   "cell_type": "code",
   "execution_count": 18,
   "id": "0b4ccf70",
   "metadata": {},
   "outputs": [
    {
     "name": "stdout",
     "output_type": "stream",
     "text": [
      "Dev: \n",
      " O            9124\n",
      "I-Premise    6655\n",
      "I-Claim      2087\n",
      "B-Premise     218\n",
      "B-Claim       108\n",
      "Name: 4, dtype: int64\n"
     ]
    }
   ],
   "source": [
    "print(\"Dev: \\n\",dev_conll[4].value_counts())"
   ]
  },
  {
   "cell_type": "markdown",
   "id": "c897d723",
   "metadata": {},
   "source": [
    "**YES!** (dev, test = test, dev)\n",
    "\n",
    "* Dev => **Premise**: 438, **Claim**: 248 (228 + 20(**MajorClaim**))"
   ]
  },
  {
   "cell_type": "markdown",
   "id": "ebae3cd0",
   "metadata": {},
   "source": [
    "______________\n",
    "Dev => Premise: 218, Claim: 108 <br>\n",
    "Test => Premise: 438, Claim: 248\n",
    "______________\n"
   ]
  },
  {
   "cell_type": "markdown",
   "id": "feeb55ff",
   "metadata": {},
   "source": [
    "#### Glaucoma"
   ]
  },
  {
   "cell_type": "code",
   "execution_count": 21,
   "id": "daf5bc8c",
   "metadata": {},
   "outputs": [
    {
     "data": {
      "text/html": [
       "<div>\n",
       "<style scoped>\n",
       "    .dataframe tbody tr th:only-of-type {\n",
       "        vertical-align: middle;\n",
       "    }\n",
       "\n",
       "    .dataframe tbody tr th {\n",
       "        vertical-align: top;\n",
       "    }\n",
       "\n",
       "    .dataframe thead th {\n",
       "        text-align: right;\n",
       "    }\n",
       "</style>\n",
       "<table border=\"1\" class=\"dataframe\">\n",
       "  <thead>\n",
       "    <tr style=\"text-align: right;\">\n",
       "      <th></th>\n",
       "      <th>0</th>\n",
       "      <th>1</th>\n",
       "      <th>2</th>\n",
       "      <th>3</th>\n",
       "      <th>4</th>\n",
       "    </tr>\n",
       "  </thead>\n",
       "  <tbody>\n",
       "    <tr>\n",
       "      <th>0</th>\n",
       "      <td>1</td>\n",
       "      <td>The</td>\n",
       "      <td>_</td>\n",
       "      <td>_</td>\n",
       "      <td>O</td>\n",
       "    </tr>\n",
       "    <tr>\n",
       "      <th>1</th>\n",
       "      <td>2</td>\n",
       "      <td>aim</td>\n",
       "      <td>_</td>\n",
       "      <td>_</td>\n",
       "      <td>O</td>\n",
       "    </tr>\n",
       "    <tr>\n",
       "      <th>2</th>\n",
       "      <td>3</td>\n",
       "      <td>of</td>\n",
       "      <td>_</td>\n",
       "      <td>_</td>\n",
       "      <td>O</td>\n",
       "    </tr>\n",
       "    <tr>\n",
       "      <th>3</th>\n",
       "      <td>4</td>\n",
       "      <td>this</td>\n",
       "      <td>_</td>\n",
       "      <td>_</td>\n",
       "      <td>O</td>\n",
       "    </tr>\n",
       "    <tr>\n",
       "      <th>4</th>\n",
       "      <td>5</td>\n",
       "      <td>study</td>\n",
       "      <td>_</td>\n",
       "      <td>_</td>\n",
       "      <td>O</td>\n",
       "    </tr>\n",
       "  </tbody>\n",
       "</table>\n",
       "</div>"
      ],
      "text/plain": [
       "   0      1  2  3  4\n",
       "0  1    The  _  _  O\n",
       "1  2    aim  _  _  O\n",
       "2  3     of  _  _  O\n",
       "3  4   this  _  _  O\n",
       "4  5  study  _  _  O"
      ]
     },
     "execution_count": 21,
     "metadata": {},
     "output_type": "execute_result"
    }
   ],
   "source": [
    "gl_conll = pd.read_csv('ecai2020-transformer_based_am/data/glaucoma_test/test.conll', sep='\\t', header=None)\n",
    "gl_conll.head()"
   ]
  },
  {
   "cell_type": "code",
   "execution_count": 22,
   "id": "ab54d78d",
   "metadata": {},
   "outputs": [
    {
     "name": "stdout",
     "output_type": "stream",
     "text": [
      "Glaucoma: \n",
      " O            15919\n",
      "I-Premise    11483\n",
      "I-Claim       3357\n",
      "B-Premise      404\n",
      "B-Claim        190\n",
      "Name: 4, dtype: int64\n"
     ]
    }
   ],
   "source": [
    "print(\"Glaucoma: \\n\", gl_conll[4].value_counts())"
   ]
  },
  {
   "cell_type": "markdown",
   "id": "1cb12a0a",
   "metadata": {},
   "source": [
    "* Glaucoma test:  **Premise** -> 404; **Claim**: 190 (183 + 7 (MajorClaim))"
   ]
  },
  {
   "cell_type": "code",
   "execution_count": null,
   "id": "549d2d6b",
   "metadata": {},
   "outputs": [],
   "source": []
  },
  {
   "cell_type": "markdown",
   "id": "3dbf3107",
   "metadata": {},
   "source": [
    "#### Mixed"
   ]
  },
  {
   "cell_type": "code",
   "execution_count": 23,
   "id": "8a3f5b04",
   "metadata": {},
   "outputs": [
    {
     "data": {
      "text/html": [
       "<div>\n",
       "<style scoped>\n",
       "    .dataframe tbody tr th:only-of-type {\n",
       "        vertical-align: middle;\n",
       "    }\n",
       "\n",
       "    .dataframe tbody tr th {\n",
       "        vertical-align: top;\n",
       "    }\n",
       "\n",
       "    .dataframe thead th {\n",
       "        text-align: right;\n",
       "    }\n",
       "</style>\n",
       "<table border=\"1\" class=\"dataframe\">\n",
       "  <thead>\n",
       "    <tr style=\"text-align: right;\">\n",
       "      <th></th>\n",
       "      <th>0</th>\n",
       "      <th>1</th>\n",
       "      <th>2</th>\n",
       "      <th>3</th>\n",
       "      <th>4</th>\n",
       "    </tr>\n",
       "  </thead>\n",
       "  <tbody>\n",
       "    <tr>\n",
       "      <th>0</th>\n",
       "      <td>0</td>\n",
       "      <td>We</td>\n",
       "      <td>_</td>\n",
       "      <td>_</td>\n",
       "      <td>O</td>\n",
       "    </tr>\n",
       "    <tr>\n",
       "      <th>1</th>\n",
       "      <td>1</td>\n",
       "      <td>previously</td>\n",
       "      <td>_</td>\n",
       "      <td>_</td>\n",
       "      <td>O</td>\n",
       "    </tr>\n",
       "    <tr>\n",
       "      <th>2</th>\n",
       "      <td>2</td>\n",
       "      <td>reported</td>\n",
       "      <td>_</td>\n",
       "      <td>_</td>\n",
       "      <td>O</td>\n",
       "    </tr>\n",
       "    <tr>\n",
       "      <th>3</th>\n",
       "      <td>3</td>\n",
       "      <td>that</td>\n",
       "      <td>_</td>\n",
       "      <td>_</td>\n",
       "      <td>O</td>\n",
       "    </tr>\n",
       "    <tr>\n",
       "      <th>4</th>\n",
       "      <td>4</td>\n",
       "      <td>treatment</td>\n",
       "      <td>_</td>\n",
       "      <td>_</td>\n",
       "      <td>O</td>\n",
       "    </tr>\n",
       "  </tbody>\n",
       "</table>\n",
       "</div>"
      ],
      "text/plain": [
       "   0           1  2  3  4\n",
       "0  0          We  _  _  O\n",
       "1  1  previously  _  _  O\n",
       "2  2    reported  _  _  O\n",
       "3  3        that  _  _  O\n",
       "4  4   treatment  _  _  O"
      ]
     },
     "execution_count": 23,
     "metadata": {},
     "output_type": "execute_result"
    }
   ],
   "source": [
    "mx_conll = pd.read_csv('ecai2020-transformer_based_am/data/mixed_test/test.conll', sep='\\t', header=None)\n",
    "mx_conll.head()"
   ]
  },
  {
   "cell_type": "code",
   "execution_count": 24,
   "id": "27602ff9",
   "metadata": {},
   "outputs": [
    {
     "name": "stdout",
     "output_type": "stream",
     "text": [
      "Mixed: \n",
      " O            16015\n",
      "I-Premise    11767\n",
      "I-Claim       3942\n",
      "B-Premise      388\n",
      "B-Claim        212\n",
      "Name: 4, dtype: int64\n"
     ]
    }
   ],
   "source": [
    "print(\"Mixed: \\n\", mx_conll[4].value_counts())"
   ]
  },
  {
   "cell_type": "markdown",
   "id": "389b533e",
   "metadata": {},
   "source": [
    "* Mixed test:  **Premise**: 388, **Claim** : 212 (182 + 30 (MajorClaim))"
   ]
  },
  {
   "cell_type": "code",
   "execution_count": null,
   "id": "f3874e90",
   "metadata": {},
   "outputs": [],
   "source": []
  },
  {
   "cell_type": "markdown",
   "id": "d62f61c6",
   "metadata": {},
   "source": [
    "###### !!! Problem in neoplasm trian set "
   ]
  },
  {
   "cell_type": "code",
   "execution_count": 25,
   "id": "691b9c68",
   "metadata": {},
   "outputs": [],
   "source": [
    "def check(url):\n",
    "    check_lines = []\n",
    "    with open(url, 'r') as f:\n",
    "        lines = f.readlines()\n",
    "    #     last_line = lines[-2]\n",
    "    # print(lines[0].split('\\t')[:50])\n",
    "    for i, line in enumerate(lines[:-1]):\n",
    "        if line != '\\n':\n",
    "            _, tkn, _, _, tag = line.split('\\t')\n",
    "            \n",
    "        elif line == '\\n' and lines[i+1] != '\\n' and lines[i+1].split('\\t')[4].startswith('I-'):\n",
    "            check_lines.append(i+1)\n",
    "    return check_lines"
   ]
  },
  {
   "cell_type": "code",
   "execution_count": 28,
   "id": "87952e39",
   "metadata": {},
   "outputs": [
    {
     "data": {
      "text/plain": [
       "[]"
      ]
     },
     "execution_count": 28,
     "metadata": {},
     "output_type": "execute_result"
    }
   ],
   "source": [
    "train_check = check('ecai2020-transformer_based_am/data/neoplasm/train.conll')\n",
    "train_check"
   ]
  },
  {
   "cell_type": "code",
   "execution_count": null,
   "id": "49d76fab",
   "metadata": {},
   "outputs": [],
   "source": []
  },
  {
   "cell_type": "markdown",
   "id": "ea543d45",
   "metadata": {},
   "source": [
    "<!-- \n",
    "# train_conll[train_conll[0] == 279][train_conll[1] == '4'] \n",
    "# train_conll[train_conll[0] == 359][train_conll[1] == '0001'] # 10129\t359\t0001\t_\t_\tI-Premise\n",
    "# train_conll[train_conll[0] == 400][train_conll[1] == '0002'] # 10170\t400\t0002\t_\t_\tI-Premise\n",
    "# train_conll[train_conll[0] == 213][train_conll[1] == '93'] # 11510\t213\t93\t_\t_\tI-Premise\n",
    "# train_conll[train_conll[0] == 242][train_conll[1] == '01'] # 15080\t242\t01\t_\t_\tI-Premise\n",
    "# train_conll[train_conll[0] == 271][train_conll[1] == '004'] # 33253\t271\t004\t_\t_\tI-Premise\n",
    "# train_conll[train_conll[0] == 234][train_conll[1] == 'US'] # 34268\t234\tUS\t_\t_\tI-Premise\n",
    "# train_conll[train_conll[0] == 213][train_conll[1] == '048'] # 48940\t213\t048\t_\t_\tI-Premise\n",
    "# train_conll[train_conll[0] == 189][train_conll[1] == 'pain'] # 51615\t189\tpain\t_\t_\tI-Premise\n",
    "# train_conll[train_conll[0] == 210][train_conll[1] == '12'] # 51951\t210\t12\t_\t_\tI-Premise\n",
    "# train_conll[train_conll[0] == 232][train_conll[1] == '7'] # 51973\t232\t7\t_\t_\tI-Premise\n",
    "# train_conll[train_conll[0] == 205][train_conll[1] == 'better'] # 92762\t205\tbetter\t_\t_\tI-Premise\n",
    " -->"
   ]
  },
  {
   "cell_type": "code",
   "execution_count": 189,
   "id": "69a29f8c",
   "metadata": {},
   "outputs": [
    {
     "name": "stdout",
     "output_type": "stream",
     "text": [
      "10434\n",
      "10517\n",
      "10560\n",
      "11948\n",
      "15662\n",
      "34565\n",
      "35624\n",
      "50891\n",
      "53688\n",
      "54037\n",
      "54061\n",
      "96489\n"
     ]
    }
   ],
   "source": [
    "def find_lines(arr, data):\n",
    "    '''\n",
    "    find lines that are causing problems to find out why\n",
    "    \n",
    "    returns 10 tokens before and after the problematic line\n",
    "    '''\n",
    "    chunk = []\n",
    "    with open(data) as f:\n",
    "            lines = f.readlines()\n",
    "    for idx in arr:\n",
    "        start = idx - 10\n",
    "        end = idx + 10\n",
    "        print(start)\n",
    "        c = ''\n",
    "        for i, line in enumerate(lines): \n",
    "           \n",
    "            if i >= start and i <= end:\n",
    "                if line != '\\n':\n",
    "                    c += line.split('\\t')[1] + ' '\n",
    "        chunk.append(c)\n",
    "                    \n",
    "    return chunk\n",
    "        \n",
    "lines_to_check = find_lines(check_lines, 'ecai2020-transformer_based_am/data/neoplasm/train.conll')"
   ]
  },
  {
   "cell_type": "code",
   "execution_count": 190,
   "id": "8a0d54d6",
   "metadata": {},
   "outputs": [
    {
     "data": {
      "text/plain": [
       "['95 % CI = -9.6 % to -1 . 4 % ) per 4 weeks in the control group but ',\n",
       " '=.0002 , P =.0001 , and P = . 0001 , respectively , for ATP versus no ATP ) . ',\n",
       " '-0.2 % versus -2.4 % ; P = . 0002 ) ; functional scores ( +0.4 % versus -5.5 % ',\n",
       " '; 95 % CI , 0.61 to 0 . 93 ; P = .008 ) . Median survival was ',\n",
       " 'and nine symptoms ( .001 < P < . 01 ) , and the improvement ( > 10 units on ',\n",
       " 'responders indicated better physical well-being ( P = . 004 ) and mood ( P =.02 ) at month 3 ',\n",
       " 'patients than in the control group , i.e . US $ 40782 and US $ 34465 , respectively ( P ',\n",
       " 'survival rate , 31.8 % ; P = . 048 ) . Comparing survival for the two dose levels ',\n",
       " 'and resolved . Mean ( s.d . ) pain scores on the day of discharge were 1·9 ( 3·1 ',\n",
       " ', 16.2 v 14.7 months ; P = . 12 ) . LV5FU2 plus oxaliplatin gave higher frequencies of ',\n",
       " 'common toxicity criteria grade 3/4 neutropenia ( 41 . 7 % v 5.3 % of patients ) , grade 3/4 ',\n",
       " 'QOL ( p < 0.05 ) ( i.e . better global health status , and physical and emotional functioning , ']"
      ]
     },
     "execution_count": 190,
     "metadata": {},
     "output_type": "execute_result"
    }
   ],
   "source": [
    "lines_to_check"
   ]
  },
  {
   "cell_type": "markdown",
   "id": "54713c68",
   "metadata": {},
   "source": [
    "**One sentence** - was splitted because empty space after '.'(dot). For example: ~\". 001\" \n",
    "\n",
    "'95 % CI = -9.6 % to -1 . 4 % ) per 4 weeks in the control group but ' => ***10675381.ann***   \n",
    "'=.0002 , P =.0001 , and P = . 0001 , respectively , for ATP versus no ATP ) . ' => ***10675381.ann***   \n",
    "'-0.2 % versus -2.4 % ; P = . 0002 ) ; functional scores ( +0.4 % versus -5.5 %'  => ***10675381.ann***   \n",
    "'; 95 % CI , 0.61 to 0 . 93 ; P = .008 ) . Median survival was ' => ***15625369.ann***   \n",
    "'and nine symptoms ( .001 < ***P < . 01***) , and the improvement ( > 10 units on ' => ***10561201.ann***   \n",
    "responders indicated better physical well-being **( P = . 004 )** and mood ( P =.02 ) at month 3 => ***10561203.ann***   \n",
    "patients than in the control group , i.e . US $ 40782 and US $ 34465 , respectively ( P => ***9531327.ann***   \n",
    "survival rate , 31.8 % ; P = **. 048 )** . Comparing survival for the two dose levels => ***10653877.ann***   \n",
    "and resolved . Mean ( s.d . ) pain scores on the day of discharge were 1·9 ( 3·1 => ***23254324.ann***   \n",
    ", 16.2 v 14.7 months ; P = . 12 ) . LV5FU2 plus oxaliplatin gave higher frequencies of => ***10944126.ann***   \n",
    "common toxicity criteria grade 3/4 neutropenia ( 41 . 7 % v 5.3 % of patients ) , grade 3/4 => ***10944126.ann***  \n",
    "QOL ( p < 0.05 ) ( i.e . better global health status , and physical and emotional functioning => ***23866850.ann***  "
   ]
  },
  {
   "cell_type": "code",
   "execution_count": 196,
   "id": "1c3520e9",
   "metadata": {},
   "outputs": [
    {
     "name": "stdout",
     "output_type": "stream",
     "text": [
      "[10444, 10527, 10570, 11958, 15672, 34575, 35634, 50901, 53698, 54047, 54071, 96499]\n"
     ]
    }
   ],
   "source": [
    "# print(check_lines)"
   ]
  },
  {
   "cell_type": "markdown",
   "id": "67f36d88",
   "metadata": {},
   "source": [
    "#### Test and Dev"
   ]
  },
  {
   "cell_type": "code",
   "execution_count": 29,
   "id": "21865450",
   "metadata": {},
   "outputs": [],
   "source": [
    "test = 'ecai2020-transformer_based_am/data/neoplasm/test.conll'\n",
    "dev = 'ecai2020-transformer_based_am/data/neoplasm/dev.conll'"
   ]
  },
  {
   "cell_type": "code",
   "execution_count": 30,
   "id": "de16ca4b",
   "metadata": {},
   "outputs": [],
   "source": [
    "test_check = check(test)\n",
    "dev_check = check(dev)"
   ]
  },
  {
   "cell_type": "code",
   "execution_count": 31,
   "id": "d3dc98ea",
   "metadata": {},
   "outputs": [
    {
     "data": {
      "text/plain": [
       "[1807, 1816, 1834, 1843, 1856, 1865, 33747]"
      ]
     },
     "execution_count": 31,
     "metadata": {},
     "output_type": "execute_result"
    }
   ],
   "source": [
    "test_check"
   ]
  },
  {
   "cell_type": "code",
   "execution_count": 214,
   "id": "52871e55",
   "metadata": {},
   "outputs": [
    {
     "data": {
      "text/plain": [
       "[]"
      ]
     },
     "execution_count": 214,
     "metadata": {},
     "output_type": "execute_result"
    }
   ],
   "source": [
    "dev_check"
   ]
  },
  {
   "cell_type": "code",
   "execution_count": 216,
   "id": "9792971b",
   "metadata": {},
   "outputs": [
    {
     "name": "stdout",
     "output_type": "stream",
     "text": [
      "1797\n",
      "1806\n",
      "1824\n",
      "1833\n",
      "1846\n",
      "1855\n",
      "33737\n"
     ]
    },
    {
     "data": {
      "text/plain": [
       "['both arms , with 12 % ( postop . RCT ) and 12 % ( pre-op . RCT ) ',\n",
       " 'RCT ) and 12 % ( pre-op . RCT ) of patients , respectively , suffering from anastomotic leakage ',\n",
       " 'from anastomotic leakage , 3 % ( postop . RCT ) and 3 % ( pre-op . RCT ) ',\n",
       " 'RCT ) and 3 % ( pre-op . RCT ) from postoperative bleeding , and 6 % ( postop ',\n",
       " 'postoperative bleeding , and 6 % ( postop . RCT ) and 4 % ( pre-op . RCT ) ',\n",
       " 'RCT ) and 4 % ( pre-op . RCT ) from delayed wound healing . The patient accrual ',\n",
       " 'the 6 mg ibandronate group . I.v . ibandronate treatment leads to significant improvements in quality of life , ']"
      ]
     },
     "execution_count": 216,
     "metadata": {},
     "output_type": "execute_result"
    }
   ],
   "source": [
    "tst_find_lines = find_wrong_lines(test_check, test)\n",
    "tst_find_lines"
   ]
  },
  {
   "cell_type": "code",
   "execution_count": 217,
   "id": "f1f7e36f",
   "metadata": {},
   "outputs": [
    {
     "data": {
      "text/plain": [
       "[]"
      ]
     },
     "execution_count": 217,
     "metadata": {},
     "output_type": "execute_result"
    }
   ],
   "source": [
    "find_wrong_lines(dev_check, dev)"
   ]
  },
  {
   "cell_type": "code",
   "execution_count": null,
   "id": "615dfc14",
   "metadata": {},
   "outputs": [],
   "source": []
  },
  {
   "cell_type": "code",
   "execution_count": null,
   "id": "828a23db",
   "metadata": {},
   "outputs": [],
   "source": []
  },
  {
   "cell_type": "markdown",
   "id": "9eebffe0",
   "metadata": {},
   "source": [
    "### Glaucoma\n",
    "\n",
    "**Premise**: 404  \n",
    "**Claim**: 183   \n",
    "**MajorClaim**: 7  "
   ]
  },
  {
   "cell_type": "code",
   "execution_count": 206,
   "id": "299201e9",
   "metadata": {},
   "outputs": [
    {
     "data": {
      "text/html": [
       "<div>\n",
       "<style scoped>\n",
       "    .dataframe tbody tr th:only-of-type {\n",
       "        vertical-align: middle;\n",
       "    }\n",
       "\n",
       "    .dataframe tbody tr th {\n",
       "        vertical-align: top;\n",
       "    }\n",
       "\n",
       "    .dataframe thead th {\n",
       "        text-align: right;\n",
       "    }\n",
       "</style>\n",
       "<table border=\"1\" class=\"dataframe\">\n",
       "  <thead>\n",
       "    <tr style=\"text-align: right;\">\n",
       "      <th></th>\n",
       "      <th>0</th>\n",
       "      <th>1</th>\n",
       "      <th>2</th>\n",
       "      <th>3</th>\n",
       "      <th>4</th>\n",
       "    </tr>\n",
       "  </thead>\n",
       "  <tbody>\n",
       "    <tr>\n",
       "      <th>0</th>\n",
       "      <td>1</td>\n",
       "      <td>The</td>\n",
       "      <td>_</td>\n",
       "      <td>_</td>\n",
       "      <td>O</td>\n",
       "    </tr>\n",
       "    <tr>\n",
       "      <th>1</th>\n",
       "      <td>2</td>\n",
       "      <td>aim</td>\n",
       "      <td>_</td>\n",
       "      <td>_</td>\n",
       "      <td>O</td>\n",
       "    </tr>\n",
       "    <tr>\n",
       "      <th>2</th>\n",
       "      <td>3</td>\n",
       "      <td>of</td>\n",
       "      <td>_</td>\n",
       "      <td>_</td>\n",
       "      <td>O</td>\n",
       "    </tr>\n",
       "    <tr>\n",
       "      <th>3</th>\n",
       "      <td>4</td>\n",
       "      <td>this</td>\n",
       "      <td>_</td>\n",
       "      <td>_</td>\n",
       "      <td>O</td>\n",
       "    </tr>\n",
       "    <tr>\n",
       "      <th>4</th>\n",
       "      <td>5</td>\n",
       "      <td>study</td>\n",
       "      <td>_</td>\n",
       "      <td>_</td>\n",
       "      <td>O</td>\n",
       "    </tr>\n",
       "  </tbody>\n",
       "</table>\n",
       "</div>"
      ],
      "text/plain": [
       "   0      1  2  3  4\n",
       "0  1    The  _  _  O\n",
       "1  2    aim  _  _  O\n",
       "2  3     of  _  _  O\n",
       "3  4   this  _  _  O\n",
       "4  5  study  _  _  O"
      ]
     },
     "execution_count": 206,
     "metadata": {},
     "output_type": "execute_result"
    }
   ],
   "source": [
    "glaucoma_conll = pd.read_csv('ecai2020-transformer_based_am/data/glaucoma_test/test.conll', sep='\\t', header=None)\n",
    "glaucoma_conll.head()"
   ]
  },
  {
   "cell_type": "code",
   "execution_count": 207,
   "id": "8c26bad1",
   "metadata": {},
   "outputs": [
    {
     "name": "stdout",
     "output_type": "stream",
     "text": [
      "Glaucoma: \n",
      " O            15919\n",
      "I-Premise    11483\n",
      "I-Claim       3357\n",
      "B-Premise      404\n",
      "B-Claim        190\n",
      "Name: 4, dtype: int64\n"
     ]
    }
   ],
   "source": [
    "print(\"Glaucoma: \\n\", glaucoma_conll[4].value_counts())"
   ]
  },
  {
   "cell_type": "code",
   "execution_count": 208,
   "id": "519bd40a",
   "metadata": {},
   "outputs": [
    {
     "data": {
      "text/plain": [
       "[114, 18541, 24453, 31537]"
      ]
     },
     "execution_count": 208,
     "metadata": {},
     "output_type": "execute_result"
    }
   ],
   "source": [
    "glaucoma_check = check('ecai2020-transformer_based_am/data/glaucoma_test/test.conll')\n",
    "glaucoma_check"
   ]
  },
  {
   "cell_type": "code",
   "execution_count": 209,
   "id": "c6c672d5",
   "metadata": {},
   "outputs": [
    {
     "name": "stdout",
     "output_type": "stream",
     "text": [
      "104\n",
      "18531\n",
      "24443\n",
      "31527\n"
     ]
    },
    {
     "data": {
      "text/plain": [
       "['9.8 and 30.6 ± 9.9 mmHg , respectively . Postoperatively , mean IOPs were 11.4 ± 4.9 and 13.6 ± ',\n",
       " 'least as effective as pilocarpine 2 % t.i.d . in reducing IOP when added to eyes currently on monotherapy with ',\n",
       " 'the trabeculectomy group ( P = 0.7 ) . Mean postoperative IOP was 13.7+/-2.2 mmHg at 3 months , 14.8+/-3.3 ',\n",
       " ', 24.7 mm Hg in the medical group . Mean IOP ( both eyes ) at last follow-up was 18.2 ']"
      ]
     },
     "execution_count": 209,
     "metadata": {},
     "output_type": "execute_result"
    }
   ],
   "source": [
    "glaucoma_incorrect_lines = find_wrong_lines(glaucoma_check, 'ecai2020-transformer_based_am/data/glaucoma_test/test.conll')\n",
    "glaucoma_incorrect_lines"
   ]
  },
  {
   "cell_type": "code",
   "execution_count": null,
   "id": "b3df3d24",
   "metadata": {},
   "outputs": [],
   "source": []
  },
  {
   "cell_type": "code",
   "execution_count": null,
   "id": "e4c02c17",
   "metadata": {},
   "outputs": [],
   "source": []
  },
  {
   "cell_type": "markdown",
   "id": "b429a616",
   "metadata": {},
   "source": [
    "## Mixed"
   ]
  },
  {
   "cell_type": "code",
   "execution_count": 222,
   "id": "a17f92dc",
   "metadata": {},
   "outputs": [
    {
     "data": {
      "text/html": [
       "<div>\n",
       "<style scoped>\n",
       "    .dataframe tbody tr th:only-of-type {\n",
       "        vertical-align: middle;\n",
       "    }\n",
       "\n",
       "    .dataframe tbody tr th {\n",
       "        vertical-align: top;\n",
       "    }\n",
       "\n",
       "    .dataframe thead th {\n",
       "        text-align: right;\n",
       "    }\n",
       "</style>\n",
       "<table border=\"1\" class=\"dataframe\">\n",
       "  <thead>\n",
       "    <tr style=\"text-align: right;\">\n",
       "      <th></th>\n",
       "      <th>0</th>\n",
       "      <th>1</th>\n",
       "      <th>2</th>\n",
       "      <th>3</th>\n",
       "      <th>4</th>\n",
       "    </tr>\n",
       "  </thead>\n",
       "  <tbody>\n",
       "    <tr>\n",
       "      <th>0</th>\n",
       "      <td>0</td>\n",
       "      <td>We</td>\n",
       "      <td>_</td>\n",
       "      <td>_</td>\n",
       "      <td>O</td>\n",
       "    </tr>\n",
       "    <tr>\n",
       "      <th>1</th>\n",
       "      <td>1</td>\n",
       "      <td>previously</td>\n",
       "      <td>_</td>\n",
       "      <td>_</td>\n",
       "      <td>O</td>\n",
       "    </tr>\n",
       "    <tr>\n",
       "      <th>2</th>\n",
       "      <td>2</td>\n",
       "      <td>reported</td>\n",
       "      <td>_</td>\n",
       "      <td>_</td>\n",
       "      <td>O</td>\n",
       "    </tr>\n",
       "    <tr>\n",
       "      <th>3</th>\n",
       "      <td>3</td>\n",
       "      <td>that</td>\n",
       "      <td>_</td>\n",
       "      <td>_</td>\n",
       "      <td>O</td>\n",
       "    </tr>\n",
       "    <tr>\n",
       "      <th>4</th>\n",
       "      <td>4</td>\n",
       "      <td>treatment</td>\n",
       "      <td>_</td>\n",
       "      <td>_</td>\n",
       "      <td>O</td>\n",
       "    </tr>\n",
       "  </tbody>\n",
       "</table>\n",
       "</div>"
      ],
      "text/plain": [
       "   0           1  2  3  4\n",
       "0  0          We  _  _  O\n",
       "1  1  previously  _  _  O\n",
       "2  2    reported  _  _  O\n",
       "3  3        that  _  _  O\n",
       "4  4   treatment  _  _  O"
      ]
     },
     "execution_count": 222,
     "metadata": {},
     "output_type": "execute_result"
    }
   ],
   "source": [
    "mixed = 'ecai2020-transformer_based_am/data/mixed_test/test.conll'\n",
    "mixed_conll = pd.read_csv(mixed, sep='\\t', header=None)\n",
    "mixed_conll.head()"
   ]
  },
  {
   "cell_type": "code",
   "execution_count": 223,
   "id": "dee9f9a6",
   "metadata": {},
   "outputs": [
    {
     "data": {
      "text/plain": [
       "O            16015\n",
       "I-Premise    11767\n",
       "I-Claim       3942\n",
       "B-Premise      388\n",
       "B-Claim        212\n",
       "Name: 4, dtype: int64"
      ]
     },
     "execution_count": 223,
     "metadata": {},
     "output_type": "execute_result"
    }
   ],
   "source": [
    "mixed_conll[4].value_counts()"
   ]
  },
  {
   "cell_type": "code",
   "execution_count": 224,
   "id": "4890bc11",
   "metadata": {},
   "outputs": [
    {
     "data": {
      "text/plain": [
       "[32920]"
      ]
     },
     "execution_count": 224,
     "metadata": {},
     "output_type": "execute_result"
    }
   ],
   "source": [
    "mixed_check = check(mixed)\n",
    "mixed_check"
   ]
  },
  {
   "cell_type": "code",
   "execution_count": 225,
   "id": "a6b55bec",
   "metadata": {},
   "outputs": [
    {
     "name": "stdout",
     "output_type": "stream",
     "text": [
      "32910\n",
      "['glucose levels < 54 mg/dL by 65 % . ( 3.1 vs. 8.9 min , P < 0.001 ) . ']\n"
     ]
    }
   ],
   "source": [
    "print(find_wrong_lines(mixed_check, mixed))\n"
   ]
  },
  {
   "cell_type": "code",
   "execution_count": null,
   "id": "bba1ca6a",
   "metadata": {},
   "outputs": [],
   "source": []
  },
  {
   "cell_type": "code",
   "execution_count": null,
   "id": "54b9ba38",
   "metadata": {},
   "outputs": [],
   "source": []
  },
  {
   "cell_type": "markdown",
   "id": "e123423d",
   "metadata": {},
   "source": [
    "## Token classification results"
   ]
  },
  {
   "cell_type": "markdown",
   "id": "63971323",
   "metadata": {},
   "source": [
    "<!-- ### Results from authors\n",
    "\n",
    "<img src='./pics/result_authors_BERT.png'>\n",
    "<img src='./pics/results_fine-tune.png'>\n",
    "<img src='./pics/results_all.png'> -->"
   ]
  },
  {
   "cell_type": "code",
   "execution_count": null,
   "id": "ae1f06ce",
   "metadata": {},
   "outputs": [],
   "source": [
    "# Prev - before finding the broken sequences"
   ]
  },
  {
   "cell_type": "markdown",
   "id": "f4490a4e",
   "metadata": {},
   "source": [
    "||Neoplasm||||Glaucoma||||Mixed|||\n",
    "|-|-|-|-|-|-|-|-|-|-|-|-|\n",
    "||F1-macro|C-F1|E-F1||F1-macro|C-F1|E-F1||F1-macro|C-F1|E-F1|\n",
    "|SciBert+GRU+CRF|.84|.77|.93||.84|.82|.92||.82|.77|.91|\n",
    "|BioBert+GRU+CRF|.81|.74|.91||.84|.77|.94||.82|.78|.92|\n",
    "|Bert+GRU+CRF|.82|.72|.91||.83|.80|.89||.83|.77|.90|\n",
    "|||||||||||||\n",
    "|SciBert+LSTM+CRF|.70|.73|.90||.70|.72|.92||.69|.74|.90|\n",
    "|||||||||||||\n",
    "|mBert+LSTM+CRF|.84|.76|.92|||||||||"
   ]
  },
  {
   "cell_type": "code",
   "execution_count": null,
   "id": "6330a3fa",
   "metadata": {},
   "outputs": [],
   "source": [
    "# New - after 'fixing' broken sequences in relation components"
   ]
  },
  {
   "cell_type": "markdown",
   "id": "2e364ace",
   "metadata": {},
   "source": [
    "||Neoplasm||||Glaucoma||||Mixed|||\n",
    "|-|-|-|-|-|-|-|-|-|-|-|-|\n",
    "||F1-macro|C-F1|E-F1||F1-macro|C-F1|E-F1||F1-macro|C-F1|E-F1|\n",
    "|SciBert+GRU+CRF|.84|.76|.92||.86|.84|.92||.84|.77|.92|\n",
    "|BioBert+GRU+CRF|.85|.76|.94||.88|.85|.92||.87|.81|.93|\n",
    "|Bert+GRU+CRF|.84|.73|.93||.85|.80|.90||.84|.77|.90|\n",
    "|mBert+GRU+CRF|.84|.74|.90||.83|.77|.85||.83|.74|.89|\n",
    "|||||||||||||\n",
    "|SciBert+LSTM+CRF|.84|.75|.93||.84|.83|.92||.82|.76|.91|\n",
    "\n",
    "<!-- BioBert+LSTM+CRF|.83|.76|.93||.83|.82|.91||.82|.80|.92|\n",
    "Bert+LSTM+CRF|.84|.75|.92||.82|.79|.88||.83|.77|.90|\n",
    "mBert+LSTM+CRF|.83|.75|.89||.83|.76|.88||.83|.73|.90| -->"
   ]
  },
  {
   "cell_type": "markdown",
   "id": "281fdd3a",
   "metadata": {},
   "source": [
    "# Zero-shot\n",
    "\n",
    "||Neoplasm||||Glaucoma||||Mixed|||\n",
    "|-|-|-|-|-|-|-|-|-|-|-|-|\n",
    "||||||**Simalign**|||||\n",
    "||F1-macro|C-F1|E-F1||F1-macro|C-F1|E-F1||F1-macro|C-F1|E-F1|\n",
    "|mBERT+GRU+CRF|\n",
    "|*DeepL*|-|-|-||.73|.65|.81||.74|.65|.84|\n",
    "|*Opus*|.76|.70|.86||.74|.67|.81||.75|.69|.85|\n",
    "||||||**Awesome**|||||\n",
    "|*DeepL*|-|-|-||.69|.64|.80||.68|.63|.84|\n",
    "|*Opus*|.70|.68|.85||.70|.66|.80||.69|.68|.84|"
   ]
  },
  {
   "cell_type": "code",
   "execution_count": null,
   "id": "023c3ed8",
   "metadata": {},
   "outputs": [],
   "source": []
  },
  {
   "cell_type": "code",
   "execution_count": null,
   "id": "ae543a3d",
   "metadata": {},
   "outputs": [],
   "source": [
    "# Simalign\n",
    "# DeepL\n",
    "# glaucoma\n",
    "eval_f1_macro = 0.7330685163813109                                                         \n",
    "eval_f1_micro = 0.821646355698744                                                          \n",
    "f1_claim = 0.6463561440874156                                                              \n",
    "f1_evidence = 0.8121752041573869\n",
    "\n",
    "# mixed\n",
    "\n",
    "eval_f1_macro = 0.7388845261294309             \n",
    "eval_f1_micro = 0.8367470877270469             \n",
    "f1_claim = 0.6476654253795474                  \n",
    "f1_evidence = 0.8440443213296399\n",
    "\n",
    "# Opus\n",
    "\n",
    "eval_f1_macro = 0.7644822428729099 \n",
    "eval_f1_micro = 0.8553562123129606 \n",
    "f1_claim = 0.6960284145947692      \n",
    "f1_evidence = 0.8603749351643737\n",
    "\n",
    "# glaucoma\n",
    "eval_f1_macro = 0.7441223628398054 \n",
    "eval_f1_micro = 0.8188750370745989      \n",
    "f1_claim = 0.6680855001387989  \n",
    "f1_evidence = 0.8086816720257235 \n",
    "\n",
    "# mixed\n",
    "\n",
    "eval_f1_macro = 0.752125852927327      \n",
    "eval_f1_micro = 0.8415440553116934     \n",
    "f1_claim = 0.6909506463824012          \n",
    "f1_evidence = 0.8451670926820032 \n",
    "\n",
    "# Awesome\n",
    "#Deepl\n",
    "\n",
    "#Mixed\n",
    "eval_f1_macro = 0.6813619797048373\n",
    "eval_f1_micro = 0.8318150867700914   \n",
    "f1_claim = 0.6320421265238405          \n",
    "f1_evidence = 0.8376305332224379 \n",
    "        \n",
    "# glaucoma\n",
    "eval_f1_macro = 0.6882386736630343    \n",
    "eval_f1_micro = 0.8157818555353225    \n",
    "f1_claim = 0.6379695053923391         \n",
    "f1_evidence = 0.8032577722961766\n",
    "\n",
    "# Opus\n",
    "\n",
    "#mixed\n",
    "eval_f1_macro = 0.6939731804602616                \n",
    "eval_f1_micro = 0.8354966937322206                \n",
    "f1_claim = 0.677382319173364                                 \n",
    "f1_evidence = 0.8370890459699225 \n",
    "\n",
    "# glaucoma\n",
    "eval_f1_macro = 0.6971031397931412       \n",
    "eval_f1_micro = 0.813957270926817                               \n",
    "f1_claim = 0.658987459359034                                    \n",
    "f1_evidence = 0.8009396206716548\n",
    "\n",
    "#neoplasm\n",
    "eval_f1_macro = 0.7028230781958845                   \n",
    "eval_f1_micro = 0.8476699173676766                   \n",
    "f1_claim = 0.6802940417848853                        \n",
    "f1_evidence = 0.848349466368825\n"
   ]
  },
  {
   "cell_type": "code",
   "execution_count": null,
   "id": "43c678d5",
   "metadata": {},
   "outputs": [],
   "source": [
    "\n"
   ]
  },
  {
   "cell_type": "code",
   "execution_count": null,
   "id": "d6a28e4a",
   "metadata": {},
   "outputs": [],
   "source": [
    "# # SciBERT\n",
    "# # Neoplasm\n",
    "# eval_f1_macro = 0.8386974682145057                                   \n",
    "# eval_f1_micro = 0.908901755020807                                    \n",
    "# f1_claim = 0.7583465818759936                                        \n",
    "# f1_evidence = 0.9232906848839229    \n",
    "\n",
    "# #mixed\n",
    "\n",
    "# eval_f1_macro = 0.841540512438424       \n",
    "# eval_f1_micro = 0.9116866522508354      \n",
    "# f1_claim = 0.774116237267825            \n",
    "# f1_evidence = 0.9224381023209693 \n",
    "\n",
    "# #Glaucoma\n",
    "\n",
    "# eval_f1_macro = 0.8551391118626888    \n",
    "# eval_f1_micro = 0.9215724385918025    \n",
    "# f1_claim = 0.8381056069678824         \n",
    "# f1_evidence = 0.9183874709976799 \n",
    "\n",
    "\n",
    "# # BioBERT\n",
    "\n",
    "# # Neoplasm \n",
    "# eval_f1_macro = 0.8549175952179474    \n",
    "# eval_f1_micro = 0.9205766082338378    \n",
    "# f1_claim = 0.7593402894648267         \n",
    "# f1_evidence = 0.9420771952056604  \n",
    "\n",
    "# #Glaucoma\n",
    "# eval_f1_macro = 0.8804954993112277                         \n",
    "# eval_f1_micro = 0.925114641764073                          \n",
    "# f1_claim = 0.8520857422396159                              \n",
    "# f1_evidence = 0.9179002624671916\n",
    "\n",
    "# # Mixed\n",
    "\n",
    "# eval_f1_macro = 0.867429705150827        \n",
    "# eval_f1_micro = 0.9209362096570322      \n",
    "# f1_claim = 0.8112363274776268                   \n",
    "# f1_evidence = 0.9252932247826686   \n",
    "\n",
    "\n",
    "# # BERT\n",
    "\n",
    "# # Neoplasm\n",
    "# eval_f1_macro = 0.8354437186845217        \n",
    "# eval_f1_micro = 0.9010616953686674        \n",
    "# f1_claim = 0.7348221670802315             \n",
    "# f1_evidence = 0.9284487058693123\n",
    "\n",
    "# # Mixed\n",
    "\n",
    "# eval_f1_macro = 0.8449616853927541     \n",
    "# eval_f1_micro = 0.9000343981979783     \n",
    "# f1_claim = 0.7721152207260951          \n",
    "# f1_evidence = 0.9035696793338903  \n",
    "\n",
    "# # Glaucoma\n",
    "\n",
    "# eval_f1_macro = 0.8452278803658868     \n",
    "# eval_f1_micro = 0.9027378545275697     \n",
    "# f1_claim = 0.7998094330633635          \n",
    "# f1_evidence = 0.8968083127375163 \n",
    "\n",
    "# # mBERT\n",
    "\n",
    "\n",
    "# # Neoplasm\n",
    "# eval_f1_macro = 0.8396294626651172\n",
    "# eval_f1_micro = 0.8851769464105157\n",
    "# f1_claim = 0.7405164169588777    \n",
    "# f1_evidence = 0.9030980790839531 \n",
    "\n",
    "# # Glaucoma\n",
    "# eval_f1_macro = 0.8311648001332655        \n",
    "# eval_f1_micro = 0.8659723115168659        \n",
    "# f1_claim = 0.7743055555555556             \n",
    "# f1_evidence = 0.8501562787277073\n",
    "\n",
    "# # Mixed\n",
    "# eval_f1_macro = 0.8255204466482781                                           \n",
    "# eval_f1_micro = 0.8847666378565255             \n",
    "# f1_claim = 0.741614214006852                   \n",
    "# f1_evidence = 0.8899402951447561 \n",
    "\n",
    "\n"
   ]
  },
  {
   "cell_type": "code",
   "execution_count": null,
   "id": "be16f94d",
   "metadata": {},
   "outputs": [],
   "source": [
    "# --------Prev---------\n",
    "# # SciBERT\n",
    "\n",
    "# #Neoplasm\n",
    "\n",
    "# eval_f1_macro = 0.7034976018232387                    \n",
    "# eval_f1_micro = 0.8956501420437076                    \n",
    "# f1_claim = 0.7287622439893144                         \n",
    "# f1_evidence = 0.9063168310511028  \n",
    "\n",
    "# #Mixed\n",
    "\n",
    "# eval_f1_macro = 0.693848607690201                                            \n",
    "# eval_f1_micro = 0.895664988333538                                            \n",
    "# f1_claim = 0.7351050561258755                                                \n",
    "# f1_evidence = 0.904653312788906  \n",
    "\n",
    "# #Glaucoma\n",
    "# eval_f1_macro = 0.7029332753067948                                              \n",
    "# eval_f1_micro = 0.8993804549360104                                              \n",
    "# f1_claim = 0.7180550320392008                                                   \n",
    "# f1_evidence = 0.9219492641585065  \n",
    "\n",
    "\n",
    "# #mBERT\n",
    " \n",
    "# # Neoplasm\n",
    "# eval_f1_macro = 0.7034976018232387\n",
    "# eval_f1_micro = 0.8956501420437076\n",
    "# f1_claim = 0.7287622439893144\n",
    "# f1_evidence = 0.9063168310511028\n",
    "\n",
    "# #Mixed\n",
    "# eval_f1_macro = 0.693848607690201\n",
    "# eval_f1_micro = 0.895664988333538\n",
    "# f1_claim = 0.7351050561258755\n",
    "# f1_evidence = 0.904653312788906\n",
    "\n",
    "# # Glaucoma\n",
    "# eval_f1_macro = 0.6935133045360525\n",
    "# eval_f1_micro = 0.9008886514835138\n",
    "# f1_claim = 0.7631375152118596\n",
    "# f1_evidence = 0.8985923585176673\n",
    "\n",
    "\n",
    "# #mBert + GRU\n",
    "# #Neoplasm\n",
    "# eval_f1_macro = 0.8515126074714842\n",
    "# eval_f1_micro = 0.9061463809138698\n",
    "# f1_claim = 0.7587429492344883\n",
    "# f1_evidence = 0.9302527389087754\n",
    "\n",
    "# # Glaucoma\n",
    "# eval_f1_macro = 0.844534075497075\n",
    "# eval_f1_micro = 0.8890910647771546\n",
    "# f1_claim = 0.7966230316827927\n",
    "# f1_evidence = 0.8722666593868582\n",
    "\n",
    "# # Mixed\n",
    "# eval_f1_macro = 0.8371631163105483\n",
    "# eval_f1_micro = 0.8970581882586721\n",
    "# f1_claim = 0.7504187604690117\n",
    "# f1_evidence = 0.9030445501978097\n"
   ]
  },
  {
   "cell_type": "code",
   "execution_count": null,
   "id": "a53b0bd1",
   "metadata": {},
   "outputs": [],
   "source": []
  },
  {
   "cell_type": "markdown",
   "id": "9083766c",
   "metadata": {},
   "source": [
    "## Translations and Projections\n"
   ]
  },
  {
   "cell_type": "markdown",
   "id": "5703cfa6",
   "metadata": {},
   "source": [
    "\n",
    "* DeepL\n",
    "* Opus\n",
    "* Mixed\n"
   ]
  },
  {
   "cell_type": "markdown",
   "id": "ac2af388",
   "metadata": {},
   "source": [
    "### IAA"
   ]
  },
  {
   "cell_type": "code",
   "execution_count": 34,
   "id": "978a0539",
   "metadata": {},
   "outputs": [
    {
     "name": "stdout",
     "output_type": "stream",
     "text": [
      "0.2817337461300309\n"
     ]
    }
   ],
   "source": [
    "import sklearn\n",
    "from sklearn.metrics import cohen_kappa_score\n",
    "\n",
    "# ann1 = [5,3,5,3,3,3,3,3,1,3,3,3,3,3,3,3,3,3,3,3,3,1,3,3,3,3,1,3,3]\n",
    "# ann2 =[3,3,1,3,3,3,3,3,5,3,3,5,3,3,2,3,1=3,3,3,5,3,5,3=5,3,3,3,1=2=4=5,3,3]\n",
    "\n",
    "\n",
    "ann1 = [2,3,5,3,3,3,3,3,1,3,3,3,3,3,3,3,3,3,3,3,3,1,3,3,3,3,1,3,3]\n",
    "ann2 = [3,3,1,3,3,3,3,3,5,3,3,5,3,3,2,3,1,3,3,5,3,5,3,3,3,3,1,3,3]\n",
    "print(cohen_kappa_score(ann1, ann2))\n",
    "\n"
   ]
  },
  {
   "cell_type": "markdown",
   "id": "7f1543dc",
   "metadata": {},
   "source": []
  },
  {
   "cell_type": "markdown",
   "id": "be6244db",
   "metadata": {},
   "source": [
    "#### Neoplasm \n",
    "   * train - 4405 lines\n",
    "   * test - 1251 lines\n",
    "   * dev - 679 lines\n",
    "\n",
    "#### Glaucoma\n",
    "   * test - 1247 lines\n",
    "\n",
    "#### Mixed\n",
    "   * test - 1148 lines\n",
    "   "
   ]
  },
  {
   "cell_type": "markdown",
   "id": "dad09e31",
   "metadata": {},
   "source": [
    "||train|dev|neoplasm|glaucoma|mixed|\n",
    "|-|-|-|-|-|-|\n",
    "|**DeepL**|✅|✅|-|✅|✅|\n",
    "|**Opus-mt**|✅|✅|✅|✅|✅|\n",
    "|**m2m_100**||✅|✅|-|-|\n",
    "\n"
   ]
  },
  {
   "cell_type": "markdown",
   "id": "42246052",
   "metadata": {},
   "source": [
    "## Projections"
   ]
  },
  {
   "cell_type": "markdown",
   "id": "8a4bd282",
   "metadata": {},
   "source": [
    "||train|dev|neoplasm|glaucoma|mixed|\n",
    "|-|-|-|-|-|-|\n",
    "|**DeepL**|\n",
    "|simalign|-|-|-|✅|✅|\n",
    "|awesome|-|-|-|✅|✅|\n",
    "|**Opus**|\n",
    "|simalign|-|-|✅|✅|✅|\n",
    "|awesome|-|-|✅|✅|✅|\n",
    "|**m2m_100**|\n",
    "|simalign|-|-|-|-|-|\n",
    "|awesome|-|-|-|-|-|\n",
    "\n",
    "\n"
   ]
  },
  {
   "cell_type": "code",
   "execution_count": null,
   "id": "48fabe46",
   "metadata": {},
   "outputs": [],
   "source": []
  }
 ],
 "metadata": {
  "kernelspec": {
   "display_name": "Python 3 (ipykernel)",
   "language": "python",
   "name": "python3"
  },
  "language_info": {
   "codemirror_mode": {
    "name": "ipython",
    "version": 3
   },
   "file_extension": ".py",
   "mimetype": "text/x-python",
   "name": "python",
   "nbconvert_exporter": "python",
   "pygments_lexer": "ipython3",
   "version": "3.8.12"
  }
 },
 "nbformat": 4,
 "nbformat_minor": 5
}
